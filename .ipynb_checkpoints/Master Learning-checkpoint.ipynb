{
 "cells": [
  {
   "cell_type": "code",
   "execution_count": 1,
   "metadata": {},
   "outputs": [],
   "source": [
    "import numpy as np\n",
    "import pandas as pd\n",
    "import matplotlib.pyplot as plt"
   ]
  },
  {
   "cell_type": "code",
   "execution_count": 3,
   "metadata": {},
   "outputs": [],
   "source": [
    "wage = 89.84"
   ]
  },
  {
   "cell_type": "code",
   "execution_count": 5,
   "metadata": {},
   "outputs": [
    {
     "name": "stdout",
     "output_type": "stream",
     "text": [
      "The data type of variable x variable is <class 'float'>\n"
     ]
    }
   ],
   "source": [
    "print(\"The data type of variable x variable is\", type(wage))"
   ]
  },
  {
   "cell_type": "markdown",
   "metadata": {},
   "source": [
    "#### F-String"
   ]
  },
  {
   "cell_type": "code",
   "execution_count": 9,
   "metadata": {},
   "outputs": [],
   "source": [
    "x= 99999\n",
    "y= '89988'"
   ]
  },
  {
   "cell_type": "code",
   "execution_count": 11,
   "metadata": {},
   "outputs": [
    {
     "name": "stdout",
     "output_type": "stream",
     "text": [
      "we had about peep chickens on the leek lawns\n"
     ]
    }
   ],
   "source": [
    "print(f'we had about {x} chickens on the {y} lawns')"
   ]
  },
  {
   "cell_type": "markdown",
   "metadata": {},
   "source": [
    "### *Task 1*"
   ]
  },
  {
   "cell_type": "code",
   "execution_count": 20,
   "metadata": {},
   "outputs": [],
   "source": [
    "original_price = 10\n",
    "current_price = 15\n",
    "increase = current_price - original_price\n",
    "percent_increase = (increase/original_price)*100"
   ]
  },
  {
   "cell_type": "code",
   "execution_count": 21,
   "metadata": {},
   "outputs": [
    {
     "name": "stdout",
     "output_type": "stream",
     "text": [
      "10\n",
      "15\n",
      "5\n",
      "50.0\n"
     ]
    }
   ],
   "source": [
    "print(original_price)\n",
    "print(current_price)\n",
    "print(increase)\n",
    "print(percent_increase)"
   ]
  },
  {
   "cell_type": "code",
   "execution_count": 23,
   "metadata": {},
   "outputs": [
    {
     "name": "stdout",
     "output_type": "stream",
     "text": [
      "Apple's original stock price was $10\n",
      "Apple's current stock price is $15\n",
      "Apple increased it's price by $5\n",
      "Apple increased it's price by 50.0%\n"
     ]
    }
   ],
   "source": [
    "print(f\"Apple's original stock price was ${original_price}\")\n",
    "\n",
    "print(f\"Apple's current stock price is ${current_price}\")\n",
    "\n",
    "print(f\"Apple increased it's price by ${increase}\")\n",
    "\n",
    "print(f\"Apple increased it's price by {percent_increase}%\")"
   ]
  },
  {
   "cell_type": "markdown",
   "metadata": {},
   "source": [
    "<br>"
   ]
  },
  {
   "cell_type": "markdown",
   "metadata": {},
   "source": [
    " ## Conditionals"
   ]
  },
  {
   "cell_type": "markdown",
   "metadata": {},
   "source": [
    "if , else , elif etc."
   ]
  },
  {
   "cell_type": "code",
   "execution_count": 25,
   "metadata": {},
   "outputs": [
    {
     "name": "stdout",
     "output_type": "stream",
     "text": [
      "Bring an umbrella!\n"
     ]
    }
   ],
   "source": [
    "is_raining = True\n",
    "if is_raining:\n",
    "    print(\"Bring an umbrella!\")\n",
    "else:\n",
    "    print(\"leave at home!\")"
   ]
  },
  {
   "cell_type": "markdown",
   "metadata": {},
   "source": [
    "#### *the double '==' checks whether it is equal or NOT equal, 1 '=' assigns a variable a value*"
   ]
  },
  {
   "cell_type": "code",
   "execution_count": 26,
   "metadata": {},
   "outputs": [],
   "source": [
    "x=5 # DEFINE \n",
    "if x==1: #THIS CHECKS\n",
    "    print(\"x is equal to 1\")"
   ]
  },
  {
   "cell_type": "markdown",
   "metadata": {},
   "source": [
    "It didn't print, because x wasn't equal to 1\n"
   ]
  },
  {
   "cell_type": "code",
   "execution_count": 28,
   "metadata": {},
   "outputs": [
    {
     "name": "stdout",
     "output_type": "stream",
     "text": [
      "y is equal to 9\n"
     ]
    }
   ],
   "source": [
    "y=9 # DEFINE \n",
    "if y==9: #THIS CHECKS\n",
    "    print(\"y is equal to 9\")"
   ]
  },
  {
   "cell_type": "code",
   "execution_count": 30,
   "metadata": {},
   "outputs": [
    {
     "name": "stdout",
     "output_type": "stream",
     "text": [
      "z aint equal to taht number ^^\n"
     ]
    }
   ],
   "source": [
    "z = 10\n",
    "if z != 3929329:\n",
    "    print('z aint equal to taht number ^^')"
   ]
  },
  {
   "cell_type": "markdown",
   "metadata": {},
   "source": [
    "Double condition"
   ]
  },
  {
   "cell_type": "code",
   "execution_count": 31,
   "metadata": {},
   "outputs": [
    {
     "name": "stdout",
     "output_type": "stream",
     "text": [
      "both are true\n"
     ]
    }
   ],
   "source": [
    "x = 1\n",
    "y = 10\n",
    "if x==1 and y < 11:\n",
    "    print('both are true')"
   ]
  },
  {
   "cell_type": "markdown",
   "metadata": {},
   "source": [
    "#### Elif - Nested // if else"
   ]
  },
  {
   "cell_type": "code",
   "execution_count": 41,
   "metadata": {},
   "outputs": [],
   "source": [
    "x = 12\n",
    "y = 9"
   ]
  },
  {
   "cell_type": "markdown",
   "metadata": {},
   "source": [
    "elif is essentially just another chance at \"guessing\" or trying to find the target, e.g. y ==5 in this case."
   ]
  },
  {
   "cell_type": "code",
   "execution_count": 42,
   "metadata": {},
   "outputs": [
    {
     "name": "stdout",
     "output_type": "stream",
     "text": [
      "nah mate nothings workin' here\n"
     ]
    }
   ],
   "source": [
    "if x<10:\n",
    "    #These below are only operating because x is less than 10, otherwise we go to the last \"else\".\n",
    "    if y<5:\n",
    "        print(\"x is less than 10 and y is less than 5\") # only printed bc x is less than 10\n",
    "    elif y==5:\n",
    "        print(\"x is less than 10 and y is equal to 5\") # otherwise, x is less than 10 still, but print if y=5\n",
    "    else:\n",
    "        print(\"x is less than 10 and y is greater than 5\")\n",
    "        \n",
    "else:\n",
    "    print(\"nah mate nothings workin' here\")"
   ]
  },
  {
   "cell_type": "markdown",
   "metadata": {},
   "source": [
    "<br><br>"
   ]
  },
  {
   "cell_type": "markdown",
   "metadata": {},
   "source": [
    "*Examples*"
   ]
  },
  {
   "cell_type": "code",
   "execution_count": 45,
   "metadata": {},
   "outputs": [
    {
     "name": "stdout",
     "output_type": "stream",
     "text": [
      "Oooo needs some work\n"
     ]
    }
   ],
   "source": [
    "# 1.\n",
    "x = 5\n",
    "y = 10\n",
    "if 2 * x > y:\n",
    "    print(\"Question 1 works!\")\n",
    "else:\n",
    "    print(\"Oooo needs some work\")\n"
   ]
  },
  {
   "cell_type": "code",
   "execution_count": 46,
   "metadata": {},
   "outputs": [
    {
     "name": "stdout",
     "output_type": "stream",
     "text": [
      "Question 2 works!\n"
     ]
    }
   ],
   "source": [
    "# 2.\n",
    "x = 5\n",
    "y = 10\n",
    "if len(\"Dog\") < x:\n",
    "    print(\"Question 2 works!\")\n",
    "else:\n",
    "    print(\"Still missing out\")"
   ]
  },
  {
   "cell_type": "code",
   "execution_count": 47,
   "metadata": {},
   "outputs": [
    {
     "name": "stdout",
     "output_type": "stream",
     "text": [
      "You are of drinking age!\n"
     ]
    }
   ],
   "source": [
    "# 3.\n",
    "age = 21\n",
    "if age > 20:\n",
    "    print(\"You are of drinking age!\")\n",
    "else:\n",
    "    print(\"Argggggh! You think you can hoodwink me, matey?! You're too young to drink!\")"
   ]
  },
  {
   "cell_type": "markdown",
   "metadata": {},
   "source": [
    "#### ** is \"exponential\""
   ]
  },
  {
   "cell_type": "code",
   "execution_count": 49,
   "metadata": {},
   "outputs": [
    {
     "name": "stdout",
     "output_type": "stream",
     "text": [
      "GOT QUESTION 4!\n"
     ]
    }
   ],
   "source": [
    "# 4.\n",
    "x = 2\n",
    "y = 5\n",
    "if (x ** 3 >= y) and (y ** 2 < 26):\n",
    "    print(\"GOT QUESTION 4!\")\n",
    "else:\n",
    "    print(\"Oh good you can count\")\n"
   ]
  },
  {
   "cell_type": "markdown",
   "metadata": {},
   "source": [
    "#### <font color=red> Using booleans and if/elif/else: </font>"
   ]
  },
  {
   "cell_type": "markdown",
   "metadata": {},
   "source": [
    "The reason the 3rd elif worked is the 2nd \"or\" statement. Simply putting (adult_permission) just means that it has to be true and the condition is met.\n",
    "<br><br> - That's why in the example with the instructor we had a \"if statement\" start with: <font color=red>  if accident: </font> , and the accident was simply just whether it was true or false"
   ]
  },
  {
   "cell_type": "code",
   "execution_count": 51,
   "metadata": {},
   "outputs": [
    {
     "name": "stdout",
     "output_type": "stream",
     "text": [
      "Can ride bumper cars\n"
     ]
    }
   ],
   "source": [
    "# 5.\n",
    "height = 66\n",
    "age = 16\n",
    "adult_permission = True\n",
    "\n",
    "if (height > 70) and (age >= 18):\n",
    "    print(\"Can ride all the roller coasters\")\n",
    "elif (height > 65) and (age >= 18):\n",
    "    print(\"Can ride moderate roller coasters\")\n",
    "elif (height > 60) and (age >= 18):\n",
    "    print(\"Can ride light roller coasters\")\n",
    "elif ((height > 50) and (age >= 18)) or ((adult_permission) and (height > 50)):\n",
    "    print(\"Can ride bumper cars\")\n",
    "else:\n",
    "    print(\"Stick to lazy river\")\n"
   ]
  },
  {
   "cell_type": "markdown",
   "metadata": {},
   "source": [
    "<br>"
   ]
  },
  {
   "cell_type": "markdown",
   "metadata": {},
   "source": [
    "#### <font color=red> For loops </font>"
   ]
  },
  {
   "cell_type": "code",
   "execution_count": 53,
   "metadata": {},
   "outputs": [
    {
     "name": "stdout",
     "output_type": "stream",
     "text": [
      "t\n",
      "e\n",
      "l\n",
      "e\n"
     ]
    }
   ],
   "source": [
    "word = \"tele\"\n",
    "for letters in word:\n",
    "    print(letters)"
   ]
  },
  {
   "cell_type": "markdown",
   "metadata": {},
   "source": [
    "##### it breaks at 5 , because its met its condition of equally \"pop\", which is 5"
   ]
  },
  {
   "cell_type": "code",
   "execution_count": 60,
   "metadata": {},
   "outputs": [
    {
     "name": "stdout",
     "output_type": "stream",
     "text": [
      "0\n",
      "1\n",
      "2\n",
      "3\n",
      "4\n"
     ]
    }
   ],
   "source": [
    "pop = 5\n",
    "for x in range(10):\n",
    "    if x==pop:\n",
    "        break\n",
    "    print(x)"
   ]
  },
  {
   "cell_type": "markdown",
   "metadata": {},
   "source": [
    "\"continue\" skips the 5.... \"continue\" means don't print the 5, but keep going"
   ]
  },
  {
   "cell_type": "code",
   "execution_count": 61,
   "metadata": {},
   "outputs": [
    {
     "name": "stdout",
     "output_type": "stream",
     "text": [
      "0\n",
      "1\n",
      "2\n",
      "3\n",
      "4\n",
      "6\n",
      "7\n",
      "8\n",
      "9\n"
     ]
    }
   ],
   "source": [
    "pop = 5\n",
    "for x in range(10):\n",
    "    if x==pop:\n",
    "        continue\n",
    "    print(x)"
   ]
  },
  {
   "cell_type": "code",
   "execution_count": 63,
   "metadata": {},
   "outputs": [
    {
     "name": "stdout",
     "output_type": "stream",
     "text": [
      "f\n",
      "i\n",
      "n\n",
      "t\n",
      "e\n",
      "c\n",
      "h\n",
      "\n",
      "What does that spell?!\n",
      "fintech!\n",
      "Woohoo! Go fintech!\n",
      "*\\O/**\\O/**\\O/*\n",
      "ヘ( ^o^)ノ＼(^_^ )\n"
     ]
    }
   ],
   "source": [
    "# Create a variable named cheer and give it a word to cheer (i.e. Python or FinTech)\n",
    "cheer = \"fintech\"\n",
    "\n",
    "# Below strings can be used to add fun\n",
    "cheer_symbol = \"*\\O/*\"\n",
    "cheer_symbol_2 = \"ヘ( ^o^)ノ＼(^_^ )\"\n",
    "\n",
    "# Loop through string and print each letter with a cheer\n",
    "for symbols in cheer:\n",
    "    print(symbols)\n",
    "\n",
    "\n",
    "# Print excitement to screen\n",
    "print(\"\\nWhat does that spell?!\")\n",
    "print(cheer + \"!\\nWoohoo! Go \" + cheer + \"!\")\n",
    "print(cheer_symbol * 3)\n",
    "print(cheer_symbol_2)\n"
   ]
  },
  {
   "cell_type": "markdown",
   "metadata": {},
   "source": [
    "<br>"
   ]
  },
  {
   "cell_type": "markdown",
   "metadata": {},
   "source": [
    "#### <font color=orange> Final challenge </font>"
   ]
  },
  {
   "cell_type": "code",
   "execution_count": 79,
   "metadata": {},
   "outputs": [],
   "source": [
    "original_price = 10\n",
    "current_price = 15\n",
    "increase = current_price - original_price\n",
    "percent_increase = (increase/original_price)*100\n",
    "recommendation = \"buy\"\n",
    "threshold_to_buy = 12"
   ]
  },
  {
   "cell_type": "code",
   "execution_count": 92,
   "metadata": {},
   "outputs": [
    {
     "name": "stdout",
     "output_type": "stream",
     "text": [
      "$10 is the original price\n",
      "$15 is the current price\n",
      "50.0% is the percentage increase\n"
     ]
    }
   ],
   "source": [
    "print(f'${original_price} is the original price')\n",
    "print(f'${current_price} is the current price')\n",
    "print(f'{percent_increase}% is the percentage increase')"
   ]
  },
  {
   "cell_type": "code",
   "execution_count": 106,
   "metadata": {},
   "outputs": [],
   "source": [
    "balance = 10000"
   ]
  },
  {
   "cell_type": "code",
   "execution_count": 107,
   "metadata": {},
   "outputs": [
    {
     "name": "stdout",
     "output_type": "stream",
     "text": [
      "Recommendation: dont buy\n"
     ]
    }
   ],
   "source": [
    "if balance > 5*current_price:\n",
    "    if (1+percent_increase)*original_price > threshold_to_buy:\n",
    "        print(\"Recommendation: dont \" + recommendation)\n",
    "\n",
    "    elif (1+percent_increase)*original_price < threshold_to_buy:\n",
    "        print(\"Recommendation: \" + recommendation)\n",
    "        \n",
    "else:\n",
    "    print('no trading')"
   ]
  },
  {
   "cell_type": "markdown",
   "metadata": {},
   "source": [
    "### In the example they give they use thresold directionally... as in threshold to buy was -10, meaning it'd have to fall atleast $10."
   ]
  },
  {
   "cell_type": "code",
   "execution_count": 108,
   "metadata": {},
   "outputs": [
    {
     "ename": "SyntaxError",
     "evalue": "invalid syntax (<ipython-input-108-e512288cb668>, line 5)",
     "output_type": "error",
     "traceback": [
      "\u001b[0;36m  File \u001b[0;32m\"<ipython-input-108-e512288cb668>\"\u001b[0;36m, line \u001b[0;32m5\u001b[0m\n\u001b[0;31m    elif percent_increase = current_price:\u001b[0m\n\u001b[0m                          ^\u001b[0m\n\u001b[0;31mSyntaxError\u001b[0m\u001b[0;31m:\u001b[0m invalid syntax\n"
     ]
    }
   ],
   "source": [
    "if percent_increases >= thresold_to_sell:\n",
    "    recommendation = \"sell\"\n",
    "elif percent_increase <= threshold_to_buy:\n",
    "    recommendation = \"buy\"\n",
    "elif percent_increase = current_price:\n",
    "    recommendation = \"hold\"\n",
    "    \n",
    "    print(\"Recommendation: \" + recommendation)"
   ]
  },
  {
   "cell_type": "code",
   "execution_count": null,
   "metadata": {},
   "outputs": [],
   "source": [
    "if "
   ]
  },
  {
   "cell_type": "code",
   "execution_count": 72,
   "metadata": {},
   "outputs": [
    {
     "name": "stdout",
     "output_type": "stream",
     "text": [
      "this stock isnt a buy yet\n"
     ]
    }
   ],
   "source": [
    "print(\"Recommendation: \" + recommendation)\n",
    "print()\n",
    "\n",
    "recommendation = \"buy\"\n",
    "\n",
    "\n"
   ]
  },
  {
   "cell_type": "code",
   "execution_count": null,
   "metadata": {},
   "outputs": [],
   "source": [
    "\"\"\"\n",
    "Conditionally Yours\n",
    "\n",
    "Pseudocode:\n",
    "\n",
    "\n",
    "\"\"\"\n",
    "\n",
    "# Increase = Current Price - Original Price\n",
    "# Percent Increase = Increase / Original x 100\n",
    "\n",
    "# Create integer variable for original_price\n",
    "\n",
    "\n",
    "# Create integer variable for current_price\n",
    "\n",
    "\n",
    "# Create float for threshold_to_buy\n",
    "\n",
    "\n",
    "# Create float for threshold_to_sell\n",
    "\n",
    "\n",
    "# Create float for portfolio balance\n",
    "\n",
    "\n",
    "# Create float for balance check\n",
    "\n",
    "\n",
    "# Create string for recommendation, default will be buy\n",
    "recommendation = \"buy\"\n",
    "\n",
    "# Calculate difference between current_price and original_price\n",
    "\n",
    "\n",
    "# Calculate percent increase\n",
    "\n",
    "\n",
    "# Print original_price\n",
    "print(f\"Netflix's original stock price was ${original_price}\")\n",
    "\n",
    "# Print current_price\n",
    "\n",
    "\n",
    "# Print percent increase\n",
    "\n",
    "\n",
    "# Determine if stock should be bought or sold\n",
    "\n",
    "\n",
    "# Print recommendation\n",
    "print(\"Recommendation: \" + recommendation)\n",
    "print()\n"
   ]
  }
 ],
 "metadata": {
  "kernelspec": {
   "display_name": "Python 3",
   "language": "python",
   "name": "python3"
  },
  "language_info": {
   "codemirror_mode": {
    "name": "ipython",
    "version": 3
   },
   "file_extension": ".py",
   "mimetype": "text/x-python",
   "name": "python",
   "nbconvert_exporter": "python",
   "pygments_lexer": "ipython3",
   "version": "3.8.5"
  }
 },
 "nbformat": 4,
 "nbformat_minor": 4
}
