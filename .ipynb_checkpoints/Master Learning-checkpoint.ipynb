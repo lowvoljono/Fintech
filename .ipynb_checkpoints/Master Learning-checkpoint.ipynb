{
 "cells": [
  {
   "cell_type": "code",
   "execution_count": 64,
   "metadata": {},
   "outputs": [],
   "source": [
    "import numpy as np\n",
    "import pandas as pd\n",
    "import matplotlib.pyplot as plt\n",
    "import math"
   ]
  },
  {
   "cell_type": "markdown",
   "metadata": {},
   "source": [
    "# WEEK 2"
   ]
  },
  {
   "cell_type": "code",
   "execution_count": 3,
   "metadata": {},
   "outputs": [],
   "source": [
    "wage = 89.84"
   ]
  },
  {
   "cell_type": "code",
   "execution_count": 5,
   "metadata": {},
   "outputs": [
    {
     "name": "stdout",
     "output_type": "stream",
     "text": [
      "The data type of variable x variable is <class 'float'>\n"
     ]
    }
   ],
   "source": [
    "print(\"The data type of variable x variable is\", type(wage))"
   ]
  },
  {
   "cell_type": "markdown",
   "metadata": {},
   "source": [
    "#### F-String"
   ]
  },
  {
   "cell_type": "code",
   "execution_count": 9,
   "metadata": {},
   "outputs": [],
   "source": [
    "x= 99999\n",
    "y= '89988'"
   ]
  },
  {
   "cell_type": "code",
   "execution_count": 11,
   "metadata": {},
   "outputs": [
    {
     "name": "stdout",
     "output_type": "stream",
     "text": [
      "we had about peep chickens on the leek lawns\n"
     ]
    }
   ],
   "source": [
    "print(f'we had about {x} chickens on the {y} lawns')"
   ]
  },
  {
   "cell_type": "markdown",
   "metadata": {},
   "source": [
    "### *Task 1*"
   ]
  },
  {
   "cell_type": "code",
   "execution_count": 20,
   "metadata": {},
   "outputs": [],
   "source": [
    "original_price = 10\n",
    "current_price = 15\n",
    "increase = current_price - original_price\n",
    "percent_increase = (increase/original_price)*100"
   ]
  },
  {
   "cell_type": "code",
   "execution_count": 21,
   "metadata": {},
   "outputs": [
    {
     "name": "stdout",
     "output_type": "stream",
     "text": [
      "10\n",
      "15\n",
      "5\n",
      "50.0\n"
     ]
    }
   ],
   "source": [
    "print(original_price)\n",
    "print(current_price)\n",
    "print(increase)\n",
    "print(percent_increase)"
   ]
  },
  {
   "cell_type": "code",
   "execution_count": 23,
   "metadata": {},
   "outputs": [
    {
     "name": "stdout",
     "output_type": "stream",
     "text": [
      "Apple's original stock price was $10\n",
      "Apple's current stock price is $15\n",
      "Apple increased it's price by $5\n",
      "Apple increased it's price by 50.0%\n"
     ]
    }
   ],
   "source": [
    "print(f\"Apple's original stock price was ${original_price}\")\n",
    "\n",
    "print(f\"Apple's current stock price is ${current_price}\")\n",
    "\n",
    "print(f\"Apple increased it's price by ${increase}\")\n",
    "\n",
    "print(f\"Apple increased it's price by {percent_increase}%\")"
   ]
  },
  {
   "cell_type": "markdown",
   "metadata": {},
   "source": [
    "<br>"
   ]
  },
  {
   "cell_type": "markdown",
   "metadata": {},
   "source": [
    " ## Conditionals"
   ]
  },
  {
   "cell_type": "markdown",
   "metadata": {},
   "source": [
    "if , else , elif etc."
   ]
  },
  {
   "cell_type": "code",
   "execution_count": 25,
   "metadata": {},
   "outputs": [
    {
     "name": "stdout",
     "output_type": "stream",
     "text": [
      "Bring an umbrella!\n"
     ]
    }
   ],
   "source": [
    "is_raining = True\n",
    "if is_raining:\n",
    "    print(\"Bring an umbrella!\")\n",
    "else:\n",
    "    print(\"leave at home!\")"
   ]
  },
  {
   "cell_type": "markdown",
   "metadata": {},
   "source": [
    "#### *the double '==' checks whether it is equal or NOT equal, 1 '=' assigns a variable a value*"
   ]
  },
  {
   "cell_type": "code",
   "execution_count": 26,
   "metadata": {},
   "outputs": [],
   "source": [
    "x=5 # DEFINE \n",
    "if x==1: #THIS CHECKS\n",
    "    print(\"x is equal to 1\")"
   ]
  },
  {
   "cell_type": "markdown",
   "metadata": {},
   "source": [
    "It didn't print, because x wasn't equal to 1\n"
   ]
  },
  {
   "cell_type": "code",
   "execution_count": 28,
   "metadata": {},
   "outputs": [
    {
     "name": "stdout",
     "output_type": "stream",
     "text": [
      "y is equal to 9\n"
     ]
    }
   ],
   "source": [
    "y=9 # DEFINE \n",
    "if y==9: #THIS CHECKS\n",
    "    print(\"y is equal to 9\")"
   ]
  },
  {
   "cell_type": "code",
   "execution_count": 30,
   "metadata": {},
   "outputs": [
    {
     "name": "stdout",
     "output_type": "stream",
     "text": [
      "z aint equal to taht number ^^\n"
     ]
    }
   ],
   "source": [
    "z = 10\n",
    "if z != 3929329:\n",
    "    print('z aint equal to taht number ^^')"
   ]
  },
  {
   "cell_type": "markdown",
   "metadata": {},
   "source": [
    "Double condition"
   ]
  },
  {
   "cell_type": "code",
   "execution_count": 31,
   "metadata": {},
   "outputs": [
    {
     "name": "stdout",
     "output_type": "stream",
     "text": [
      "both are true\n"
     ]
    }
   ],
   "source": [
    "x = 1\n",
    "y = 10\n",
    "if x==1 and y < 11:\n",
    "    print('both are true')"
   ]
  },
  {
   "cell_type": "markdown",
   "metadata": {},
   "source": [
    "#### Elif - Nested // if else"
   ]
  },
  {
   "cell_type": "code",
   "execution_count": 41,
   "metadata": {},
   "outputs": [],
   "source": [
    "x = 12\n",
    "y = 9"
   ]
  },
  {
   "cell_type": "markdown",
   "metadata": {},
   "source": [
    "elif is essentially just another chance at \"guessing\" or trying to find the target, e.g. y ==5 in this case."
   ]
  },
  {
   "cell_type": "code",
   "execution_count": 42,
   "metadata": {},
   "outputs": [
    {
     "name": "stdout",
     "output_type": "stream",
     "text": [
      "nah mate nothings workin' here\n"
     ]
    }
   ],
   "source": [
    "if x<10:\n",
    "    #These below are only operating because x is less than 10, otherwise we go to the last \"else\".\n",
    "    if y<5:\n",
    "        print(\"x is less than 10 and y is less than 5\") # only printed bc x is less than 10\n",
    "    elif y==5:\n",
    "        print(\"x is less than 10 and y is equal to 5\") # otherwise, x is less than 10 still, but print if y=5\n",
    "    else:\n",
    "        print(\"x is less than 10 and y is greater than 5\")\n",
    "        \n",
    "else:\n",
    "    print(\"nah mate nothings workin' here\")"
   ]
  },
  {
   "cell_type": "markdown",
   "metadata": {},
   "source": [
    "<br><br>"
   ]
  },
  {
   "cell_type": "markdown",
   "metadata": {},
   "source": [
    "*Examples*"
   ]
  },
  {
   "cell_type": "code",
   "execution_count": 45,
   "metadata": {},
   "outputs": [
    {
     "name": "stdout",
     "output_type": "stream",
     "text": [
      "Oooo needs some work\n"
     ]
    }
   ],
   "source": [
    "# 1.\n",
    "x = 5\n",
    "y = 10\n",
    "if 2 * x > y:\n",
    "    print(\"Question 1 works!\")\n",
    "else:\n",
    "    print(\"Oooo needs some work\")\n"
   ]
  },
  {
   "cell_type": "code",
   "execution_count": 46,
   "metadata": {},
   "outputs": [
    {
     "name": "stdout",
     "output_type": "stream",
     "text": [
      "Question 2 works!\n"
     ]
    }
   ],
   "source": [
    "# 2.\n",
    "x = 5\n",
    "y = 10\n",
    "if len(\"Dog\") < x:\n",
    "    print(\"Question 2 works!\")\n",
    "else:\n",
    "    print(\"Still missing out\")"
   ]
  },
  {
   "cell_type": "code",
   "execution_count": 47,
   "metadata": {},
   "outputs": [
    {
     "name": "stdout",
     "output_type": "stream",
     "text": [
      "You are of drinking age!\n"
     ]
    }
   ],
   "source": [
    "# 3.\n",
    "age = 21\n",
    "if age > 20:\n",
    "    print(\"You are of drinking age!\")\n",
    "else:\n",
    "    print(\"Argggggh! You think you can hoodwink me, matey?! You're too young to drink!\")"
   ]
  },
  {
   "cell_type": "markdown",
   "metadata": {},
   "source": [
    "#### ** is \"exponential\""
   ]
  },
  {
   "cell_type": "code",
   "execution_count": 49,
   "metadata": {},
   "outputs": [
    {
     "name": "stdout",
     "output_type": "stream",
     "text": [
      "GOT QUESTION 4!\n"
     ]
    }
   ],
   "source": [
    "# 4.\n",
    "x = 2\n",
    "y = 5\n",
    "if (x ** 3 >= y) and (y ** 2 < 26):\n",
    "    print(\"GOT QUESTION 4!\")\n",
    "else:\n",
    "    print(\"Oh good you can count\")\n"
   ]
  },
  {
   "cell_type": "markdown",
   "metadata": {},
   "source": [
    "#### <font color=red> Using booleans and if/elif/else: </font>"
   ]
  },
  {
   "cell_type": "markdown",
   "metadata": {},
   "source": [
    "The reason the 3rd elif worked is the 2nd \"or\" statement. Simply putting (adult_permission) just means that it has to be true and the condition is met.\n",
    "<br><br> - That's why in the example with the instructor we had a \"if statement\" start with: <font color=red>  if accident: </font> , and the accident was simply just whether it was true or false"
   ]
  },
  {
   "cell_type": "code",
   "execution_count": 185,
   "metadata": {},
   "outputs": [
    {
     "name": "stdout",
     "output_type": "stream",
     "text": [
      "Can ride bumper cars\n"
     ]
    }
   ],
   "source": [
    "# 5.\n",
    "height = 66\n",
    "age = 16\n",
    "adult_permission = True\n",
    "\n",
    "if (height > 70) and (age >= 18):\n",
    "    print(\"Can ride all the roller coasters\")\n",
    "elif (height > 65) and (age >= 18):\n",
    "    print(\"Can ride moderate roller coasters\")\n",
    "elif (height > 60) and (age >= 18):\n",
    "    print(\"Can ride light roller coasters\")\n",
    "elif ((height > 50) and (age >= 18)) or ((adult_permission) and (height > 50)):\n",
    "    print(\"Can ride bumper cars\")\n",
    "else:\n",
    "    print(\"Stick to lazy river\")\n"
   ]
  },
  {
   "cell_type": "markdown",
   "metadata": {},
   "source": [
    "<br>"
   ]
  },
  {
   "cell_type": "markdown",
   "metadata": {},
   "source": [
    "#### <font color=red> For loops </font>"
   ]
  },
  {
   "cell_type": "code",
   "execution_count": 53,
   "metadata": {},
   "outputs": [
    {
     "name": "stdout",
     "output_type": "stream",
     "text": [
      "t\n",
      "e\n",
      "l\n",
      "e\n"
     ]
    }
   ],
   "source": [
    "word = \"tele\"\n",
    "for letters in word:\n",
    "    print(letters)"
   ]
  },
  {
   "cell_type": "markdown",
   "metadata": {},
   "source": [
    "##### it breaks at 5 , because its met its condition of equally \"pop\", which is 5"
   ]
  },
  {
   "cell_type": "code",
   "execution_count": 60,
   "metadata": {},
   "outputs": [
    {
     "name": "stdout",
     "output_type": "stream",
     "text": [
      "0\n",
      "1\n",
      "2\n",
      "3\n",
      "4\n"
     ]
    }
   ],
   "source": [
    "pop = 5\n",
    "for x in range(10):\n",
    "    if x==pop:\n",
    "        break\n",
    "    print(x)"
   ]
  },
  {
   "cell_type": "markdown",
   "metadata": {},
   "source": [
    "\"continue\" skips the 5.... \"continue\" means don't print the 5, but keep going"
   ]
  },
  {
   "cell_type": "code",
   "execution_count": 61,
   "metadata": {},
   "outputs": [
    {
     "name": "stdout",
     "output_type": "stream",
     "text": [
      "0\n",
      "1\n",
      "2\n",
      "3\n",
      "4\n",
      "6\n",
      "7\n",
      "8\n",
      "9\n"
     ]
    }
   ],
   "source": [
    "pop = 5\n",
    "for x in range(10):\n",
    "    if x==pop:\n",
    "        continue\n",
    "    print(x)"
   ]
  },
  {
   "cell_type": "code",
   "execution_count": 63,
   "metadata": {},
   "outputs": [
    {
     "name": "stdout",
     "output_type": "stream",
     "text": [
      "f\n",
      "i\n",
      "n\n",
      "t\n",
      "e\n",
      "c\n",
      "h\n",
      "\n",
      "What does that spell?!\n",
      "fintech!\n",
      "Woohoo! Go fintech!\n",
      "*\\O/**\\O/**\\O/*\n",
      "ヘ( ^o^)ノ＼(^_^ )\n"
     ]
    }
   ],
   "source": [
    "# Create a variable named cheer and give it a word to cheer (i.e. Python or FinTech)\n",
    "cheer = \"fintech\"\n",
    "\n",
    "# Below strings can be used to add fun\n",
    "cheer_symbol = \"*\\O/*\"\n",
    "cheer_symbol_2 = \"ヘ( ^o^)ノ＼(^_^ )\"\n",
    "\n",
    "# Loop through string and print each letter with a cheer\n",
    "for symbols in cheer:\n",
    "    print(symbols)\n",
    "\n",
    "\n",
    "# Print excitement to screen\n",
    "print(\"\\nWhat does that spell?!\")\n",
    "print(cheer + \"!\\nWoohoo! Go \" + cheer + \"!\")\n",
    "print(cheer_symbol * 3)\n",
    "print(cheer_symbol_2)\n"
   ]
  },
  {
   "cell_type": "markdown",
   "metadata": {},
   "source": [
    "<br>"
   ]
  },
  {
   "cell_type": "markdown",
   "metadata": {},
   "source": [
    "#### <font color=orange> Final challenge </font>"
   ]
  },
  {
   "cell_type": "code",
   "execution_count": 79,
   "metadata": {},
   "outputs": [],
   "source": [
    "original_price = 10\n",
    "current_price = 15\n",
    "increase = current_price - original_price\n",
    "percent_increase = (increase/original_price)*100\n",
    "recommendation = \"buy\"\n",
    "threshold_to_buy = 12"
   ]
  },
  {
   "cell_type": "code",
   "execution_count": 92,
   "metadata": {},
   "outputs": [
    {
     "name": "stdout",
     "output_type": "stream",
     "text": [
      "$10 is the original price\n",
      "$15 is the current price\n",
      "50.0% is the percentage increase\n"
     ]
    }
   ],
   "source": [
    "print(f'${original_price} is the original price')\n",
    "print(f'${current_price} is the current price')\n",
    "print(f'{percent_increase}% is the percentage increase')"
   ]
  },
  {
   "cell_type": "code",
   "execution_count": 106,
   "metadata": {},
   "outputs": [],
   "source": [
    "balance = 10000"
   ]
  },
  {
   "cell_type": "code",
   "execution_count": 107,
   "metadata": {},
   "outputs": [
    {
     "name": "stdout",
     "output_type": "stream",
     "text": [
      "Recommendation: dont buy\n"
     ]
    }
   ],
   "source": [
    "if balance > 5*current_price:\n",
    "    if (1+percent_increase)*original_price > threshold_to_buy:\n",
    "        print(\"Recommendation: dont \" + recommendation)\n",
    "\n",
    "    elif (1+percent_increase)*original_price < threshold_to_buy:\n",
    "        print(\"Recommendation: \" + recommendation)\n",
    "        \n",
    "else:\n",
    "    print('no trading')"
   ]
  },
  {
   "cell_type": "markdown",
   "metadata": {},
   "source": [
    "### In the example they give they use thresold directionally... as in threshold to buy was -10, meaning it'd have to fall atleast $10."
   ]
  },
  {
   "cell_type": "code",
   "execution_count": 2,
   "metadata": {},
   "outputs": [],
   "source": [
    "# if percent_increases >= thresold_to_sell:\n",
    "#     recommendation = \"sell\"\n",
    "# elif percent_increase <= threshold_to_buy:\n",
    "#     recommendation = \"buy\"\n",
    "# elif percent_increase = current_price:\n",
    "#     recommendation = \"hold\"\n",
    "    \n",
    "#     print(\"Recommendation: \" + recommendation)"
   ]
  },
  {
   "cell_type": "markdown",
   "metadata": {},
   "source": [
    "<br> <br> <br>"
   ]
  },
  {
   "cell_type": "markdown",
   "metadata": {},
   "source": [
    "## *Lists*"
   ]
  },
  {
   "cell_type": "code",
   "execution_count": 4,
   "metadata": {},
   "outputs": [
    {
     "data": {
      "text/plain": [
       "[1, 2, 3, 5, 6]"
      ]
     },
     "execution_count": 4,
     "metadata": {},
     "output_type": "execute_result"
    }
   ],
   "source": [
    "numb = [1,2,3,5,6]\n",
    "numb"
   ]
  },
  {
   "cell_type": "code",
   "execution_count": 5,
   "metadata": {},
   "outputs": [
    {
     "data": {
      "text/plain": [
       "1"
      ]
     },
     "execution_count": 5,
     "metadata": {},
     "output_type": "execute_result"
    }
   ],
   "source": [
    "numb[0]"
   ]
  },
  {
   "cell_type": "code",
   "execution_count": 16,
   "metadata": {},
   "outputs": [
    {
     "data": {
      "text/plain": [
       "[1, 3, 6]"
      ]
     },
     "execution_count": 16,
     "metadata": {},
     "output_type": "execute_result"
    }
   ],
   "source": [
    "numb[0:5:2] # The \"2\" acts as a sequencer for what steps to step"
   ]
  },
  {
   "cell_type": "code",
   "execution_count": 9,
   "metadata": {},
   "outputs": [
    {
     "data": {
      "text/plain": [
       "[3, 5, 6]"
      ]
     },
     "execution_count": 9,
     "metadata": {},
     "output_type": "execute_result"
    }
   ],
   "source": [
    "numb[2:]"
   ]
  },
  {
   "cell_type": "code",
   "execution_count": 12,
   "metadata": {},
   "outputs": [
    {
     "data": {
      "text/plain": [
       "[1, 2, 3, 5]"
      ]
     },
     "execution_count": 12,
     "metadata": {},
     "output_type": "execute_result"
    }
   ],
   "source": [
    "numb[:-1]"
   ]
  },
  {
   "cell_type": "markdown",
   "metadata": {},
   "source": [
    "#### modifying lists"
   ]
  },
  {
   "cell_type": "code",
   "execution_count": 17,
   "metadata": {},
   "outputs": [],
   "source": [
    "#changing the first variable\n",
    "numb[0] = \"hey_mate\""
   ]
  },
  {
   "cell_type": "code",
   "execution_count": 18,
   "metadata": {},
   "outputs": [
    {
     "data": {
      "text/plain": [
       "['hey_mate', 2, 3, 5, 6]"
      ]
     },
     "execution_count": 18,
     "metadata": {},
     "output_type": "execute_result"
    }
   ],
   "source": [
    "numb"
   ]
  },
  {
   "cell_type": "markdown",
   "metadata": {},
   "source": [
    "adding a value to end"
   ]
  },
  {
   "cell_type": "code",
   "execution_count": 19,
   "metadata": {},
   "outputs": [],
   "source": [
    "numb.append('magpie')"
   ]
  },
  {
   "cell_type": "code",
   "execution_count": 22,
   "metadata": {},
   "outputs": [
    {
     "data": {
      "text/plain": [
       "['hey_mate', 2, 3, 5, 6, 'magpie']"
      ]
     },
     "execution_count": 22,
     "metadata": {},
     "output_type": "execute_result"
    }
   ],
   "source": [
    "numb"
   ]
  },
  {
   "cell_type": "markdown",
   "metadata": {},
   "source": [
    "removing a value"
   ]
  },
  {
   "cell_type": "code",
   "execution_count": 23,
   "metadata": {},
   "outputs": [],
   "source": [
    "numb.remove('magpie')"
   ]
  },
  {
   "cell_type": "code",
   "execution_count": 24,
   "metadata": {},
   "outputs": [
    {
     "data": {
      "text/plain": [
       "['hey_mate', 2, 3, 5, 6]"
      ]
     },
     "execution_count": 24,
     "metadata": {},
     "output_type": "execute_result"
    }
   ],
   "source": [
    "numb"
   ]
  },
  {
   "cell_type": "markdown",
   "metadata": {},
   "source": [
    "states the position of object in the list"
   ]
  },
  {
   "cell_type": "code",
   "execution_count": 21,
   "metadata": {},
   "outputs": [
    {
     "data": {
      "text/plain": [
       "5"
      ]
     },
     "execution_count": 21,
     "metadata": {},
     "output_type": "execute_result"
    }
   ],
   "source": [
    "numb.index('magpie')"
   ]
  },
  {
   "cell_type": "markdown",
   "metadata": {},
   "source": [
    "#### new content: how to identify using index and pop"
   ]
  },
  {
   "cell_type": "code",
   "execution_count": 26,
   "metadata": {},
   "outputs": [],
   "source": [
    "index = numb.index('hey_mate')"
   ]
  },
  {
   "cell_type": "code",
   "execution_count": 27,
   "metadata": {},
   "outputs": [
    {
     "data": {
      "text/plain": [
       "0"
      ]
     },
     "execution_count": 27,
     "metadata": {},
     "output_type": "execute_result"
    }
   ],
   "source": [
    "index"
   ]
  },
  {
   "cell_type": "markdown",
   "metadata": {},
   "source": [
    "\".pop\" removes that variable"
   ]
  },
  {
   "cell_type": "code",
   "execution_count": 28,
   "metadata": {},
   "outputs": [
    {
     "data": {
      "text/plain": [
       "'hey_mate'"
      ]
     },
     "execution_count": 28,
     "metadata": {},
     "output_type": "execute_result"
    }
   ],
   "source": [
    "numb.pop(index)"
   ]
  },
  {
   "cell_type": "code",
   "execution_count": 29,
   "metadata": {},
   "outputs": [
    {
     "data": {
      "text/plain": [
       "[2, 3, 5, 6]"
      ]
     },
     "execution_count": 29,
     "metadata": {},
     "output_type": "execute_result"
    }
   ],
   "source": [
    "numb"
   ]
  },
  {
   "cell_type": "markdown",
   "metadata": {},
   "source": [
    "#### Task 1"
   ]
  },
  {
   "cell_type": "code",
   "execution_count": 56,
   "metadata": {},
   "outputs": [],
   "source": [
    "list = [\"Water\", \"Butter\", \"Eggs\", \"Apples\", \"Cinnamon\", \"Sugar\", \"Milk\"]"
   ]
  },
  {
   "cell_type": "code",
   "execution_count": 57,
   "metadata": {},
   "outputs": [
    {
     "data": {
      "text/plain": [
       "8"
      ]
     },
     "execution_count": 57,
     "metadata": {},
     "output_type": "execute_result"
    }
   ],
   "source": [
    "# @TODO: Find the first two items on the list\n",
    "list[:2]\n",
    "\n",
    "# @TODO: Find the last five items on the list\n",
    "list[2:]\n",
    "\n",
    "# @TODO: Find every other item on the list, starting from the second item\n",
    "list[1::2]\n",
    "\n",
    "# @TODO: Add an element to the end of the list\n",
    "list.append('flour')\n",
    "\n",
    "# @TODO: Changes a specified element within the list at the given index\n",
    "list[3] = \"gala apples\"\n",
    "\n",
    "# @TODO: Calculate how many items you have in the list\n",
    "len(list)"
   ]
  },
  {
   "cell_type": "markdown",
   "metadata": {},
   "source": [
    "Mike wants to find where gala apples is on his list. Find the index of gala apples.\n",
    "\n",
    "\n",
    "Mike remembers that he already has sugar. Remove sugar from the grocery list.\n",
    "\n",
    "\n",
    "Mike decides that he has water at home. Remove water from the grocery list based on its index.\n",
    "\n",
    "\n",
    "Mike decides to pick up the last item on his list, so remove the last item from the grocery list."
   ]
  },
  {
   "cell_type": "code",
   "execution_count": 58,
   "metadata": {},
   "outputs": [
    {
     "data": {
      "text/plain": [
       "3"
      ]
     },
     "execution_count": 58,
     "metadata": {},
     "output_type": "execute_result"
    }
   ],
   "source": [
    "list.index(\"gala apples\")"
   ]
  },
  {
   "cell_type": "code",
   "execution_count": 41,
   "metadata": {},
   "outputs": [],
   "source": [
    "index = list.index(\"Sugar\")"
   ]
  },
  {
   "cell_type": "code",
   "execution_count": 42,
   "metadata": {},
   "outputs": [
    {
     "data": {
      "text/plain": [
       "'Sugar'"
      ]
     },
     "execution_count": 42,
     "metadata": {},
     "output_type": "execute_result"
    }
   ],
   "source": [
    "list.pop(index)"
   ]
  },
  {
   "cell_type": "code",
   "execution_count": 43,
   "metadata": {},
   "outputs": [
    {
     "data": {
      "text/plain": [
       "['Water', 'Butter', 'Eggs', 'gala apples', 'Cinnamon', 'Milk', 'flour']"
      ]
     },
     "execution_count": 43,
     "metadata": {},
     "output_type": "execute_result"
    }
   ],
   "source": [
    "list"
   ]
  },
  {
   "cell_type": "code",
   "execution_count": 46,
   "metadata": {},
   "outputs": [
    {
     "data": {
      "text/plain": [
       "'Water'"
      ]
     },
     "execution_count": 46,
     "metadata": {},
     "output_type": "execute_result"
    }
   ],
   "source": [
    "index2 = list.index(\"Water\")\n",
    "list.pop(index2)"
   ]
  },
  {
   "cell_type": "code",
   "execution_count": 47,
   "metadata": {},
   "outputs": [
    {
     "data": {
      "text/plain": [
       "['Butter', 'Eggs', 'gala apples', 'Cinnamon', 'Milk', 'flour']"
      ]
     },
     "execution_count": 47,
     "metadata": {},
     "output_type": "execute_result"
    }
   ],
   "source": [
    "list"
   ]
  },
  {
   "cell_type": "code",
   "execution_count": 60,
   "metadata": {},
   "outputs": [],
   "source": [
    "list_final = list[:-1]\n",
    "#OR\n",
    "#list = pop(-1)"
   ]
  },
  {
   "cell_type": "code",
   "execution_count": 49,
   "metadata": {},
   "outputs": [
    {
     "data": {
      "text/plain": [
       "['Butter', 'Eggs', 'gala apples', 'Cinnamon', 'Milk']"
      ]
     },
     "execution_count": 49,
     "metadata": {},
     "output_type": "execute_result"
    }
   ],
   "source": [
    "list_final"
   ]
  },
  {
   "cell_type": "markdown",
   "metadata": {},
   "source": [
    "### <font color=red> Looping with a list </font>"
   ]
  },
  {
   "cell_type": "code",
   "execution_count": 86,
   "metadata": {},
   "outputs": [],
   "source": [
    "cash = [1,23,56,7,88,98,99]"
   ]
  },
  {
   "cell_type": "code",
   "execution_count": 87,
   "metadata": {},
   "outputs": [],
   "source": [
    "count = 0\n",
    "total = 0\n",
    "average = 0\n",
    "minimum = 0\n",
    "maximum = 0"
   ]
  },
  {
   "cell_type": "code",
   "execution_count": 88,
   "metadata": {},
   "outputs": [
    {
     "name": "stdout",
     "output_type": "stream",
     "text": [
      "1\n",
      "23\n",
      "56\n",
      "7\n",
      "88\n",
      "98\n",
      "99\n"
     ]
    }
   ],
   "source": [
    "for i in cash:\n",
    "    print(i)"
   ]
  },
  {
   "cell_type": "code",
   "execution_count": 89,
   "metadata": {},
   "outputs": [],
   "source": [
    "for i in cash:\n",
    "    total += i # summ all the numbers - iterating over each number and cumulatively adding the numbers\n",
    "    #above is same as toatl = total + tip\n",
    "    \n",
    "# ensuring that it gets the minimum/maximum by iteratively testing each number against the prevuous number\n",
    "\n",
    "    if minimum ==0:\n",
    "        minimum= i\n",
    "    elif i < minimum: \n",
    "        minimum = i\n",
    "    elif i > maximum:\n",
    "        maximum = i\n",
    "  \n",
    "\n",
    "average = round(total/len(cash), 2)"
   ]
  },
  {
   "cell_type": "code",
   "execution_count": 90,
   "metadata": {},
   "outputs": [
    {
     "name": "stdout",
     "output_type": "stream",
     "text": [
      "0\n",
      "372\n",
      "53.14\n",
      "1\n",
      "99\n"
     ]
    }
   ],
   "source": [
    "print(count)\n",
    "print(total)\n",
    "print(average)\n",
    "print(minimum)\n",
    "print(maximum)"
   ]
  },
  {
   "cell_type": "markdown",
   "metadata": {},
   "source": [
    "### Iterating Loops task"
   ]
  },
  {
   "cell_type": "markdown",
   "metadata": {},
   "source": [
    "<br>\n",
    "Trading Log\n",
    "In this activity, you will use lists to create a trading log that tracks profits and losses for each market day of the month. You will iterate over the list to calculate the highest and lowest profit and loss days. The goal of this activity is to use for loops and lists in order to track metrics related to trading performance.\n",
    "\n",
    "Background\n",
    "Karen, an equity trader, has been tracking her profits and losses over the course of the last 20 business days. She wants to quickly analyze her ongoing performance as she continues to log her profits and losses every day. Understanding her profits and losses each day will allow Karen to evaluate her performance for all trades monthly, weekly, and over time. Help Karen create a program to analyze her results.\n",
    "\n",
    "Instructions\n",
    "Using the starter file, complete the following:\n",
    "\n",
    "\n",
    "Create a for loop over the trading_pnl list object, and cumulatively sum up the total profits/losses and the count of actual trading days.\n",
    "\n",
    "\n",
    "Use an if-else statement to calculate the maximum and minimum profit/loss values. In other words, find the numerical value of the best and worst trading days.\n",
    "\n",
    "\n",
    "Create additional lists profitable_days and unprofitable_days and use if-else statements to group daily trading values into each corresponding list.\n",
    "\n",
    "\n",
    "Determine the following:\n",
    "\n",
    "\n",
    "Number of total trading days\n",
    "\n",
    "\n",
    "Total profits and losses\n",
    "\n",
    "\n",
    "Daily average profit and loss\n",
    "\n",
    "\n",
    "Worst loss\n",
    "\n",
    "\n",
    "Best gain\n",
    "\n",
    "\n",
    "Number of profitable days\n",
    "\n",
    "\n",
    "Number of unprofitable days\n",
    "\n",
    "\n",
    "Percentage of profitable days\n",
    "\n",
    "\n",
    "Percentage of unprofitable days\n",
    "\n",
    "\n",
    "Print the values of only profitable days.\n",
    "\n",
    "\n",
    "Print the values of only unprofitable days."
   ]
  },
  {
   "cell_type": "code",
   "execution_count": 115,
   "metadata": {},
   "outputs": [],
   "source": [
    "trading_pnl = [ -224,  352, 252, 354, -544,\n",
    "                -650,   56, 123, -43,  254,\n",
    "                 325, -123,  47, 321,  123,\n",
    "                 133, -151, 613, 232, -311 ]\n"
   ]
  },
  {
   "cell_type": "code",
   "execution_count": 116,
   "metadata": {},
   "outputs": [
    {
     "name": "stdout",
     "output_type": "stream",
     "text": [
      "There is 20 trading days being recorded\n"
     ]
    }
   ],
   "source": [
    "len(trading_pnl)\n",
    "print(f'There is {len(trading_pnl)} trading days being recorded')"
   ]
  },
  {
   "cell_type": "code",
   "execution_count": 117,
   "metadata": {},
   "outputs": [
    {
     "name": "stdout",
     "output_type": "stream",
     "text": [
      "Total P/L this month is $1139.00\n",
      "max ret = $613.00\n",
      "min ret = $-650.00\n"
     ]
    }
   ],
   "source": [
    "total = 0\n",
    "maximum = 0\n",
    "minimum = 0\n",
    "\n",
    "for i in trading_pnl:\n",
    "    total += i\n",
    "    \n",
    "    if i == minimum:\n",
    "        minimum = 0\n",
    "\n",
    "    elif i < minimum:\n",
    "        minimum = i\n",
    "    \n",
    "    elif i > maximum:\n",
    "        maximum = i\n",
    "\n",
    "print(f'Total P/L this month is ${total}.00')\n",
    "print(f'max ret = ${maximum}.00')\n",
    "print(f'min ret = ${minimum}.00')"
   ]
  },
  {
   "cell_type": "code",
   "execution_count": 118,
   "metadata": {},
   "outputs": [],
   "source": [
    "profitable_days = []\n",
    "unprofitable_days = []"
   ]
  },
  {
   "cell_type": "code",
   "execution_count": 119,
   "metadata": {},
   "outputs": [],
   "source": [
    "for i in trading_pnl:\n",
    "    if i > 0:\n",
    "        profitable_days.append(i)\n",
    "    elif i <= 0:\n",
    "        unprofitable_days.append(i)"
   ]
  },
  {
   "cell_type": "code",
   "execution_count": 120,
   "metadata": {},
   "outputs": [],
   "source": [
    "total2 = 0\n",
    "for i in profitable_days:\n",
    "    total2 += i"
   ]
  },
  {
   "cell_type": "code",
   "execution_count": 121,
   "metadata": {},
   "outputs": [],
   "source": [
    "total3 = 0\n",
    "for i in unprofitable_days:\n",
    "    total3 += i"
   ]
  },
  {
   "cell_type": "code",
   "execution_count": 124,
   "metadata": {},
   "outputs": [
    {
     "name": "stdout",
     "output_type": "stream",
     "text": [
      "These are the profitable day values: [352, 252, 354, 56, 123, 254, 325, 47, 321, 123, 133, 613, 232]\n",
      "Number of prof days: 13\n",
      "Avg prof day: $245.0\n",
      "% of profitable days: 65.0%\n",
      "\n",
      "\n",
      "These are the unprofitable day values: [-224, -544, -650, -43, -123, -151, -311]\n",
      "Number of unprof days: 7\n",
      "Avg unprof day: $-292.29\n",
      "% of unprofitable days: 35.0%\n"
     ]
    }
   ],
   "source": [
    "print(f'These are the profitable day values: {profitable_days}')\n",
    "print(f'Number of prof days: {len(profitable_days)}')\n",
    "print(f'Avg prof day: ${total2/len(profitable_days)}')\n",
    "print(f'% of profitable days: {(len(profitable_days)/len(trading_pnl))*100}%')\n",
    "\n",
    "print(f'\\n')\n",
    "\n",
    "print(f'These are the unprofitable day values: {unprofitable_days}')\n",
    "print(f'Number of unprof days: {len(unprofitable_days)}')\n",
    "print(f'Avg unprof day: ${round(total3/len(unprofitable_days),2)}')\n",
    "print(f'% of unprofitable days: {(len(unprofitable_days)/len(trading_pnl))*100}%')"
   ]
  },
  {
   "cell_type": "markdown",
   "metadata": {},
   "source": [
    "<br>"
   ]
  },
  {
   "cell_type": "markdown",
   "metadata": {},
   "source": [
    "## *Dicts*"
   ]
  },
  {
   "cell_type": "code",
   "execution_count": 132,
   "metadata": {},
   "outputs": [],
   "source": [
    "trader = {\n",
    "    \"month\" : \"name\",\n",
    "    \"jan\" : \"bob\",\n",
    "    \"feb\" : \"cam\",\n",
    "    \"march\" : \"cat\"\n",
    "}"
   ]
  },
  {
   "cell_type": "code",
   "execution_count": 133,
   "metadata": {},
   "outputs": [
    {
     "name": "stdout",
     "output_type": "stream",
     "text": [
      "{'month': 'name', 'jan': 'bob', 'feb': 'cam', 'march': 'cat'}\n"
     ]
    }
   ],
   "source": [
    "print(trader)"
   ]
  },
  {
   "cell_type": "code",
   "execution_count": 136,
   "metadata": {},
   "outputs": [
    {
     "data": {
      "text/plain": [
       "'bob'"
      ]
     },
     "execution_count": 136,
     "metadata": {},
     "output_type": "execute_result"
    }
   ],
   "source": [
    "trader[\"jan\"]"
   ]
  },
  {
   "cell_type": "markdown",
   "metadata": {},
   "source": [
    "adding:"
   ]
  },
  {
   "cell_type": "code",
   "execution_count": 137,
   "metadata": {},
   "outputs": [],
   "source": [
    "trader[\"april\"] = \"genorinamee\""
   ]
  },
  {
   "cell_type": "code",
   "execution_count": 139,
   "metadata": {},
   "outputs": [
    {
     "data": {
      "text/plain": [
       "{'month': 'name',\n",
       " 'jan': 'bob',\n",
       " 'feb': 'cam',\n",
       " 'march': 'cat',\n",
       " 'april': 'genorinamee'}"
      ]
     },
     "execution_count": 139,
     "metadata": {},
     "output_type": "execute_result"
    }
   ],
   "source": [
    "trader"
   ]
  },
  {
   "cell_type": "code",
   "execution_count": 141,
   "metadata": {},
   "outputs": [],
   "source": [
    "# Change value same as list e.g.:\n",
    "trader[\"jan\"] = 'caterson'"
   ]
  },
  {
   "cell_type": "code",
   "execution_count": 142,
   "metadata": {},
   "outputs": [
    {
     "data": {
      "text/plain": [
       "{'month': 'name',\n",
       " 'jan': 'caterson',\n",
       " 'feb': 'cam',\n",
       " 'march': 'cat',\n",
       " 'april': 'genorinamee'}"
      ]
     },
     "execution_count": 142,
     "metadata": {},
     "output_type": "execute_result"
    }
   ],
   "source": [
    "trader"
   ]
  },
  {
   "cell_type": "markdown",
   "metadata": {},
   "source": [
    "deleting values"
   ]
  },
  {
   "cell_type": "code",
   "execution_count": 144,
   "metadata": {},
   "outputs": [
    {
     "data": {
      "text/plain": [
       "{'month': 'name', 'jan': 'caterson', 'march': 'cat', 'april': 'genorinamee'}"
      ]
     },
     "execution_count": 144,
     "metadata": {},
     "output_type": "execute_result"
    }
   ],
   "source": [
    "#ALSO\n",
    "del trader['feb']\n",
    "trader"
   ]
  },
  {
   "cell_type": "code",
   "execution_count": 145,
   "metadata": {},
   "outputs": [
    {
     "name": "stdout",
     "output_type": "stream",
     "text": [
      "yes, it is one of the keys in the dictionary\n"
     ]
    }
   ],
   "source": [
    "if 'jan' in trader:\n",
    "    print('yes, it is one of the keys in the dictionary')"
   ]
  },
  {
   "cell_type": "code",
   "execution_count": 146,
   "metadata": {},
   "outputs": [
    {
     "name": "stdout",
     "output_type": "stream",
     "text": [
      "month\n",
      "jan\n",
      "march\n",
      "april\n"
     ]
    }
   ],
   "source": [
    "for i in trader:\n",
    "    print(i)"
   ]
  },
  {
   "cell_type": "markdown",
   "metadata": {},
   "source": [
    "### Finding the key, value through the 'items' function"
   ]
  },
  {
   "cell_type": "code",
   "execution_count": 150,
   "metadata": {},
   "outputs": [
    {
     "name": "stdout",
     "output_type": "stream",
     "text": [
      "Key:month    Value:name\n",
      "Key:jan    Value:caterson\n",
      "Key:march    Value:cat\n",
      "Key:april    Value:genorinamee\n"
     ]
    }
   ],
   "source": [
    "for key, value in trader.items():\n",
    "    print(f\"Key:{key}    Value:{value}\")"
   ]
  },
  {
   "cell_type": "markdown",
   "metadata": {},
   "source": []
  },
  {
   "cell_type": "code",
   "execution_count": 152,
   "metadata": {},
   "outputs": [],
   "source": [
    "banks = {\n",
    "\n",
    "\"JP Morgan Chase\" : 327,\n",
    "\"Bank of America\" : 302,\n",
    "\"Citigroup\" : 173,\n",
    "\"Wells Fargo\" : 273,\n",
    "\"Goldman Sachs\" : 87,\n",
    "\"Morgan Stanley\" : 72,\n",
    "\"U.S. Bancorp\" : 83,\n",
    "\"TD Bank\" : 108,\n",
    "\"PNC Financial Services\" : 67,\n",
    "\"Capital One\" : 47,\n",
    "\"FNB Corporation\": 4,\n",
    "\"First Hawaiian Bank\": 3,\n",
    "\"Ally Financial\": 12,\n",
    "\"Wachovia\": 145,\n",
    "\"Republic Bancorp\": .97,\n",
    "    \n",
    "}"
   ]
  },
  {
   "cell_type": "code",
   "execution_count": 153,
   "metadata": {},
   "outputs": [
    {
     "data": {
      "text/plain": [
       "{'JP Morgan Chase': 327,\n",
       " 'Bank of America': 302,\n",
       " 'Citigroup': 173,\n",
       " 'Wells Fargo': 273,\n",
       " 'Goldman Sachs': 87,\n",
       " 'Morgan Stanley': 72,\n",
       " 'U.S. Bancorp': 83,\n",
       " 'TD Bank': 108,\n",
       " 'PNC Financial Services': 67,\n",
       " 'Capital One': 47,\n",
       " 'FNB Corporation': 4,\n",
       " 'First Hawaiian Bank': 3,\n",
       " 'Ally Financial': 12,\n",
       " 'Wachovia': 145,\n",
       " 'Republic Bancorp': 0.97}"
      ]
     },
     "execution_count": 153,
     "metadata": {},
     "output_type": "execute_result"
    }
   ],
   "source": [
    "banks"
   ]
  },
  {
   "cell_type": "code",
   "execution_count": 154,
   "metadata": {},
   "outputs": [],
   "source": [
    "banks['Citigroup'] = 170"
   ]
  },
  {
   "cell_type": "code",
   "execution_count": 155,
   "metadata": {},
   "outputs": [],
   "source": [
    "banks['American Express'] = 33"
   ]
  },
  {
   "cell_type": "code",
   "execution_count": 156,
   "metadata": {},
   "outputs": [],
   "source": [
    "del banks['Wachovia']"
   ]
  },
  {
   "cell_type": "code",
   "execution_count": 157,
   "metadata": {},
   "outputs": [
    {
     "data": {
      "text/plain": [
       "{'JP Morgan Chase': 327,\n",
       " 'Bank of America': 302,\n",
       " 'Citigroup': 170,\n",
       " 'Wells Fargo': 273,\n",
       " 'Goldman Sachs': 87,\n",
       " 'Morgan Stanley': 72,\n",
       " 'U.S. Bancorp': 83,\n",
       " 'TD Bank': 108,\n",
       " 'PNC Financial Services': 67,\n",
       " 'Capital One': 47,\n",
       " 'FNB Corporation': 4,\n",
       " 'First Hawaiian Bank': 3,\n",
       " 'Ally Financial': 12,\n",
       " 'Republic Bancorp': 0.97,\n",
       " 'American Express': 33}"
      ]
     },
     "execution_count": 157,
     "metadata": {},
     "output_type": "execute_result"
    }
   ],
   "source": [
    "banks"
   ]
  },
  {
   "cell_type": "code",
   "execution_count": 158,
   "metadata": {},
   "outputs": [],
   "source": [
    "total_mkt_cap =0\n",
    "\n",
    "for key, value in banks.items():\n",
    "    total_mkt_cap += value"
   ]
  },
  {
   "cell_type": "code",
   "execution_count": 166,
   "metadata": {},
   "outputs": [
    {
     "name": "stdout",
     "output_type": "stream",
     "text": [
      "total market cap is = 1588.97\n",
      "total no of banks =  15\n",
      "avg market_cap =  105.93133333333334\n"
     ]
    }
   ],
   "source": [
    "print(f'total market cap is = {total_mkt_cap}')\n",
    "print(f'total no of banks =  {len(banks)}')\n",
    "print(f'avg market_cap =  {total_mkt_cap/len(banks)}')"
   ]
  },
  {
   "cell_type": "code",
   "execution_count": null,
   "metadata": {},
   "outputs": [],
   "source": []
  },
  {
   "cell_type": "code",
   "execution_count": 168,
   "metadata": {},
   "outputs": [],
   "source": [
    "max = 0\n",
    "min = 0\n",
    "\n",
    "for key,value in banks.items():\n",
    "    if value == min:\n",
    "        min = 0\n",
    "    elif value < min:\n",
    "        min = value\n",
    "    elif value > max:\n",
    "        max = value"
   ]
  },
  {
   "cell_type": "code",
   "execution_count": 171,
   "metadata": {},
   "outputs": [
    {
     "name": "stdout",
     "output_type": "stream",
     "text": [
      "MAX =  327\n",
      "MIN =  0\n"
     ]
    }
   ],
   "source": [
    "print(f'MAX =  {max}')\n",
    "print(f'MIN =  {min}')"
   ]
  },
  {
   "cell_type": "markdown",
   "metadata": {},
   "source": [
    "### Activity"
   ]
  },
  {
   "cell_type": "markdown",
   "metadata": {},
   "source": [
    "Market Capitalization\n",
    "In this activity, you will create a dictionary, and then update, remove, and extract values in/from the dictionary.\n",
    "\n",
    "Background\n",
    "Sam wants to categorize banks by their market capitalizations, which is the total dollar market value of a company's outstanding shares. Because she wants to know the relationship between a certain bank and its market capitalization, Sam uses a dictionary to index bank names to the value of its market cap.\n",
    "Sam needs to make a few changes to her dictionary of bank market caps because she noticed a few errors and omissions. Help Sam fix her dictionary of bank market caps, and even better, help her group the banks by their corresponding market capitalization tier.\n",
    "\n",
    "Instructions\n",
    "Using the starter file, complete the following:\n",
    "\n",
    "\n",
    "Initialize the dictionary of banks. Add the following key-value pairs:\n",
    "\n",
    "JP Morgan Chase: 327\n",
    "Bank of America: 302\n",
    "Citigroup: 173\n",
    "Wells Fargo: 273\n",
    "Goldman Sachs: 87\n",
    "Morgan Stanley: 72\n",
    "U.S. Bancorp: 83\n",
    "TD Bank: 108\n",
    "PNC Financial Services: 67\n",
    "Capital One: 47\n",
    "FNB Corporation: 4\n",
    "First Hawaiian Bank: 3\n",
    "Ally Financial: 12\n",
    "Wachovia: 145\n",
    "Republic Bancorp: .97\n",
    "\n",
    "\n",
    "\n",
    "Change the market cap for Citigroup to 170.\n",
    "\n",
    "\n",
    "Add a new bank American Express to the dictionary and set the market cap to 33.\n",
    "\n",
    "\n",
    "Delete Wachovia from the dictionary, as it is a deprecated bank acquired by Wells Fargo in 2008.\n",
    "\n",
    "\n",
    "\n",
    "Challenge\n",
    "Group banks by their corresponding market capitalization tier.\n",
    "\n",
    "\n",
    "Iterate over the key-value pairs in the banks dictionary and calculate the following:\n",
    "\n",
    "Total market capitalization\n",
    "Total number of banks\n",
    "Average market capitalization\n",
    "Largest bank\n",
    "Smallest bank\n",
    "\n",
    "\n",
    "\n",
    "Use an if-else statement and lists to compare and group banks by their corresponding market capitalization: mega-cap, large-cap, mid-cap, and small-cap.\n",
    "\n",
    "\n",
    "mega-cap: Market capitalization greater than or equal to $300 billion.\n",
    "\n",
    "\n",
    "large-cap: Market capitalization greater than or equal to $10 billion and less than $300 billion.\n",
    "\n",
    "\n",
    "mid-cap: Market capitalization greater than or equal to $2 and less than $10 billion.\n",
    "\n",
    "\n",
    "small-cap: Market capitalization greater than or equal to $300 million and less than $2 billion."
   ]
  },
  {
   "cell_type": "code",
   "execution_count": 172,
   "metadata": {},
   "outputs": [],
   "source": [
    "mega =[]\n",
    "large = []\n",
    "mid = []\n",
    "small = []"
   ]
  },
  {
   "cell_type": "code",
   "execution_count": 175,
   "metadata": {},
   "outputs": [],
   "source": [
    "for key,value in banks.items():\n",
    "    if value >= 300:\n",
    "        mega.append(value)\n",
    "    elif value >= 10 and value < 300:\n",
    "        large.append(value)\n",
    "    elif value >= 2 and value < 10:\n",
    "        mid.append(value)\n",
    "    elif value >= 0.3 and value <2:\n",
    "        small.append(value)"
   ]
  },
  {
   "cell_type": "code",
   "execution_count": 181,
   "metadata": {},
   "outputs": [
    {
     "name": "stdout",
     "output_type": "stream",
     "text": [
      "Mega caps = [327, 302]\n",
      "\n",
      "large caps = [170, 273, 87, 72, 83, 108, 67, 47, 12, 33]\n",
      "\n",
      "mid caps = [4, 3]\n",
      " \n",
      "small caps = [0.97]\n"
     ]
    }
   ],
   "source": [
    "print(f'Mega caps = {mega}\\n\\nlarge caps = {large}\\n\\nmid caps = {mid}\\n \\nsmall caps = {small}')"
   ]
  },
  {
   "cell_type": "markdown",
   "metadata": {},
   "source": [
    "<br>"
   ]
  },
  {
   "cell_type": "markdown",
   "metadata": {},
   "source": [
    "## Nested Lists and Dict"
   ]
  },
  {
   "cell_type": "code",
   "execution_count": 186,
   "metadata": {},
   "outputs": [
    {
     "data": {
      "text/plain": [
       "[['wepr', 2, 'doctor'], ['wepy', 3, 'nurse'], ['wep', 4, 'cat']]"
      ]
     },
     "execution_count": 186,
     "metadata": {},
     "output_type": "execute_result"
    }
   ],
   "source": [
    "list_of_list = [\n",
    "    [\"wepr\", 2, \"doctor\"],\n",
    "    [\"wepy\", 3, \"nurse\"],\n",
    "    [\"wep\", 4, \"cat\"]\n",
    "]\n",
    "\n",
    "list_of_list"
   ]
  },
  {
   "cell_type": "code",
   "execution_count": 191,
   "metadata": {},
   "outputs": [
    {
     "data": {
      "text/plain": [
       "['wepr', 2, 'doctor']"
      ]
     },
     "execution_count": 191,
     "metadata": {},
     "output_type": "execute_result"
    }
   ],
   "source": [
    "first = list_of_list[0]\n",
    "first"
   ]
  },
  {
   "cell_type": "code",
   "execution_count": 195,
   "metadata": {},
   "outputs": [
    {
     "data": {
      "text/plain": [
       "'wepr'"
      ]
     },
     "execution_count": 195,
     "metadata": {},
     "output_type": "execute_result"
    }
   ],
   "source": [
    "first_thing_of_first_list = list_of_list[0][0]\n",
    "first_thing_of_first_list"
   ]
  },
  {
   "cell_type": "code",
   "execution_count": 188,
   "metadata": {},
   "outputs": [],
   "source": [
    "list_of_dict = [\n",
    "                {\n",
    "                    \n",
    "    \"month\" : \"name\",\n",
    "    \"jan\" : \"bob\",\n",
    "    \"feb\" : \"cam\",\n",
    "    \"march\" : \"cat\"\n",
    "    }\n",
    "]"
   ]
  },
  {
   "cell_type": "code",
   "execution_count": 189,
   "metadata": {},
   "outputs": [
    {
     "data": {
      "text/plain": [
       "[{'month': 'name', 'jan': 'bob', 'feb': 'cam', 'march': 'cat'}]"
      ]
     },
     "execution_count": 189,
     "metadata": {},
     "output_type": "execute_result"
    }
   ],
   "source": [
    "list_of_dict"
   ]
  },
  {
   "cell_type": "markdown",
   "metadata": {},
   "source": [
    "#### Refer to things in the dictionary by [\"x\"] but with list [0] - specify the key names to point it out"
   ]
  },
  {
   "cell_type": "markdown",
   "metadata": {},
   "source": [
    "### new challenge"
   ]
  },
  {
   "cell_type": "markdown",
   "metadata": {},
   "source": [
    "Use the new_records dictionary to add each new stock ticker record to the corresponding list of records in the historical_stock_data dictionary. Appended stock ticker records should be in the following format: [date, open, high, low, close]. You have two options for how you do this:\n",
    "\n",
    "\n",
    "Create a list object for each new stock ticker record in the new_records dictionary in the above sequence. Manually append each list to the corresponding list of stock ticker records in the historical_stock_data dictionary.\n",
    "\n",
    "\n",
    "Loop through the new_records dictionary and append a new stock ticker record to each corresponding ticker in the historical_stock_data dictionary.\n",
    "\n",
    "\n",
    "\n",
    "\n",
    "Print out the modified historical_stock_data dictionary."
   ]
  },
  {
   "cell_type": "code",
   "execution_count": 215,
   "metadata": {},
   "outputs": [],
   "source": [
    "historical_stock_data = {\n",
    "    \"AAPL\": [\n",
    "        [\"04-17-2019\", 199.54, 203.38, 198.61, 203.13],\n",
    "        [\"04-18-2019\", 199.46, 201.37, 198.56, 199.25],\n",
    "        [\"04-19-2019\", 198.58, 199.85, 198.01, 199.23],\n",
    "        [\"04-20-2019\", 199.20, 200.14, 196.21, 198.87],\n",
    "\n",
    "    ],\n",
    "    \"MU\": [\n",
    "        [\"04-17-2019\", 43.20, 43.53, 42.79, 43.40],\n",
    "        [\"04-18-2019\", 43.36, 44.05, 42.76, 43.15],\n",
    "        [\"04-19-2019\", 42.26, 42.93, 42.08, 42.76],\n",
    "        [\"04-20-2019\", 42.17, 42.23, 41.20, 41.82],\n",
    "\n",
    "    ],\n",
    "    \"AMD\": [\n",
    "        [\"04-17-2019\", 27.60, 27.88, 27.34, 27.68],\n",
    "        [\"04-18-2019\", 28.21, 28.27, 27.22, 27.49],\n",
    "        [\"04-19-2019\", 27.72, 28.18, 27.49, 27.93],\n",
    "        [\"04-20-2019\", 27.80, 27.84, 26.96, 27.33],\n",
    "\n",
    "    ],\n",
    "    \"TWTR\": [\n",
    "        [\"04-17-2019\", 34.67, 34.86, 34.32, 34.40],\n",
    "        [\"04-18-2019\", 34.73, 34.90, 34.20, 34.48],\n",
    "        [\"04-19-2019\", 34.84, 34.99, 34.23, 34.46],\n",
    "        [\"04-20-2019\", 34.38, 35.03, 34.34, 34.71],\n",
    "\n",
    "    ]\n",
    "}"
   ]
  },
  {
   "cell_type": "code",
   "execution_count": 212,
   "metadata": {},
   "outputs": [
    {
     "data": {
      "text/plain": [
       "[['04-17-2019', 43.2, 43.53, 42.79, 43.4],\n",
       " ['04-18-2019', 43.36, 44.05, 42.76, 43.15],\n",
       " ['04-19-2019', 42.26, 42.93, 42.08, 42.76],\n",
       " ['04-20-2019', 42.17, 42.23, 41.2, 41.82]]"
      ]
     },
     "execution_count": 212,
     "metadata": {},
     "output_type": "execute_result"
    }
   ],
   "source": [
    "historical_stock_data[\"MU\"]"
   ]
  },
  {
   "cell_type": "markdown",
   "metadata": {},
   "source": [
    "# STUDY STUDY STUDY"
   ]
  },
  {
   "cell_type": "code",
   "execution_count": 219,
   "metadata": {},
   "outputs": [
    {
     "data": {
      "text/plain": [
       "{'AAPL': [['04-17-2019', 199.54, 203.38, 198.61, 203.13],\n",
       "  ['04-18-2019', 199.46, 201.37, 198.56, 199.25],\n",
       "  ['04-19-2019', 198.58, 199.85, 198.01, 199.23],\n",
       "  ['04-20-2019', 199.2, 200.14, 196.21, 198.87],\n",
       "  ['04-21-2019', 200.85, 201.0, 198.44, 198.95],\n",
       "  ['04-21-2019', 200.85, 201.0, 198.44, 198.95],\n",
       "  ['04-21-2019', 200.85, 201.0, 198.44, 198.95]],\n",
       " 'MU': [['04-17-2019', 43.2, 43.53, 42.79, 43.4],\n",
       "  ['04-18-2019', 43.36, 44.05, 42.76, 43.15],\n",
       "  ['04-19-2019', 42.26, 42.93, 42.08, 42.76],\n",
       "  ['04-20-2019', 42.17, 42.23, 41.2, 41.82],\n",
       "  ['04-21-2019', 42.85, 43.2, 41.81, 42.01],\n",
       "  ['04-21-2019', 42.85, 43.2, 41.81, 42.01],\n",
       "  ['04-21-2019', 42.85, 43.2, 41.81, 42.01]],\n",
       " 'AMD': [['04-17-2019', 27.6, 27.88, 27.34, 27.68],\n",
       "  ['04-18-2019', 28.21, 28.27, 27.22, 27.49],\n",
       "  ['04-19-2019', 27.72, 28.18, 27.49, 27.93],\n",
       "  ['04-20-2019', 27.8, 27.84, 26.96, 27.33],\n",
       "  ['04-21-2019', 28.21, 28.38, 27.66, 27.85],\n",
       "  ['04-21-2019', 28.21, 28.38, 27.66, 27.85],\n",
       "  ['04-21-2019', 28.21, 28.38, 27.66, 27.85]],\n",
       " 'TWTR': [['04-17-2019', 34.67, 34.86, 34.32, 34.4],\n",
       "  ['04-18-2019', 34.73, 34.9, 34.2, 34.48],\n",
       "  ['04-19-2019', 34.84, 34.99, 34.23, 34.46],\n",
       "  ['04-20-2019', 34.38, 35.03, 34.34, 34.71],\n",
       "  ['04-21-2019', 34.67, 34.83, 34.11, 34.37],\n",
       "  ['04-21-2019', 34.67, 34.83, 34.11, 34.37],\n",
       "  ['04-21-2019', 34.67, 34.83, 34.11, 34.37]]}"
      ]
     },
     "execution_count": 219,
     "metadata": {},
     "output_type": "execute_result"
    }
   ],
   "source": [
    "for key, value in new_records.items():\n",
    "    record = [value['date'], value['open'], value['high'], value['low'],value['close']] # Loops over only the values\n",
    "\n",
    "    historical_stock_data[key].append(record) #Appending those looped values (that are now in a list) onto the MATCHED KEYs through that his_stock_value[key]\n",
    "    \n",
    "historical_stock_data"
   ]
  },
  {
   "cell_type": "code",
   "execution_count": 216,
   "metadata": {},
   "outputs": [],
   "source": [
    "new_records = {\n",
    "    \"AAPL\": {\n",
    "        \"date\": \"04-21-2019\",\n",
    "        \"open\": 200.85,\n",
    "        \"high\": 201.00,\n",
    "        \"low\": 198.44,\n",
    "        \"close\": 198.95\n",
    "    },\n",
    "    \"MU\": {\n",
    "        \"date\": \"04-21-2019\",\n",
    "        \"open\": 42.85,\n",
    "        \"high\": 43.20,\n",
    "        \"low\": 41.81,\n",
    "        \"close\": 42.01\n",
    "    },\n",
    "    \"AMD\": {\n",
    "        \"date\": \"04-21-2019\",\n",
    "        \"open\": 28.21,\n",
    "        \"high\": 28.38,\n",
    "        \"low\": 27.66,\n",
    "        \"close\": 27.85\n",
    "    },\n",
    "    \"TWTR\": {\n",
    "        \"date\": \"04-21-2019\",\n",
    "        \"open\": 34.67,\n",
    "        \"high\": 34.83,\n",
    "        \"low\": 34.11,\n",
    "        \"close\": 34.37\n",
    "    }\n",
    "}"
   ]
  },
  {
   "cell_type": "code",
   "execution_count": 213,
   "metadata": {},
   "outputs": [
    {
     "data": {
      "text/plain": [
       "{'date': '04-21-2019',\n",
       " 'open': 200.85,\n",
       " 'high': 201.0,\n",
       " 'low': 198.44,\n",
       " 'close': 198.95}"
      ]
     },
     "execution_count": 213,
     "metadata": {},
     "output_type": "execute_result"
    }
   ],
   "source": [
    "new_records[\"AAPL\"]"
   ]
  },
  {
   "cell_type": "markdown",
   "metadata": {},
   "source": [
    "<br> <br>"
   ]
  },
  {
   "cell_type": "markdown",
   "metadata": {},
   "source": [
    "### Functions"
   ]
  },
  {
   "cell_type": "code",
   "execution_count": 224,
   "metadata": {},
   "outputs": [],
   "source": [
    "def fkitup(a,b):\n",
    "    return a*b**3"
   ]
  },
  {
   "cell_type": "code",
   "execution_count": 225,
   "metadata": {},
   "outputs": [
    {
     "data": {
      "text/plain": [
       "375"
      ]
     },
     "execution_count": 225,
     "metadata": {},
     "output_type": "execute_result"
    }
   ],
   "source": [
    "xy = fkitup(3,5)\n",
    "xy"
   ]
  },
  {
   "cell_type": "code",
   "execution_count": 227,
   "metadata": {},
   "outputs": [],
   "source": [
    "def yolo(x):\n",
    "    for i in x:\n",
    "        if i > 100:\n",
    "            print(f'{x} is big!')\n",
    "        elif i <100:\n",
    "            print(f'{x} is small!')"
   ]
  },
  {
   "cell_type": "code",
   "execution_count": 229,
   "metadata": {},
   "outputs": [],
   "source": [
    "lets = [1,8,9,19,50,70,90]"
   ]
  },
  {
   "cell_type": "code",
   "execution_count": 230,
   "metadata": {},
   "outputs": [
    {
     "name": "stdout",
     "output_type": "stream",
     "text": [
      "[1, 8, 9, 19, 50, 70, 90] is small!\n",
      "[1, 8, 9, 19, 50, 70, 90] is small!\n",
      "[1, 8, 9, 19, 50, 70, 90] is small!\n",
      "[1, 8, 9, 19, 50, 70, 90] is small!\n",
      "[1, 8, 9, 19, 50, 70, 90] is small!\n",
      "[1, 8, 9, 19, 50, 70, 90] is small!\n",
      "[1, 8, 9, 19, 50, 70, 90] is small!\n"
     ]
    }
   ],
   "source": [
    "ai = yolo(lets)\n",
    "ai"
   ]
  },
  {
   "cell_type": "markdown",
   "metadata": {},
   "source": [
    "Task"
   ]
  },
  {
   "cell_type": "code",
   "execution_count": 232,
   "metadata": {},
   "outputs": [],
   "source": [
    "def calculate_compound_growth_rate(beginning_balance,ending_balance,years):\n",
    "    growth_rate = ((ending_balance/beginning_balance)*(1/years))-1\n",
    "    \n",
    "    return growth_rate"
   ]
  },
  {
   "cell_type": "code",
   "execution_count": 234,
   "metadata": {},
   "outputs": [
    {
     "data": {
      "text/plain": [
       "0.5517241379310345"
      ]
     },
     "execution_count": 234,
     "metadata": {},
     "output_type": "execute_result"
    }
   ],
   "source": [
    "year_one_growth = calculate_compound_growth_rate(29000.00, 45000.00, 1.0)\n",
    "year_one_growth"
   ]
  },
  {
   "cell_type": "code",
   "execution_count": null,
   "metadata": {},
   "outputs": [],
   "source": [
    "year_two_growth = calculate_compound_growth_rate(29000.00, 45000.00, 3.0)\n",
    "year_two_growth"
   ]
  },
  {
   "cell_type": "code",
   "execution_count": null,
   "metadata": {},
   "outputs": [],
   "source": [
    "year_three_growth = calculate_compound_growth_rate(29000.00, 45000.00, 3.0)\n",
    "year_three_growth"
   ]
  },
  {
   "cell_type": "code",
   "execution_count": null,
   "metadata": {},
   "outputs": [],
   "source": []
  }
 ],
 "metadata": {
  "kernelspec": {
   "display_name": "Python 3",
   "language": "python",
   "name": "python3"
  },
  "language_info": {
   "codemirror_mode": {
    "name": "ipython",
    "version": 3
   },
   "file_extension": ".py",
   "mimetype": "text/x-python",
   "name": "python",
   "nbconvert_exporter": "python",
   "pygments_lexer": "ipython3",
   "version": "3.8.5"
  }
 },
 "nbformat": 4,
 "nbformat_minor": 4
}
