{
 "cells": [
  {
   "cell_type": "code",
   "execution_count": 74,
   "id": "85c3a47d-3f32-4907-8957-750b17ca7b2e",
   "metadata": {},
   "outputs": [],
   "source": [
    "import pandas as pd\n",
    "import numpy as np\n",
    "from dotenv import load_dotenv\n",
    "import requests\n",
    "import os\n",
    "import alpaca_trade_api as tradeapi\n",
    "import requests\n",
    "\n",
    "%matplotlib inline"
   ]
  },
  {
   "cell_type": "code",
   "execution_count": 75,
   "id": "557fab47-b152-4fa5-9aa4-526b8fec2812",
   "metadata": {},
   "outputs": [
    {
     "data": {
      "text/plain": [
       "True"
      ]
     },
     "execution_count": 75,
     "metadata": {},
     "output_type": "execute_result"
    }
   ],
   "source": [
    "load_dotenv()"
   ]
  },
  {
   "cell_type": "code",
   "execution_count": 76,
   "id": "7d829db6-e97c-4041-8516-2faafb3e83f3",
   "metadata": {},
   "outputs": [],
   "source": [
    "alpaca_api_key = os.getenv('ALPACA_API_KEY')\n",
    "alpaca_secret_key = os.getenv('ALPACA_SECRET_KEY')"
   ]
  },
  {
   "cell_type": "code",
   "execution_count": 77,
   "id": "2d348fa5-8678-4e06-831e-259fca166493",
   "metadata": {},
   "outputs": [
    {
     "data": {
      "text/plain": [
       "str"
      ]
     },
     "execution_count": 77,
     "metadata": {},
     "output_type": "execute_result"
    }
   ],
   "source": [
    "#verify\n",
    "type(alpaca_api_key)\n",
    "type(alpaca_secret_key)"
   ]
  },
  {
   "cell_type": "markdown",
   "id": "8d430ae8-7a5f-44af-a6d0-ffeeea7b2256",
   "metadata": {},
   "source": [
    "### TO save moving your .env file everywhere"
   ]
  },
  {
   "cell_type": "code",
   "execution_count": 78,
   "id": "d24a9170-f01c-4d4c-b33b-67e541f7290b",
   "metadata": {},
   "outputs": [
    {
     "data": {
      "text/plain": [
       "False"
      ]
     },
     "execution_count": 78,
     "metadata": {},
     "output_type": "execute_result"
    }
   ],
   "source": [
    "from pathlib import Path\n",
    "load_dotenv(Path('C:/.env'))"
   ]
  },
  {
   "cell_type": "markdown",
   "id": "2fa2f704-0ec9-4f4f-a7ba-13375fdda139",
   "metadata": {},
   "source": [
    "## This stuff below saves you from using \"import request\" and all of the stuff associated"
   ]
  },
  {
   "cell_type": "markdown",
   "id": "1debd8b6-8857-4c8f-b126-b12e200878a9",
   "metadata": {},
   "source": [
    "Link to all of the requests: https://pypi.org/project/alpaca-trade-api/"
   ]
  },
  {
   "cell_type": "code",
   "execution_count": 79,
   "id": "e7a9a48a-8ac9-4a44-ba7f-7bebcdac8112",
   "metadata": {},
   "outputs": [
    {
     "data": {
      "text/plain": [
       "\u001b[0;31mInit signature:\u001b[0m\n",
       "\u001b[0mtradeapi\u001b[0m\u001b[0;34m.\u001b[0m\u001b[0mREST\u001b[0m\u001b[0;34m(\u001b[0m\u001b[0;34m\u001b[0m\n",
       "\u001b[0;34m\u001b[0m    \u001b[0mkey_id\u001b[0m\u001b[0;34m:\u001b[0m \u001b[0mstr\u001b[0m \u001b[0;34m=\u001b[0m \u001b[0;32mNone\u001b[0m\u001b[0;34m,\u001b[0m\u001b[0;34m\u001b[0m\n",
       "\u001b[0;34m\u001b[0m    \u001b[0msecret_key\u001b[0m\u001b[0;34m:\u001b[0m \u001b[0mstr\u001b[0m \u001b[0;34m=\u001b[0m \u001b[0;32mNone\u001b[0m\u001b[0;34m,\u001b[0m\u001b[0;34m\u001b[0m\n",
       "\u001b[0;34m\u001b[0m    \u001b[0mbase_url\u001b[0m\u001b[0;34m:\u001b[0m \u001b[0malpaca_trade_api\u001b[0m\u001b[0;34m.\u001b[0m\u001b[0mcommon\u001b[0m\u001b[0;34m.\u001b[0m\u001b[0mURL\u001b[0m \u001b[0;34m=\u001b[0m \u001b[0;32mNone\u001b[0m\u001b[0;34m,\u001b[0m\u001b[0;34m\u001b[0m\n",
       "\u001b[0;34m\u001b[0m    \u001b[0mapi_version\u001b[0m\u001b[0;34m:\u001b[0m \u001b[0mstr\u001b[0m \u001b[0;34m=\u001b[0m \u001b[0;32mNone\u001b[0m\u001b[0;34m,\u001b[0m\u001b[0;34m\u001b[0m\n",
       "\u001b[0;34m\u001b[0m    \u001b[0moauth\u001b[0m\u001b[0;34m=\u001b[0m\u001b[0;32mNone\u001b[0m\u001b[0;34m,\u001b[0m\u001b[0;34m\u001b[0m\n",
       "\u001b[0;34m\u001b[0m    \u001b[0mraw_data\u001b[0m\u001b[0;34m:\u001b[0m \u001b[0mbool\u001b[0m \u001b[0;34m=\u001b[0m \u001b[0;32mFalse\u001b[0m\u001b[0;34m,\u001b[0m\u001b[0;34m\u001b[0m\n",
       "\u001b[0;34m\u001b[0m\u001b[0;34m)\u001b[0m\u001b[0;34m\u001b[0m\u001b[0;34m\u001b[0m\u001b[0m\n",
       "\u001b[0;31mDocstring:\u001b[0m      <no docstring>\n",
       "\u001b[0;31mInit docstring:\u001b[0m\n",
       ":param raw_data: should we return api response raw or wrap it with\n",
       "                 Entity objects.\n",
       "\u001b[0;31mFile:\u001b[0m           /opt/anaconda3/envs/dev/lib/python3.7/site-packages/alpaca_trade_api/rest.py\n",
       "\u001b[0;31mType:\u001b[0m           type\n",
       "\u001b[0;31mSubclasses:\u001b[0m     \n"
      ]
     },
     "metadata": {},
     "output_type": "display_data"
    }
   ],
   "source": [
    "#Create the Alpaca API object\n",
    "alpaca = tradeapi.REST?"
   ]
  },
  {
   "cell_type": "markdown",
   "id": "90571514-f12f-45f0-bb7d-a4709dff7e90",
   "metadata": {},
   "source": [
    "## Initialize the API"
   ]
  },
  {
   "cell_type": "code",
   "execution_count": 80,
   "id": "fbd33933-4245-4efb-acc7-9c491d437181",
   "metadata": {},
   "outputs": [],
   "source": [
    "alpaca = tradeapi.REST(\n",
    "    alpaca_api_key,\n",
    "    alpaca_secret_key,\n",
    "    api_version=\"v2\"\n",
    ")"
   ]
  },
  {
   "cell_type": "code",
   "execution_count": 81,
   "id": "0fe0ba7d-d664-46b4-9afb-49fbd34d3b6d",
   "metadata": {},
   "outputs": [
    {
     "data": {
      "text/plain": [
       "<alpaca_trade_api.rest.REST at 0x7fcffbf784d0>"
      ]
     },
     "execution_count": 81,
     "metadata": {},
     "output_type": "execute_result"
    }
   ],
   "source": [
    "#REST object test\n",
    "alpaca"
   ]
  },
  {
   "cell_type": "code",
   "execution_count": 82,
   "id": "e5b5e7b4-5bee-4241-bc29-77eccad399f7",
   "metadata": {},
   "outputs": [
    {
     "data": {
      "text/plain": [
       "\u001b[0;31mSignature:\u001b[0m\n",
       "\u001b[0malpaca\u001b[0m\u001b[0;34m.\u001b[0m\u001b[0mget_bars\u001b[0m\u001b[0;34m(\u001b[0m\u001b[0;34m\u001b[0m\n",
       "\u001b[0;34m\u001b[0m    \u001b[0msymbol\u001b[0m\u001b[0;34m:\u001b[0m \u001b[0mUnion\u001b[0m\u001b[0;34m[\u001b[0m\u001b[0mstr\u001b[0m\u001b[0;34m,\u001b[0m \u001b[0mList\u001b[0m\u001b[0;34m[\u001b[0m\u001b[0mstr\u001b[0m\u001b[0;34m]\u001b[0m\u001b[0;34m]\u001b[0m\u001b[0;34m,\u001b[0m\u001b[0;34m\u001b[0m\n",
       "\u001b[0;34m\u001b[0m    \u001b[0mtimeframe\u001b[0m\u001b[0;34m:\u001b[0m \u001b[0malpaca_trade_api\u001b[0m\u001b[0;34m.\u001b[0m\u001b[0mrest\u001b[0m\u001b[0;34m.\u001b[0m\u001b[0mTimeFrame\u001b[0m\u001b[0;34m,\u001b[0m\u001b[0;34m\u001b[0m\n",
       "\u001b[0;34m\u001b[0m    \u001b[0mstart\u001b[0m\u001b[0;34m:\u001b[0m \u001b[0mUnion\u001b[0m\u001b[0;34m[\u001b[0m\u001b[0mstr\u001b[0m\u001b[0;34m,\u001b[0m \u001b[0mNoneType\u001b[0m\u001b[0;34m]\u001b[0m \u001b[0;34m=\u001b[0m \u001b[0;32mNone\u001b[0m\u001b[0;34m,\u001b[0m\u001b[0;34m\u001b[0m\n",
       "\u001b[0;34m\u001b[0m    \u001b[0mend\u001b[0m\u001b[0;34m:\u001b[0m \u001b[0mUnion\u001b[0m\u001b[0;34m[\u001b[0m\u001b[0mstr\u001b[0m\u001b[0;34m,\u001b[0m \u001b[0mNoneType\u001b[0m\u001b[0;34m]\u001b[0m \u001b[0;34m=\u001b[0m \u001b[0;32mNone\u001b[0m\u001b[0;34m,\u001b[0m\u001b[0;34m\u001b[0m\n",
       "\u001b[0;34m\u001b[0m    \u001b[0madjustment\u001b[0m\u001b[0;34m:\u001b[0m \u001b[0mstr\u001b[0m \u001b[0;34m=\u001b[0m \u001b[0;34m'raw'\u001b[0m\u001b[0;34m,\u001b[0m\u001b[0;34m\u001b[0m\n",
       "\u001b[0;34m\u001b[0m    \u001b[0mlimit\u001b[0m\u001b[0;34m:\u001b[0m \u001b[0mint\u001b[0m \u001b[0;34m=\u001b[0m \u001b[0;32mNone\u001b[0m\u001b[0;34m,\u001b[0m\u001b[0;34m\u001b[0m\n",
       "\u001b[0;34m\u001b[0m    \u001b[0mfeed\u001b[0m\u001b[0;34m:\u001b[0m \u001b[0mUnion\u001b[0m\u001b[0;34m[\u001b[0m\u001b[0mstr\u001b[0m\u001b[0;34m,\u001b[0m \u001b[0mNoneType\u001b[0m\u001b[0;34m]\u001b[0m \u001b[0;34m=\u001b[0m \u001b[0;32mNone\u001b[0m\u001b[0;34m,\u001b[0m\u001b[0;34m\u001b[0m\n",
       "\u001b[0;34m\u001b[0m    \u001b[0masof\u001b[0m\u001b[0;34m:\u001b[0m \u001b[0mUnion\u001b[0m\u001b[0;34m[\u001b[0m\u001b[0mstr\u001b[0m\u001b[0;34m,\u001b[0m \u001b[0mNoneType\u001b[0m\u001b[0;34m]\u001b[0m \u001b[0;34m=\u001b[0m \u001b[0;32mNone\u001b[0m\u001b[0;34m,\u001b[0m\u001b[0;34m\u001b[0m\n",
       "\u001b[0;34m\u001b[0m\u001b[0;34m)\u001b[0m \u001b[0;34m->\u001b[0m \u001b[0malpaca_trade_api\u001b[0m\u001b[0;34m.\u001b[0m\u001b[0mentity_v2\u001b[0m\u001b[0;34m.\u001b[0m\u001b[0mBarsV2\u001b[0m\u001b[0;34m\u001b[0m\u001b[0;34m\u001b[0m\u001b[0m\n",
       "\u001b[0;31mDocstring:\u001b[0m <no docstring>\n",
       "\u001b[0;31mFile:\u001b[0m      /opt/anaconda3/envs/dev/lib/python3.7/site-packages/alpaca_trade_api/rest.py\n",
       "\u001b[0;31mType:\u001b[0m      method\n"
      ]
     },
     "metadata": {},
     "output_type": "display_data"
    }
   ],
   "source": [
    "alpaca.get_bars?"
   ]
  },
  {
   "cell_type": "code",
   "execution_count": 83,
   "id": "4b419958-8dd7-4449-bdf4-411da2ed2a1e",
   "metadata": {},
   "outputs": [],
   "source": [
    "#Format Current date as ISO format\n",
    "\n",
    "today = pd.Timestamp('2021-05-14', tz = 'America/New_York').isoformat()\n",
    "nottoday = pd.Timestamp('2022-07-14', tz = 'America/New_York').isoformat()"
   ]
  },
  {
   "cell_type": "code",
   "execution_count": 84,
   "id": "6c36610b-9ac6-4d49-88c8-f2bef6a09d1b",
   "metadata": {},
   "outputs": [],
   "source": [
    "tickers = ['FB', 'TWTR']"
   ]
  },
  {
   "cell_type": "code",
   "execution_count": 85,
   "id": "091ae10a-0325-4eae-93d0-ecb6ffb66ebf",
   "metadata": {},
   "outputs": [],
   "source": [
    "#set timeframe to one day (\"1Day\") for the alpaca api\n",
    "\n",
    "timeframe = '1Day'"
   ]
  },
  {
   "cell_type": "markdown",
   "id": "74e873eb-aaa9-479b-9321-121ebddf6617",
   "metadata": {
    "tags": []
   },
   "source": [
    "## Import the data"
   ]
  },
  {
   "cell_type": "code",
   "execution_count": 86,
   "id": "0323815a-175f-4ae4-b178-8847ccefce12",
   "metadata": {
    "tags": []
   },
   "outputs": [
    {
     "data": {
      "text/html": [
       "<div>\n",
       "<style scoped>\n",
       "    .dataframe tbody tr th:only-of-type {\n",
       "        vertical-align: middle;\n",
       "    }\n",
       "\n",
       "    .dataframe tbody tr th {\n",
       "        vertical-align: top;\n",
       "    }\n",
       "\n",
       "    .dataframe thead th {\n",
       "        text-align: right;\n",
       "    }\n",
       "</style>\n",
       "<table border=\"1\" class=\"dataframe\">\n",
       "  <thead>\n",
       "    <tr style=\"text-align: right;\">\n",
       "      <th></th>\n",
       "      <th>open</th>\n",
       "      <th>high</th>\n",
       "      <th>low</th>\n",
       "      <th>close</th>\n",
       "      <th>volume</th>\n",
       "      <th>trade_count</th>\n",
       "      <th>vwap</th>\n",
       "      <th>symbol</th>\n",
       "    </tr>\n",
       "    <tr>\n",
       "      <th>timestamp</th>\n",
       "      <th></th>\n",
       "      <th></th>\n",
       "      <th></th>\n",
       "      <th></th>\n",
       "      <th></th>\n",
       "      <th></th>\n",
       "      <th></th>\n",
       "      <th></th>\n",
       "    </tr>\n",
       "  </thead>\n",
       "  <tbody>\n",
       "    <tr>\n",
       "      <th>2021-05-14 04:00:00+00:00</th>\n",
       "      <td>309.540</td>\n",
       "      <td>316.85</td>\n",
       "      <td>309.08</td>\n",
       "      <td>315.94</td>\n",
       "      <td>19187703</td>\n",
       "      <td>232183</td>\n",
       "      <td>313.971450</td>\n",
       "      <td>FB</td>\n",
       "    </tr>\n",
       "    <tr>\n",
       "      <th>2021-05-17 04:00:00+00:00</th>\n",
       "      <td>313.550</td>\n",
       "      <td>315.68</td>\n",
       "      <td>311.58</td>\n",
       "      <td>315.46</td>\n",
       "      <td>15400943</td>\n",
       "      <td>176917</td>\n",
       "      <td>314.103262</td>\n",
       "      <td>FB</td>\n",
       "    </tr>\n",
       "    <tr>\n",
       "      <th>2021-05-18 04:00:00+00:00</th>\n",
       "      <td>315.590</td>\n",
       "      <td>316.50</td>\n",
       "      <td>309.81</td>\n",
       "      <td>309.96</td>\n",
       "      <td>14522332</td>\n",
       "      <td>197125</td>\n",
       "      <td>313.432871</td>\n",
       "      <td>FB</td>\n",
       "    </tr>\n",
       "    <tr>\n",
       "      <th>2021-05-19 04:00:00+00:00</th>\n",
       "      <td>304.185</td>\n",
       "      <td>314.66</td>\n",
       "      <td>303.57</td>\n",
       "      <td>313.59</td>\n",
       "      <td>19105844</td>\n",
       "      <td>243869</td>\n",
       "      <td>310.615098</td>\n",
       "      <td>FB</td>\n",
       "    </tr>\n",
       "    <tr>\n",
       "      <th>2021-05-20 04:00:00+00:00</th>\n",
       "      <td>313.580</td>\n",
       "      <td>319.25</td>\n",
       "      <td>313.16</td>\n",
       "      <td>318.61</td>\n",
       "      <td>17319741</td>\n",
       "      <td>214875</td>\n",
       "      <td>317.385351</td>\n",
       "      <td>FB</td>\n",
       "    </tr>\n",
       "  </tbody>\n",
       "</table>\n",
       "</div>"
      ],
      "text/plain": [
       "                              open    high     low   close    volume  \\\n",
       "timestamp                                                              \n",
       "2021-05-14 04:00:00+00:00  309.540  316.85  309.08  315.94  19187703   \n",
       "2021-05-17 04:00:00+00:00  313.550  315.68  311.58  315.46  15400943   \n",
       "2021-05-18 04:00:00+00:00  315.590  316.50  309.81  309.96  14522332   \n",
       "2021-05-19 04:00:00+00:00  304.185  314.66  303.57  313.59  19105844   \n",
       "2021-05-20 04:00:00+00:00  313.580  319.25  313.16  318.61  17319741   \n",
       "\n",
       "                           trade_count        vwap symbol  \n",
       "timestamp                                                  \n",
       "2021-05-14 04:00:00+00:00       232183  313.971450     FB  \n",
       "2021-05-17 04:00:00+00:00       176917  314.103262     FB  \n",
       "2021-05-18 04:00:00+00:00       197125  313.432871     FB  \n",
       "2021-05-19 04:00:00+00:00       243869  310.615098     FB  \n",
       "2021-05-20 04:00:00+00:00       214875  317.385351     FB  "
      ]
     },
     "execution_count": 86,
     "metadata": {},
     "output_type": "execute_result"
    }
   ],
   "source": [
    "#get current closing prices for tickers\n",
    "df_pork = alpaca.get_bars(\n",
    "    tickers,\n",
    "    timeframe,\n",
    "    start = today,\n",
    "    end = nottoday\n",
    ").df #WHY DO WE PUT .df?\n",
    "\n",
    "#display sample data\n",
    "df_pork.head(5)"
   ]
  },
  {
   "cell_type": "code",
   "execution_count": 87,
   "id": "fc57eedf-8074-4baa-aca8-05c3ebb6c6e9",
   "metadata": {},
   "outputs": [],
   "source": [
    "from alpaca_trade_api.rest import TimeFrame, TimeFrameUnit"
   ]
  },
  {
   "cell_type": "markdown",
   "id": "7cc01355-8889-4c69-b235-cbe7248c19e8",
   "metadata": {},
   "source": [
    "### Getting hourly/minutes data"
   ]
  },
  {
   "cell_type": "code",
   "execution_count": 89,
   "id": "dfbe181e-be3a-4626-b8da-e14691622c74",
   "metadata": {},
   "outputs": [
    {
     "data": {
      "text/html": [
       "<div>\n",
       "<style scoped>\n",
       "    .dataframe tbody tr th:only-of-type {\n",
       "        vertical-align: middle;\n",
       "    }\n",
       "\n",
       "    .dataframe tbody tr th {\n",
       "        vertical-align: top;\n",
       "    }\n",
       "\n",
       "    .dataframe thead th {\n",
       "        text-align: right;\n",
       "    }\n",
       "</style>\n",
       "<table border=\"1\" class=\"dataframe\">\n",
       "  <thead>\n",
       "    <tr style=\"text-align: right;\">\n",
       "      <th></th>\n",
       "      <th>open</th>\n",
       "      <th>high</th>\n",
       "      <th>low</th>\n",
       "      <th>close</th>\n",
       "      <th>volume</th>\n",
       "      <th>trade_count</th>\n",
       "      <th>vwap</th>\n",
       "      <th>symbol</th>\n",
       "    </tr>\n",
       "    <tr>\n",
       "      <th>timestamp</th>\n",
       "      <th></th>\n",
       "      <th></th>\n",
       "      <th></th>\n",
       "      <th></th>\n",
       "      <th></th>\n",
       "      <th></th>\n",
       "      <th></th>\n",
       "      <th></th>\n",
       "    </tr>\n",
       "  </thead>\n",
       "  <tbody>\n",
       "    <tr>\n",
       "      <th>2021-05-14 08:00:00+00:00</th>\n",
       "      <td>307.800</td>\n",
       "      <td>309.500</td>\n",
       "      <td>307.5000</td>\n",
       "      <td>308.710</td>\n",
       "      <td>50561</td>\n",
       "      <td>970</td>\n",
       "      <td>308.550892</td>\n",
       "      <td>FB</td>\n",
       "    </tr>\n",
       "    <tr>\n",
       "      <th>2021-05-14 13:00:00+00:00</th>\n",
       "      <td>308.700</td>\n",
       "      <td>314.775</td>\n",
       "      <td>308.0900</td>\n",
       "      <td>314.760</td>\n",
       "      <td>11596333</td>\n",
       "      <td>150582</td>\n",
       "      <td>312.683275</td>\n",
       "      <td>FB</td>\n",
       "    </tr>\n",
       "    <tr>\n",
       "      <th>2021-05-14 18:00:00+00:00</th>\n",
       "      <td>314.760</td>\n",
       "      <td>316.850</td>\n",
       "      <td>314.6500</td>\n",
       "      <td>316.620</td>\n",
       "      <td>7361740</td>\n",
       "      <td>79132</td>\n",
       "      <td>316.000396</td>\n",
       "      <td>FB</td>\n",
       "    </tr>\n",
       "    <tr>\n",
       "      <th>2021-05-14 23:00:00+00:00</th>\n",
       "      <td>316.400</td>\n",
       "      <td>317.000</td>\n",
       "      <td>316.4000</td>\n",
       "      <td>317.000</td>\n",
       "      <td>5899</td>\n",
       "      <td>64</td>\n",
       "      <td>316.680910</td>\n",
       "      <td>FB</td>\n",
       "    </tr>\n",
       "    <tr>\n",
       "      <th>2021-05-17 06:00:00+00:00</th>\n",
       "      <td>314.500</td>\n",
       "      <td>315.000</td>\n",
       "      <td>314.5000</td>\n",
       "      <td>314.550</td>\n",
       "      <td>2882</td>\n",
       "      <td>73</td>\n",
       "      <td>314.684643</td>\n",
       "      <td>FB</td>\n",
       "    </tr>\n",
       "    <tr>\n",
       "      <th>...</th>\n",
       "      <td>...</td>\n",
       "      <td>...</td>\n",
       "      <td>...</td>\n",
       "      <td>...</td>\n",
       "      <td>...</td>\n",
       "      <td>...</td>\n",
       "      <td>...</td>\n",
       "      <td>...</td>\n",
       "    </tr>\n",
       "    <tr>\n",
       "      <th>2022-07-12 22:00:00+00:00</th>\n",
       "      <td>34.360</td>\n",
       "      <td>34.580</td>\n",
       "      <td>34.0600</td>\n",
       "      <td>34.440</td>\n",
       "      <td>1173112</td>\n",
       "      <td>1212</td>\n",
       "      <td>34.161991</td>\n",
       "      <td>TWTR</td>\n",
       "    </tr>\n",
       "    <tr>\n",
       "      <th>2022-07-13 08:00:00+00:00</th>\n",
       "      <td>34.460</td>\n",
       "      <td>35.050</td>\n",
       "      <td>34.2100</td>\n",
       "      <td>34.410</td>\n",
       "      <td>872309</td>\n",
       "      <td>7402</td>\n",
       "      <td>34.645784</td>\n",
       "      <td>TWTR</td>\n",
       "    </tr>\n",
       "    <tr>\n",
       "      <th>2022-07-13 13:00:00+00:00</th>\n",
       "      <td>34.410</td>\n",
       "      <td>37.160</td>\n",
       "      <td>34.0600</td>\n",
       "      <td>36.815</td>\n",
       "      <td>38974547</td>\n",
       "      <td>228366</td>\n",
       "      <td>36.253238</td>\n",
       "      <td>TWTR</td>\n",
       "    </tr>\n",
       "    <tr>\n",
       "      <th>2022-07-13 18:00:00+00:00</th>\n",
       "      <td>36.815</td>\n",
       "      <td>36.910</td>\n",
       "      <td>36.4300</td>\n",
       "      <td>36.740</td>\n",
       "      <td>10173196</td>\n",
       "      <td>49549</td>\n",
       "      <td>36.756014</td>\n",
       "      <td>TWTR</td>\n",
       "    </tr>\n",
       "    <tr>\n",
       "      <th>2022-07-13 23:00:00+00:00</th>\n",
       "      <td>36.750</td>\n",
       "      <td>36.780</td>\n",
       "      <td>36.5301</td>\n",
       "      <td>36.700</td>\n",
       "      <td>125913</td>\n",
       "      <td>668</td>\n",
       "      <td>36.667876</td>\n",
       "      <td>TWTR</td>\n",
       "    </tr>\n",
       "  </tbody>\n",
       "</table>\n",
       "<p>2248 rows × 8 columns</p>\n",
       "</div>"
      ],
      "text/plain": [
       "                              open     high       low    close    volume  \\\n",
       "timestamp                                                                  \n",
       "2021-05-14 08:00:00+00:00  307.800  309.500  307.5000  308.710     50561   \n",
       "2021-05-14 13:00:00+00:00  308.700  314.775  308.0900  314.760  11596333   \n",
       "2021-05-14 18:00:00+00:00  314.760  316.850  314.6500  316.620   7361740   \n",
       "2021-05-14 23:00:00+00:00  316.400  317.000  316.4000  317.000      5899   \n",
       "2021-05-17 06:00:00+00:00  314.500  315.000  314.5000  314.550      2882   \n",
       "...                            ...      ...       ...      ...       ...   \n",
       "2022-07-12 22:00:00+00:00   34.360   34.580   34.0600   34.440   1173112   \n",
       "2022-07-13 08:00:00+00:00   34.460   35.050   34.2100   34.410    872309   \n",
       "2022-07-13 13:00:00+00:00   34.410   37.160   34.0600   36.815  38974547   \n",
       "2022-07-13 18:00:00+00:00   36.815   36.910   36.4300   36.740  10173196   \n",
       "2022-07-13 23:00:00+00:00   36.750   36.780   36.5301   36.700    125913   \n",
       "\n",
       "                           trade_count        vwap symbol  \n",
       "timestamp                                                  \n",
       "2021-05-14 08:00:00+00:00          970  308.550892     FB  \n",
       "2021-05-14 13:00:00+00:00       150582  312.683275     FB  \n",
       "2021-05-14 18:00:00+00:00        79132  316.000396     FB  \n",
       "2021-05-14 23:00:00+00:00           64  316.680910     FB  \n",
       "2021-05-17 06:00:00+00:00           73  314.684643     FB  \n",
       "...                                ...         ...    ...  \n",
       "2022-07-12 22:00:00+00:00         1212   34.161991   TWTR  \n",
       "2022-07-13 08:00:00+00:00         7402   34.645784   TWTR  \n",
       "2022-07-13 13:00:00+00:00       228366   36.253238   TWTR  \n",
       "2022-07-13 18:00:00+00:00        49549   36.756014   TWTR  \n",
       "2022-07-13 23:00:00+00:00          668   36.667876   TWTR  \n",
       "\n",
       "[2248 rows x 8 columns]"
      ]
     },
     "execution_count": 89,
     "metadata": {},
     "output_type": "execute_result"
    }
   ],
   "source": [
    "#get current closing prices for tickers\n",
    "df_port = alpaca.get_bars(\n",
    "    tickers,\n",
    "    TimeFrame(5, TimeFrameUnit.Hour), # Every 5 hours\n",
    "    start = today,\n",
    "    end = nottoday\n",
    ").df #WHY DO WE PUT .df?\n",
    "\n",
    "#display sample data\n",
    "df_port"
   ]
  },
  {
   "cell_type": "markdown",
   "id": "f19ca164-93c1-4767-ba84-394bbd021a5e",
   "metadata": {},
   "source": [
    "<br>"
   ]
  },
  {
   "cell_type": "markdown",
   "id": "8a402891-66ea-483d-902f-19fbc7f942db",
   "metadata": {},
   "source": [
    "df_port[df_port['symbol']=='FB']\n",
    "\n",
    "- This only selects the columns where the symbol == FB"
   ]
  },
  {
   "cell_type": "code",
   "execution_count": 90,
   "id": "48021740-7937-4b6d-b5ef-43483ac47875",
   "metadata": {},
   "outputs": [
    {
     "data": {
      "text/html": [
       "<div>\n",
       "<style scoped>\n",
       "    .dataframe tbody tr th:only-of-type {\n",
       "        vertical-align: middle;\n",
       "    }\n",
       "\n",
       "    .dataframe tbody tr th {\n",
       "        vertical-align: top;\n",
       "    }\n",
       "\n",
       "    .dataframe thead tr th {\n",
       "        text-align: left;\n",
       "    }\n",
       "\n",
       "    .dataframe thead tr:last-of-type th {\n",
       "        text-align: right;\n",
       "    }\n",
       "</style>\n",
       "<table border=\"1\" class=\"dataframe\">\n",
       "  <thead>\n",
       "    <tr>\n",
       "      <th></th>\n",
       "      <th colspan=\"7\" halign=\"left\">FB</th>\n",
       "      <th colspan=\"7\" halign=\"left\">TWTR</th>\n",
       "    </tr>\n",
       "    <tr>\n",
       "      <th></th>\n",
       "      <th>open</th>\n",
       "      <th>high</th>\n",
       "      <th>low</th>\n",
       "      <th>close</th>\n",
       "      <th>volume</th>\n",
       "      <th>trade_count</th>\n",
       "      <th>vwap</th>\n",
       "      <th>open</th>\n",
       "      <th>high</th>\n",
       "      <th>low</th>\n",
       "      <th>close</th>\n",
       "      <th>volume</th>\n",
       "      <th>trade_count</th>\n",
       "      <th>vwap</th>\n",
       "    </tr>\n",
       "    <tr>\n",
       "      <th>timestamp</th>\n",
       "      <th></th>\n",
       "      <th></th>\n",
       "      <th></th>\n",
       "      <th></th>\n",
       "      <th></th>\n",
       "      <th></th>\n",
       "      <th></th>\n",
       "      <th></th>\n",
       "      <th></th>\n",
       "      <th></th>\n",
       "      <th></th>\n",
       "      <th></th>\n",
       "      <th></th>\n",
       "      <th></th>\n",
       "    </tr>\n",
       "  </thead>\n",
       "  <tbody>\n",
       "    <tr>\n",
       "      <th>2021-05-14 04:00:00+00:00</th>\n",
       "      <td>309.540</td>\n",
       "      <td>316.85</td>\n",
       "      <td>309.08</td>\n",
       "      <td>315.94</td>\n",
       "      <td>19187703.0</td>\n",
       "      <td>232183.0</td>\n",
       "      <td>313.971450</td>\n",
       "      <td>50.61</td>\n",
       "      <td>51.915</td>\n",
       "      <td>50.190</td>\n",
       "      <td>51.73</td>\n",
       "      <td>9784162</td>\n",
       "      <td>77086</td>\n",
       "      <td>51.370649</td>\n",
       "    </tr>\n",
       "    <tr>\n",
       "      <th>2021-05-17 04:00:00+00:00</th>\n",
       "      <td>313.550</td>\n",
       "      <td>315.68</td>\n",
       "      <td>311.58</td>\n",
       "      <td>315.46</td>\n",
       "      <td>15400943.0</td>\n",
       "      <td>176917.0</td>\n",
       "      <td>314.103262</td>\n",
       "      <td>52.23</td>\n",
       "      <td>52.730</td>\n",
       "      <td>51.275</td>\n",
       "      <td>52.60</td>\n",
       "      <td>21351655</td>\n",
       "      <td>120767</td>\n",
       "      <td>52.294794</td>\n",
       "    </tr>\n",
       "    <tr>\n",
       "      <th>2021-05-18 04:00:00+00:00</th>\n",
       "      <td>315.590</td>\n",
       "      <td>316.50</td>\n",
       "      <td>309.81</td>\n",
       "      <td>309.96</td>\n",
       "      <td>14522332.0</td>\n",
       "      <td>197125.0</td>\n",
       "      <td>313.432871</td>\n",
       "      <td>52.60</td>\n",
       "      <td>55.150</td>\n",
       "      <td>52.420</td>\n",
       "      <td>53.19</td>\n",
       "      <td>23612297</td>\n",
       "      <td>149270</td>\n",
       "      <td>53.727058</td>\n",
       "    </tr>\n",
       "    <tr>\n",
       "      <th>2021-05-19 04:00:00+00:00</th>\n",
       "      <td>304.185</td>\n",
       "      <td>314.66</td>\n",
       "      <td>303.57</td>\n",
       "      <td>313.59</td>\n",
       "      <td>19105844.0</td>\n",
       "      <td>243869.0</td>\n",
       "      <td>310.615098</td>\n",
       "      <td>52.19</td>\n",
       "      <td>53.160</td>\n",
       "      <td>51.670</td>\n",
       "      <td>52.92</td>\n",
       "      <td>21551253</td>\n",
       "      <td>101382</td>\n",
       "      <td>52.768514</td>\n",
       "    </tr>\n",
       "    <tr>\n",
       "      <th>2021-05-20 04:00:00+00:00</th>\n",
       "      <td>313.580</td>\n",
       "      <td>319.25</td>\n",
       "      <td>313.16</td>\n",
       "      <td>318.61</td>\n",
       "      <td>17319741.0</td>\n",
       "      <td>214875.0</td>\n",
       "      <td>317.385351</td>\n",
       "      <td>53.23</td>\n",
       "      <td>54.910</td>\n",
       "      <td>53.220</td>\n",
       "      <td>54.71</td>\n",
       "      <td>12612695</td>\n",
       "      <td>95945</td>\n",
       "      <td>54.438546</td>\n",
       "    </tr>\n",
       "  </tbody>\n",
       "</table>\n",
       "</div>"
      ],
      "text/plain": [
       "                                FB                                      \\\n",
       "                              open    high     low   close      volume   \n",
       "timestamp                                                                \n",
       "2021-05-14 04:00:00+00:00  309.540  316.85  309.08  315.94  19187703.0   \n",
       "2021-05-17 04:00:00+00:00  313.550  315.68  311.58  315.46  15400943.0   \n",
       "2021-05-18 04:00:00+00:00  315.590  316.50  309.81  309.96  14522332.0   \n",
       "2021-05-19 04:00:00+00:00  304.185  314.66  303.57  313.59  19105844.0   \n",
       "2021-05-20 04:00:00+00:00  313.580  319.25  313.16  318.61  17319741.0   \n",
       "\n",
       "                                                    TWTR                  \\\n",
       "                          trade_count        vwap   open    high     low   \n",
       "timestamp                                                                  \n",
       "2021-05-14 04:00:00+00:00    232183.0  313.971450  50.61  51.915  50.190   \n",
       "2021-05-17 04:00:00+00:00    176917.0  314.103262  52.23  52.730  51.275   \n",
       "2021-05-18 04:00:00+00:00    197125.0  313.432871  52.60  55.150  52.420   \n",
       "2021-05-19 04:00:00+00:00    243869.0  310.615098  52.19  53.160  51.670   \n",
       "2021-05-20 04:00:00+00:00    214875.0  317.385351  53.23  54.910  53.220   \n",
       "\n",
       "                                                                   \n",
       "                           close    volume trade_count       vwap  \n",
       "timestamp                                                          \n",
       "2021-05-14 04:00:00+00:00  51.73   9784162       77086  51.370649  \n",
       "2021-05-17 04:00:00+00:00  52.60  21351655      120767  52.294794  \n",
       "2021-05-18 04:00:00+00:00  53.19  23612297      149270  53.727058  \n",
       "2021-05-19 04:00:00+00:00  52.92  21551253      101382  52.768514  \n",
       "2021-05-20 04:00:00+00:00  54.71  12612695       95945  54.438546  "
      ]
     },
     "execution_count": 90,
     "metadata": {},
     "output_type": "execute_result"
    }
   ],
   "source": [
    "# Re-organise the data\n",
    "\n",
    "FB=df_pork[df_pork['symbol']=='FB'].drop('symbol', axis =1) # kinda like an if\n",
    "TWTR =df_pork[df_pork['symbol']=='TWTR'].drop('symbol', axis =1)\n",
    "\n",
    "\n",
    "df_port1 = pd.concat([FB,TWTR], axis=1, keys=['FB' , 'TWTR']) # don't understand 'keys' input\n",
    "\n",
    "df_port1.head(5)"
   ]
  },
  {
   "cell_type": "code",
   "execution_count": 91,
   "id": "a77aa39a-40b4-41d3-95f7-1afcee547e0a",
   "metadata": {},
   "outputs": [
    {
     "data": {
      "text/html": [
       "<div>\n",
       "<style scoped>\n",
       "    .dataframe tbody tr th:only-of-type {\n",
       "        vertical-align: middle;\n",
       "    }\n",
       "\n",
       "    .dataframe tbody tr th {\n",
       "        vertical-align: top;\n",
       "    }\n",
       "\n",
       "    .dataframe thead th {\n",
       "        text-align: right;\n",
       "    }\n",
       "</style>\n",
       "<table border=\"1\" class=\"dataframe\">\n",
       "  <thead>\n",
       "    <tr style=\"text-align: right;\">\n",
       "      <th></th>\n",
       "      <th>FB</th>\n",
       "      <th>TWTR</th>\n",
       "    </tr>\n",
       "  </thead>\n",
       "  <tbody>\n",
       "    <tr>\n",
       "      <th>2021-05-14</th>\n",
       "      <td>315.94</td>\n",
       "      <td>51.73</td>\n",
       "    </tr>\n",
       "    <tr>\n",
       "      <th>2021-05-17</th>\n",
       "      <td>315.46</td>\n",
       "      <td>52.60</td>\n",
       "    </tr>\n",
       "    <tr>\n",
       "      <th>2021-05-18</th>\n",
       "      <td>309.96</td>\n",
       "      <td>53.19</td>\n",
       "    </tr>\n",
       "    <tr>\n",
       "      <th>2021-05-19</th>\n",
       "      <td>313.59</td>\n",
       "      <td>52.92</td>\n",
       "    </tr>\n",
       "    <tr>\n",
       "      <th>2021-05-20</th>\n",
       "      <td>318.61</td>\n",
       "      <td>54.71</td>\n",
       "    </tr>\n",
       "    <tr>\n",
       "      <th>...</th>\n",
       "      <td>...</td>\n",
       "      <td>...</td>\n",
       "    </tr>\n",
       "    <tr>\n",
       "      <th>2022-07-08</th>\n",
       "      <td>NaN</td>\n",
       "      <td>36.81</td>\n",
       "    </tr>\n",
       "    <tr>\n",
       "      <th>2022-07-11</th>\n",
       "      <td>NaN</td>\n",
       "      <td>32.65</td>\n",
       "    </tr>\n",
       "    <tr>\n",
       "      <th>2022-07-12</th>\n",
       "      <td>NaN</td>\n",
       "      <td>34.06</td>\n",
       "    </tr>\n",
       "    <tr>\n",
       "      <th>2022-07-13</th>\n",
       "      <td>NaN</td>\n",
       "      <td>36.75</td>\n",
       "    </tr>\n",
       "    <tr>\n",
       "      <th>2022-07-14</th>\n",
       "      <td>NaN</td>\n",
       "      <td>36.29</td>\n",
       "    </tr>\n",
       "  </tbody>\n",
       "</table>\n",
       "<p>294 rows × 2 columns</p>\n",
       "</div>"
      ],
      "text/plain": [
       "                FB   TWTR\n",
       "2021-05-14  315.94  51.73\n",
       "2021-05-17  315.46  52.60\n",
       "2021-05-18  309.96  53.19\n",
       "2021-05-19  313.59  52.92\n",
       "2021-05-20  318.61  54.71\n",
       "...            ...    ...\n",
       "2022-07-08     NaN  36.81\n",
       "2022-07-11     NaN  32.65\n",
       "2022-07-12     NaN  34.06\n",
       "2022-07-13     NaN  36.75\n",
       "2022-07-14     NaN  36.29\n",
       "\n",
       "[294 rows x 2 columns]"
      ]
     },
     "execution_count": 91,
     "metadata": {},
     "output_type": "execute_result"
    }
   ],
   "source": [
    "df_closing_prices = pd.DataFrame()\n",
    "\n",
    "#fill out the df\n",
    "df_closing_prices['FB'] = df_port1['FB']['close']\n",
    "df_closing_prices['TWTR'] = df_port1['TWTR']['close']\n",
    "\n",
    "#drop time component of the date\n",
    "df_closing_prices.index = df_closing_prices.index.date\n",
    "\n",
    "df_closing_prices"
   ]
  },
  {
   "cell_type": "code",
   "execution_count": 92,
   "id": "af7d22b1-abb1-4ee1-a825-d1d9f23c9797",
   "metadata": {},
   "outputs": [
    {
     "data": {
      "text/plain": [
       "<AxesSubplot:>"
      ]
     },
     "execution_count": 92,
     "metadata": {},
     "output_type": "execute_result"
    },
    {
     "data": {
      "image/png": "[encoded data removed]",
      "text/plain": [
       "<Figure size 640x480 with 1 Axes>"
      ]
     },
     "metadata": {},
     "output_type": "display_data"
    }
   ],
   "source": [
    "retty = df_closing_prices.pct_change().dropna()\n",
    "\n",
    "(1+retty).cumprod().plot()"
   ]
  },
  {
   "cell_type": "markdown",
   "id": "00ef29bd-4e39-405d-ace1-a2ebbcb21f90",
   "metadata": {},
   "source": [
    "<br>"
   ]
  },
  {
   "cell_type": "markdown",
   "id": "8a1004bd-e5ff-478a-8dd1-7114309e88a7",
   "metadata": {},
   "source": [
    "## Investment Value - Task"
   ]
  },
  {
   "cell_type": "code",
   "execution_count": 188,
   "id": "3d8a0d65-9fc2-4419-935f-a38ac114451b",
   "metadata": {},
   "outputs": [],
   "source": [
    "d = {'MSFT': [200], 'AAPL': [320]}\n",
    "port = pd.DataFrame(d)\n",
    "port.rename(index ={0 : 'share'}, inplace=True)\n",
    "port3 = port.T"
   ]
  },
  {
   "cell_type": "code",
   "execution_count": 122,
   "id": "b98792ac-38e3-4c98-94df-4b4b1c7d6ced",
   "metadata": {},
   "outputs": [],
   "source": [
    "current_MSFT = 200\n",
    "current_AAPL = 320\n",
    "\n",
    "ticker1 = ['MSFT', 'AAPL']"
   ]
  },
  {
   "cell_type": "code",
   "execution_count": 123,
   "id": "b6450d63-e0c9-4322-ab45-9885f68a511b",
   "metadata": {
    "tags": []
   },
   "outputs": [],
   "source": [
    "alpaca = tradeapi.REST(\n",
    "    alpaca_api_key,\n",
    "    alpaca_secret_key,\n",
    "    api_version=\"v2\"\n",
    ")"
   ]
  },
  {
   "cell_type": "code",
   "execution_count": 124,
   "id": "8543ebc3-9a28-4d52-b3d5-2a973d7c3956",
   "metadata": {},
   "outputs": [],
   "source": [
    "a = pd.Timestamp('2010-11-30', tz = 'America/New_York').isoformat()\n",
    "b = pd.Timestamp('2016-11-30', tz = 'America/New_York').isoformat()"
   ]
  },
  {
   "cell_type": "code",
   "execution_count": 125,
   "id": "29e13e7b-bcef-48ee-85b6-67940985b5d2",
   "metadata": {},
   "outputs": [],
   "source": [
    "timeframe = '1Day'"
   ]
  },
  {
   "cell_type": "code",
   "execution_count": 134,
   "id": "04cfb2a5-0965-4e81-8f4f-2f42ac0c556c",
   "metadata": {},
   "outputs": [
    {
     "data": {
      "text/html": [
       "<div>\n",
       "<style scoped>\n",
       "    .dataframe tbody tr th:only-of-type {\n",
       "        vertical-align: middle;\n",
       "    }\n",
       "\n",
       "    .dataframe tbody tr th {\n",
       "        vertical-align: top;\n",
       "    }\n",
       "\n",
       "    .dataframe thead th {\n",
       "        text-align: right;\n",
       "    }\n",
       "</style>\n",
       "<table border=\"1\" class=\"dataframe\">\n",
       "  <thead>\n",
       "    <tr style=\"text-align: right;\">\n",
       "      <th></th>\n",
       "      <th>open</th>\n",
       "      <th>high</th>\n",
       "      <th>low</th>\n",
       "      <th>close</th>\n",
       "      <th>volume</th>\n",
       "      <th>trade_count</th>\n",
       "      <th>vwap</th>\n",
       "      <th>symbol</th>\n",
       "    </tr>\n",
       "    <tr>\n",
       "      <th>timestamp</th>\n",
       "      <th></th>\n",
       "      <th></th>\n",
       "      <th></th>\n",
       "      <th></th>\n",
       "      <th></th>\n",
       "      <th></th>\n",
       "      <th></th>\n",
       "      <th></th>\n",
       "    </tr>\n",
       "  </thead>\n",
       "  <tbody>\n",
       "    <tr>\n",
       "      <th>2015-12-01 05:00:00+00:00</th>\n",
       "      <td>118.75</td>\n",
       "      <td>118.81</td>\n",
       "      <td>116.860</td>\n",
       "      <td>117.34</td>\n",
       "      <td>34852374</td>\n",
       "      <td>187129</td>\n",
       "      <td>117.756760</td>\n",
       "      <td>AAPL</td>\n",
       "    </tr>\n",
       "    <tr>\n",
       "      <th>2015-12-02 05:00:00+00:00</th>\n",
       "      <td>117.05</td>\n",
       "      <td>118.11</td>\n",
       "      <td>116.080</td>\n",
       "      <td>116.28</td>\n",
       "      <td>33385643</td>\n",
       "      <td>180616</td>\n",
       "      <td>117.151198</td>\n",
       "      <td>AAPL</td>\n",
       "    </tr>\n",
       "    <tr>\n",
       "      <th>2015-12-03 05:00:00+00:00</th>\n",
       "      <td>116.55</td>\n",
       "      <td>116.79</td>\n",
       "      <td>114.220</td>\n",
       "      <td>115.20</td>\n",
       "      <td>41560785</td>\n",
       "      <td>245330</td>\n",
       "      <td>115.434888</td>\n",
       "      <td>AAPL</td>\n",
       "    </tr>\n",
       "    <tr>\n",
       "      <th>2015-12-04 05:00:00+00:00</th>\n",
       "      <td>115.29</td>\n",
       "      <td>119.25</td>\n",
       "      <td>115.110</td>\n",
       "      <td>119.03</td>\n",
       "      <td>57776977</td>\n",
       "      <td>307788</td>\n",
       "      <td>118.187290</td>\n",
       "      <td>AAPL</td>\n",
       "    </tr>\n",
       "    <tr>\n",
       "      <th>2015-12-07 05:00:00+00:00</th>\n",
       "      <td>118.98</td>\n",
       "      <td>119.86</td>\n",
       "      <td>117.810</td>\n",
       "      <td>118.28</td>\n",
       "      <td>32080754</td>\n",
       "      <td>190809</td>\n",
       "      <td>118.509111</td>\n",
       "      <td>AAPL</td>\n",
       "    </tr>\n",
       "    <tr>\n",
       "      <th>...</th>\n",
       "      <td>...</td>\n",
       "      <td>...</td>\n",
       "      <td>...</td>\n",
       "      <td>...</td>\n",
       "      <td>...</td>\n",
       "      <td>...</td>\n",
       "      <td>...</td>\n",
       "      <td>...</td>\n",
       "    </tr>\n",
       "    <tr>\n",
       "      <th>2016-11-23 05:00:00+00:00</th>\n",
       "      <td>61.01</td>\n",
       "      <td>61.10</td>\n",
       "      <td>60.250</td>\n",
       "      <td>60.40</td>\n",
       "      <td>21936368</td>\n",
       "      <td>107663</td>\n",
       "      <td>60.441067</td>\n",
       "      <td>MSFT</td>\n",
       "    </tr>\n",
       "    <tr>\n",
       "      <th>2016-11-25 05:00:00+00:00</th>\n",
       "      <td>60.30</td>\n",
       "      <td>60.53</td>\n",
       "      <td>60.130</td>\n",
       "      <td>60.53</td>\n",
       "      <td>8410638</td>\n",
       "      <td>44435</td>\n",
       "      <td>60.419213</td>\n",
       "      <td>MSFT</td>\n",
       "    </tr>\n",
       "    <tr>\n",
       "      <th>2016-11-28 05:00:00+00:00</th>\n",
       "      <td>60.34</td>\n",
       "      <td>61.02</td>\n",
       "      <td>60.210</td>\n",
       "      <td>60.61</td>\n",
       "      <td>20733011</td>\n",
       "      <td>96812</td>\n",
       "      <td>60.640260</td>\n",
       "      <td>MSFT</td>\n",
       "    </tr>\n",
       "    <tr>\n",
       "      <th>2016-11-29 05:00:00+00:00</th>\n",
       "      <td>60.65</td>\n",
       "      <td>61.41</td>\n",
       "      <td>60.520</td>\n",
       "      <td>61.09</td>\n",
       "      <td>22367255</td>\n",
       "      <td>100028</td>\n",
       "      <td>61.070475</td>\n",
       "      <td>MSFT</td>\n",
       "    </tr>\n",
       "    <tr>\n",
       "      <th>2016-11-30 05:00:00+00:00</th>\n",
       "      <td>60.86</td>\n",
       "      <td>61.18</td>\n",
       "      <td>60.215</td>\n",
       "      <td>60.26</td>\n",
       "      <td>34677272</td>\n",
       "      <td>140803</td>\n",
       "      <td>60.456790</td>\n",
       "      <td>MSFT</td>\n",
       "    </tr>\n",
       "  </tbody>\n",
       "</table>\n",
       "<p>506 rows × 8 columns</p>\n",
       "</div>"
      ],
      "text/plain": [
       "                             open    high      low   close    volume  \\\n",
       "timestamp                                                              \n",
       "2015-12-01 05:00:00+00:00  118.75  118.81  116.860  117.34  34852374   \n",
       "2015-12-02 05:00:00+00:00  117.05  118.11  116.080  116.28  33385643   \n",
       "2015-12-03 05:00:00+00:00  116.55  116.79  114.220  115.20  41560785   \n",
       "2015-12-04 05:00:00+00:00  115.29  119.25  115.110  119.03  57776977   \n",
       "2015-12-07 05:00:00+00:00  118.98  119.86  117.810  118.28  32080754   \n",
       "...                           ...     ...      ...     ...       ...   \n",
       "2016-11-23 05:00:00+00:00   61.01   61.10   60.250   60.40  21936368   \n",
       "2016-11-25 05:00:00+00:00   60.30   60.53   60.130   60.53   8410638   \n",
       "2016-11-28 05:00:00+00:00   60.34   61.02   60.210   60.61  20733011   \n",
       "2016-11-29 05:00:00+00:00   60.65   61.41   60.520   61.09  22367255   \n",
       "2016-11-30 05:00:00+00:00   60.86   61.18   60.215   60.26  34677272   \n",
       "\n",
       "                           trade_count        vwap symbol  \n",
       "timestamp                                                  \n",
       "2015-12-01 05:00:00+00:00       187129  117.756760   AAPL  \n",
       "2015-12-02 05:00:00+00:00       180616  117.151198   AAPL  \n",
       "2015-12-03 05:00:00+00:00       245330  115.434888   AAPL  \n",
       "2015-12-04 05:00:00+00:00       307788  118.187290   AAPL  \n",
       "2015-12-07 05:00:00+00:00       190809  118.509111   AAPL  \n",
       "...                                ...         ...    ...  \n",
       "2016-11-23 05:00:00+00:00       107663   60.441067   MSFT  \n",
       "2016-11-25 05:00:00+00:00        44435   60.419213   MSFT  \n",
       "2016-11-28 05:00:00+00:00        96812   60.640260   MSFT  \n",
       "2016-11-29 05:00:00+00:00       100028   61.070475   MSFT  \n",
       "2016-11-30 05:00:00+00:00       140803   60.456790   MSFT  \n",
       "\n",
       "[506 rows x 8 columns]"
      ]
     },
     "execution_count": 134,
     "metadata": {},
     "output_type": "execute_result"
    }
   ],
   "source": [
    "#get current closing prices for tickers\n",
    "df_pak = alpaca.get_bars(\n",
    "    ticker1,\n",
    "    timeframe,\n",
    "    start = a,\n",
    "    end = b\n",
    ").df #WHY DO WE PUT .df?\n",
    "\n",
    "#display sample data\n",
    "df_pak"
   ]
  },
  {
   "cell_type": "code",
   "execution_count": 136,
   "id": "69263309-1eb1-4385-96ab-bf3841dee410",
   "metadata": {},
   "outputs": [],
   "source": [
    "AAPL=df_pak[df_pak['symbol']=='AAPL'].drop('symbol', axis=1)\n",
    "              \n",
    "              \n",
    "MSFT=df_pak[df_pak['symbol']=='MSFT'].drop('symbol', axis=1)"
   ]
  },
  {
   "cell_type": "code",
   "execution_count": 145,
   "id": "1c569379-1f5f-4417-92bb-4d995fb90b81",
   "metadata": {},
   "outputs": [
    {
     "data": {
      "text/html": [
       "<div>\n",
       "<style scoped>\n",
       "    .dataframe tbody tr th:only-of-type {\n",
       "        vertical-align: middle;\n",
       "    }\n",
       "\n",
       "    .dataframe tbody tr th {\n",
       "        vertical-align: top;\n",
       "    }\n",
       "\n",
       "    .dataframe thead tr th {\n",
       "        text-align: left;\n",
       "    }\n",
       "\n",
       "    .dataframe thead tr:last-of-type th {\n",
       "        text-align: right;\n",
       "    }\n",
       "</style>\n",
       "<table border=\"1\" class=\"dataframe\">\n",
       "  <thead>\n",
       "    <tr>\n",
       "      <th></th>\n",
       "      <th colspan=\"7\" halign=\"left\">AAPL</th>\n",
       "      <th colspan=\"7\" halign=\"left\">MSFT</th>\n",
       "    </tr>\n",
       "    <tr>\n",
       "      <th></th>\n",
       "      <th>open</th>\n",
       "      <th>high</th>\n",
       "      <th>low</th>\n",
       "      <th>close</th>\n",
       "      <th>volume</th>\n",
       "      <th>trade_count</th>\n",
       "      <th>vwap</th>\n",
       "      <th>open</th>\n",
       "      <th>high</th>\n",
       "      <th>low</th>\n",
       "      <th>close</th>\n",
       "      <th>volume</th>\n",
       "      <th>trade_count</th>\n",
       "      <th>vwap</th>\n",
       "    </tr>\n",
       "    <tr>\n",
       "      <th>timestamp</th>\n",
       "      <th></th>\n",
       "      <th></th>\n",
       "      <th></th>\n",
       "      <th></th>\n",
       "      <th></th>\n",
       "      <th></th>\n",
       "      <th></th>\n",
       "      <th></th>\n",
       "      <th></th>\n",
       "      <th></th>\n",
       "      <th></th>\n",
       "      <th></th>\n",
       "      <th></th>\n",
       "      <th></th>\n",
       "    </tr>\n",
       "  </thead>\n",
       "  <tbody>\n",
       "    <tr>\n",
       "      <th>2015-12-01 05:00:00+00:00</th>\n",
       "      <td>118.75</td>\n",
       "      <td>118.81</td>\n",
       "      <td>116.86</td>\n",
       "      <td>117.34</td>\n",
       "      <td>34852374</td>\n",
       "      <td>187129</td>\n",
       "      <td>117.756760</td>\n",
       "      <td>54.41</td>\n",
       "      <td>55.23</td>\n",
       "      <td>54.30</td>\n",
       "      <td>55.22</td>\n",
       "      <td>39952779</td>\n",
       "      <td>194807</td>\n",
       "      <td>54.877235</td>\n",
       "    </tr>\n",
       "    <tr>\n",
       "      <th>2015-12-02 05:00:00+00:00</th>\n",
       "      <td>117.05</td>\n",
       "      <td>118.11</td>\n",
       "      <td>116.08</td>\n",
       "      <td>116.28</td>\n",
       "      <td>33385643</td>\n",
       "      <td>180616</td>\n",
       "      <td>117.151198</td>\n",
       "      <td>55.32</td>\n",
       "      <td>55.96</td>\n",
       "      <td>55.06</td>\n",
       "      <td>55.21</td>\n",
       "      <td>47274879</td>\n",
       "      <td>225980</td>\n",
       "      <td>55.484361</td>\n",
       "    </tr>\n",
       "    <tr>\n",
       "      <th>2015-12-03 05:00:00+00:00</th>\n",
       "      <td>116.55</td>\n",
       "      <td>116.79</td>\n",
       "      <td>114.22</td>\n",
       "      <td>115.20</td>\n",
       "      <td>41560785</td>\n",
       "      <td>245330</td>\n",
       "      <td>115.434888</td>\n",
       "      <td>55.49</td>\n",
       "      <td>55.77</td>\n",
       "      <td>53.93</td>\n",
       "      <td>54.20</td>\n",
       "      <td>38627835</td>\n",
       "      <td>219413</td>\n",
       "      <td>54.475820</td>\n",
       "    </tr>\n",
       "    <tr>\n",
       "      <th>2015-12-04 05:00:00+00:00</th>\n",
       "      <td>115.29</td>\n",
       "      <td>119.25</td>\n",
       "      <td>115.11</td>\n",
       "      <td>119.03</td>\n",
       "      <td>57776977</td>\n",
       "      <td>307788</td>\n",
       "      <td>118.187290</td>\n",
       "      <td>54.12</td>\n",
       "      <td>56.23</td>\n",
       "      <td>54.10</td>\n",
       "      <td>55.91</td>\n",
       "      <td>43963662</td>\n",
       "      <td>232021</td>\n",
       "      <td>55.540921</td>\n",
       "    </tr>\n",
       "    <tr>\n",
       "      <th>2015-12-07 05:00:00+00:00</th>\n",
       "      <td>118.98</td>\n",
       "      <td>119.86</td>\n",
       "      <td>117.81</td>\n",
       "      <td>118.28</td>\n",
       "      <td>32080754</td>\n",
       "      <td>190809</td>\n",
       "      <td>118.509111</td>\n",
       "      <td>55.79</td>\n",
       "      <td>55.97</td>\n",
       "      <td>55.29</td>\n",
       "      <td>55.81</td>\n",
       "      <td>30709765</td>\n",
       "      <td>182309</td>\n",
       "      <td>55.623798</td>\n",
       "    </tr>\n",
       "  </tbody>\n",
       "</table>\n",
       "</div>"
      ],
      "text/plain": [
       "                             AAPL                                    \\\n",
       "                             open    high     low   close    volume   \n",
       "timestamp                                                             \n",
       "2015-12-01 05:00:00+00:00  118.75  118.81  116.86  117.34  34852374   \n",
       "2015-12-02 05:00:00+00:00  117.05  118.11  116.08  116.28  33385643   \n",
       "2015-12-03 05:00:00+00:00  116.55  116.79  114.22  115.20  41560785   \n",
       "2015-12-04 05:00:00+00:00  115.29  119.25  115.11  119.03  57776977   \n",
       "2015-12-07 05:00:00+00:00  118.98  119.86  117.81  118.28  32080754   \n",
       "\n",
       "                                                    MSFT                       \\\n",
       "                          trade_count        vwap   open   high    low  close   \n",
       "timestamp                                                                       \n",
       "2015-12-01 05:00:00+00:00      187129  117.756760  54.41  55.23  54.30  55.22   \n",
       "2015-12-02 05:00:00+00:00      180616  117.151198  55.32  55.96  55.06  55.21   \n",
       "2015-12-03 05:00:00+00:00      245330  115.434888  55.49  55.77  53.93  54.20   \n",
       "2015-12-04 05:00:00+00:00      307788  118.187290  54.12  56.23  54.10  55.91   \n",
       "2015-12-07 05:00:00+00:00      190809  118.509111  55.79  55.97  55.29  55.81   \n",
       "\n",
       "                                                            \n",
       "                             volume trade_count       vwap  \n",
       "timestamp                                                   \n",
       "2015-12-01 05:00:00+00:00  39952779      194807  54.877235  \n",
       "2015-12-02 05:00:00+00:00  47274879      225980  55.484361  \n",
       "2015-12-03 05:00:00+00:00  38627835      219413  54.475820  \n",
       "2015-12-04 05:00:00+00:00  43963662      232021  55.540921  \n",
       "2015-12-07 05:00:00+00:00  30709765      182309  55.623798  "
      ]
     },
     "execution_count": 145,
     "metadata": {},
     "output_type": "execute_result"
    }
   ],
   "source": [
    "comb = pd.concat([AAPL, MSFT], axis=1, keys=['AAPL', 'MSFT'])\n",
    "comb.head(5)"
   ]
  },
  {
   "cell_type": "code",
   "execution_count": 149,
   "id": "f91f138a-942a-4411-a1d5-6f746d49a12e",
   "metadata": {},
   "outputs": [
    {
     "data": {
      "text/html": [
       "<div>\n",
       "<style scoped>\n",
       "    .dataframe tbody tr th:only-of-type {\n",
       "        vertical-align: middle;\n",
       "    }\n",
       "\n",
       "    .dataframe tbody tr th {\n",
       "        vertical-align: top;\n",
       "    }\n",
       "\n",
       "    .dataframe thead th {\n",
       "        text-align: right;\n",
       "    }\n",
       "</style>\n",
       "<table border=\"1\" class=\"dataframe\">\n",
       "  <thead>\n",
       "    <tr style=\"text-align: right;\">\n",
       "      <th></th>\n",
       "      <th>AAPL</th>\n",
       "      <th>MSFT</th>\n",
       "    </tr>\n",
       "  </thead>\n",
       "  <tbody>\n",
       "    <tr>\n",
       "      <th>2015-12-01</th>\n",
       "      <td>117.34</td>\n",
       "      <td>55.22</td>\n",
       "    </tr>\n",
       "    <tr>\n",
       "      <th>2015-12-02</th>\n",
       "      <td>116.28</td>\n",
       "      <td>55.21</td>\n",
       "    </tr>\n",
       "    <tr>\n",
       "      <th>2015-12-03</th>\n",
       "      <td>115.20</td>\n",
       "      <td>54.20</td>\n",
       "    </tr>\n",
       "    <tr>\n",
       "      <th>2015-12-04</th>\n",
       "      <td>119.03</td>\n",
       "      <td>55.91</td>\n",
       "    </tr>\n",
       "    <tr>\n",
       "      <th>2015-12-07</th>\n",
       "      <td>118.28</td>\n",
       "      <td>55.81</td>\n",
       "    </tr>\n",
       "    <tr>\n",
       "      <th>...</th>\n",
       "      <td>...</td>\n",
       "      <td>...</td>\n",
       "    </tr>\n",
       "    <tr>\n",
       "      <th>2016-11-23</th>\n",
       "      <td>111.23</td>\n",
       "      <td>60.40</td>\n",
       "    </tr>\n",
       "    <tr>\n",
       "      <th>2016-11-25</th>\n",
       "      <td>111.79</td>\n",
       "      <td>60.53</td>\n",
       "    </tr>\n",
       "    <tr>\n",
       "      <th>2016-11-28</th>\n",
       "      <td>111.57</td>\n",
       "      <td>60.61</td>\n",
       "    </tr>\n",
       "    <tr>\n",
       "      <th>2016-11-29</th>\n",
       "      <td>111.46</td>\n",
       "      <td>61.09</td>\n",
       "    </tr>\n",
       "    <tr>\n",
       "      <th>2016-11-30</th>\n",
       "      <td>110.52</td>\n",
       "      <td>60.26</td>\n",
       "    </tr>\n",
       "  </tbody>\n",
       "</table>\n",
       "<p>253 rows × 2 columns</p>\n",
       "</div>"
      ],
      "text/plain": [
       "              AAPL   MSFT\n",
       "2015-12-01  117.34  55.22\n",
       "2015-12-02  116.28  55.21\n",
       "2015-12-03  115.20  54.20\n",
       "2015-12-04  119.03  55.91\n",
       "2015-12-07  118.28  55.81\n",
       "...            ...    ...\n",
       "2016-11-23  111.23  60.40\n",
       "2016-11-25  111.79  60.53\n",
       "2016-11-28  111.57  60.61\n",
       "2016-11-29  111.46  61.09\n",
       "2016-11-30  110.52  60.26\n",
       "\n",
       "[253 rows x 2 columns]"
      ]
     },
     "execution_count": 149,
     "metadata": {},
     "output_type": "execute_result"
    }
   ],
   "source": [
    "close = pd.DataFrame()\n",
    "\n",
    "close['AAPL'] = comb['AAPL']['close']\n",
    "close['MSFT'] = comb['MSFT']['close']\n",
    "\n",
    "close.index = close.index.date #drops time\n",
    "\n",
    "close"
   ]
  },
  {
   "cell_type": "code",
   "execution_count": 152,
   "id": "2863e10e-f8cc-44e0-9d35-76d02dc98f95",
   "metadata": {},
   "outputs": [],
   "source": [
    "AAPL_value = current_AAPL * AAPL.iloc[-1,0]\n",
    "\n",
    "MFST_value = current_MSFT * MSFT.iloc[-1,0]"
   ]
  },
  {
   "cell_type": "code",
   "execution_count": 154,
   "id": "0db0dd95-2e52-41fb-b22f-1ca8b3088c21",
   "metadata": {},
   "outputs": [
    {
     "name": "stdout",
     "output_type": "stream",
     "text": [
      "The current value of the 200 MSFT shares is $12172.0\n",
      "The current value of the 320 AAPL shares is $35712.0\n"
     ]
    }
   ],
   "source": [
    "print(f'The current value of the 200 MSFT shares is ${MFST_value}')\n",
    "print(f'The current value of the 320 AAPL shares is ${AAPL_value}')"
   ]
  },
  {
   "cell_type": "code",
   "execution_count": null,
   "id": "689a09ea-c382-4ed7-abc7-d4bdc54bb3b6",
   "metadata": {},
   "outputs": [],
   "source": [
    "close_ret = close.pct_change()"
   ]
  },
  {
   "cell_type": "code",
   "execution_count": 162,
   "id": "5a452814-2c60-4aa9-bb1f-041582feeb38",
   "metadata": {},
   "outputs": [],
   "source": [
    "da = {'MSFT': [12172.0], 'AAPL': [35712.0]}\n",
    "new1 = pd.DataFrame(da)"
   ]
  },
  {
   "cell_type": "code",
   "execution_count": 163,
   "id": "eeddf570-afd8-460e-a563-900178861cb9",
   "metadata": {},
   "outputs": [
    {
     "data": {
      "text/html": [
       "<div>\n",
       "<style scoped>\n",
       "    .dataframe tbody tr th:only-of-type {\n",
       "        vertical-align: middle;\n",
       "    }\n",
       "\n",
       "    .dataframe tbody tr th {\n",
       "        vertical-align: top;\n",
       "    }\n",
       "\n",
       "    .dataframe thead th {\n",
       "        text-align: right;\n",
       "    }\n",
       "</style>\n",
       "<table border=\"1\" class=\"dataframe\">\n",
       "  <thead>\n",
       "    <tr style=\"text-align: right;\">\n",
       "      <th></th>\n",
       "      <th>MSFT</th>\n",
       "      <th>AAPL</th>\n",
       "    </tr>\n",
       "  </thead>\n",
       "  <tbody>\n",
       "    <tr>\n",
       "      <th>0</th>\n",
       "      <td>12172.0</td>\n",
       "      <td>35712.0</td>\n",
       "    </tr>\n",
       "  </tbody>\n",
       "</table>\n",
       "</div>"
      ],
      "text/plain": [
       "      MSFT     AAPL\n",
       "0  12172.0  35712.0"
      ]
     },
     "execution_count": 163,
     "metadata": {},
     "output_type": "execute_result"
    }
   ],
   "source": [
    "new1"
   ]
  },
  {
   "cell_type": "code",
   "execution_count": 190,
   "id": "177e9724-438b-4640-acdb-c81988966b3b",
   "metadata": {},
   "outputs": [
    {
     "data": {
      "text/plain": [
       "<AxesSubplot:ylabel='share'>"
      ]
     },
     "execution_count": 190,
     "metadata": {},
     "output_type": "execute_result"
    },
    {
     "data": {
      "image/png": "[encoded data removed]",
      "text/plain": [
       "<Figure size 640x480 with 1 Axes>"
      ]
     },
     "metadata": {},
     "output_type": "display_data"
    }
   ],
   "source": [
    "port3.plot(y = 'share',  kind=\"pie\")"
   ]
  },
  {
   "cell_type": "code",
   "execution_count": 174,
   "id": "5abcd80f-1f33-4cf4-ace5-71e489c1b1c1",
   "metadata": {},
   "outputs": [
    {
     "data": {
      "text/plain": [
       "<AxesSubplot:>"
      ]
     },
     "execution_count": 174,
     "metadata": {},
     "output_type": "execute_result"
    },
    {
     "data": {
      "image/png": "[encoded data removed]",
      "text/plain": [
       "<Figure size 640x480 with 1 Axes>"
      ]
     },
     "metadata": {},
     "output_type": "display_data"
    }
   ],
   "source": [
    "new1.plot(kind=\"bar\")"
   ]
  },
  {
   "cell_type": "code",
   "execution_count": 198,
   "id": "2a276452-9653-4a8f-a096-377f7ed7f523",
   "metadata": {},
   "outputs": [
    {
     "data": {
      "text/plain": [
       "<AxesSubplot:ylabel='Frequency'>"
      ]
     },
     "execution_count": 198,
     "metadata": {},
     "output_type": "execute_result"
    },
    {
     "data": {
      "image/png": "[encoded data removed]",
      "text/plain": [
       "<Figure size 640x480 with 1 Axes>"
      ]
     },
     "metadata": {},
     "output_type": "display_data"
    }
   ],
   "source": [
    "ready = close_ret.dropna()\n",
    "ready['AAPl'].plot.hist()"
   ]
  },
  {
   "cell_type": "code",
   "execution_count": 201,
   "id": "264a070e-ca0d-4ebe-b0b0-f12241480394",
   "metadata": {},
   "outputs": [
    {
     "data": {
      "text/plain": [
       "<AxesSubplot:ylabel='Density'>"
      ]
     },
     "execution_count": 201,
     "metadata": {},
     "output_type": "execute_result"
    },
    {
     "data": {
      "image/png": "[encoded data removed]",
      "text/plain": [
       "<Figure size 640x480 with 1 Axes>"
      ]
     },
     "metadata": {},
     "output_type": "display_data"
    }
   ],
   "source": [
    "ready.plot.density()"
   ]
  },
  {
   "cell_type": "markdown",
   "id": "d32aa795-b468-4d7f-806e-231f1fe983d3",
   "metadata": {},
   "source": [
    "<br>"
   ]
  },
  {
   "cell_type": "code",
   "execution_count": 205,
   "id": "44e82701-62bf-465a-a40c-64a5e6913a05",
   "metadata": {},
   "outputs": [
    {
     "ename": "ModuleNotFoundError",
     "evalue": "No module named 'MCForecastTools'",
     "output_type": "error",
     "traceback": [
      "\u001b[0;31m---------------------------------------------------------------------------\u001b[0m",
      "\u001b[0;31mModuleNotFoundError\u001b[0m                       Traceback (most recent call last)",
      "\u001b[0;32m/var/folders/nz/424vlqmj33v65fjkj1km03m80000gn/T/ipykernel_47628/2960728356.py\u001b[0m in \u001b[0;36m<module>\u001b[0;34m\u001b[0m\n\u001b[0;32m----> 1\u001b[0;31m \u001b[0;32mfrom\u001b[0m \u001b[0mMCForecastTools\u001b[0m\u001b[0;34m.\u001b[0m\u001b[0mpy\u001b[0m \u001b[0;32mimport\u001b[0m \u001b[0mMCSmimulation\u001b[0m\u001b[0;34m\u001b[0m\u001b[0;34m\u001b[0m\u001b[0m\n\u001b[0m",
      "\u001b[0;31mModuleNotFoundError\u001b[0m: No module named 'MCForecastTools'"
     ]
    }
   ],
   "source": [
    "from MCForecastTools.py import MCSmimulation"
   ]
  },
  {
   "cell_type": "code",
   "execution_count": null,
   "id": "734135f4-4256-4836-8e0b-ee2be0e77b12",
   "metadata": {},
   "outputs": [],
   "source": []
  }
 ],
 "metadata": {
  "kernelspec": {
   "display_name": "Python 3 (ipykernel)",
   "language": "python",
   "name": "python3"
  },
  "language_info": {
   "codemirror_mode": {
    "name": "ipython",
    "version": 3
   },
   "file_extension": ".py",
   "mimetype": "text/x-python",
   "name": "python",
   "nbconvert_exporter": "python",
   "pygments_lexer": "ipython3",
   "version": "3.7.13"
  }
 },
 "nbformat": 4,
 "nbformat_minor": 5
}
