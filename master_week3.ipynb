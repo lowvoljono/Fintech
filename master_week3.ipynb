{
 "cells": [
  {
   "cell_type": "code",
   "execution_count": 180,
   "metadata": {},
   "outputs": [],
   "source": [
    "import numpy as np\n",
    "import pandas as pd\n",
    "import matplotlib.pyplot as plt\n",
    "import math"
   ]
  },
  {
   "cell_type": "markdown",
   "metadata": {},
   "source": [
    "https://sydney.bootcampcontent.com/university-of-sydney/USYD-VIRT-FIN-PT-12-2022-U-LOLC/-/blob/main/03-Python-Pandas/1/Activities/03-condition-control-flow-01/README.md"
   ]
  },
  {
   "cell_type": "code",
   "execution_count": 9,
   "metadata": {},
   "outputs": [
    {
     "name": "stdout",
     "output_type": "stream",
     "text": [
      "['pig', 'cow', 'chicken', 'dog', 'horse', 'sheep']\n"
     ]
    }
   ],
   "source": [
    "farm = [\"pig\", \"cow\", \"chicken\", \"dog\", \"horse\", \"sheep\"]\n",
    "print(farm)"
   ]
  },
  {
   "cell_type": "code",
   "execution_count": 11,
   "metadata": {},
   "outputs": [
    {
     "name": "stdout",
     "output_type": "stream",
     "text": [
      "RWAR!\n"
     ]
    }
   ],
   "source": [
    "if farm[0] != \"Godzilla\":\n",
    "        print(\"RWAR!\")\n",
    "        \n",
    "elif farm[-1] == \"Mothra\":\n",
    "        print(\"SCREECH!\")\n",
    "        \n",
    "else: \n",
    "    print(\"This animal is neither Godzilla nor Mothra!\")"
   ]
  },
  {
   "cell_type": "code",
   "execution_count": 12,
   "metadata": {},
   "outputs": [],
   "source": [
    "dog = \"Spot\"\n",
    "cat = []\n",
    "city = []\n",
    "car = []"
   ]
  },
  {
   "cell_type": "code",
   "execution_count": 13,
   "metadata": {},
   "outputs": [
    {
     "name": "stdout",
     "output_type": "stream",
     "text": [
      "See Spot run!\n"
     ]
    }
   ],
   "source": [
    "print(f\"See {dog} run!\")"
   ]
  },
  {
   "cell_type": "code",
   "execution_count": 14,
   "metadata": {},
   "outputs": [],
   "source": [
    "budget = 5000\n",
    "rent = 1500\n",
    "util = 150\n",
    "food = 250\n",
    "transport = 350\n",
    "pc_cost = 2000\n",
    "total_cost = rent + util + food + transport + pc_cost"
   ]
  },
  {
   "cell_type": "code",
   "execution_count": 15,
   "metadata": {},
   "outputs": [
    {
     "name": "stdout",
     "output_type": "stream",
     "text": [
      "Your total cost is $4250 :)\n"
     ]
    }
   ],
   "source": [
    "if total_cost <= 5000:\n",
    "    print(f\"Your total cost is ${total_cost} :)\")\n",
    "else:\n",
    "    print (f\"You're over budget by ${budget - total_cost}\")"
   ]
  },
  {
   "cell_type": "code",
   "execution_count": 16,
   "metadata": {},
   "outputs": [
    {
     "name": "stdout",
     "output_type": "stream",
     "text": [
      "rent b higher than food util and transport by $750\n"
     ]
    }
   ],
   "source": [
    "if rent > util+food+transport:\n",
    "    print(f\"rent b higher than food util and transport by ${rent - (util + food + transport)}\")\n",
    "else:\n",
    "    print('just right!')"
   ]
  },
  {
   "cell_type": "markdown",
   "metadata": {},
   "source": [
    "Conditional"
   ]
  },
  {
   "cell_type": "markdown",
   "metadata": {},
   "source": [
    "https://sydney.bootcampcontent.com/university-of-sydney/USYD-VIRT-FIN-PT-12-2022-U-LOLC/-/tree/main/03-Python-Pandas/1/Activities/04-condition-control-flow-02"
   ]
  },
  {
   "cell_type": "code",
   "execution_count": 17,
   "metadata": {},
   "outputs": [],
   "source": [
    "c1_name = \"Mr. Farley\"\n",
    "c1_age = 65\n",
    "c2_name = \"Mr. Snuggles\"\n",
    "c2_age = 30\n",
    "c1_prof = \"Web Developer\"\n",
    "c2_prof = \"Accountant\""
   ]
  },
  {
   "cell_type": "code",
   "execution_count": 18,
   "metadata": {},
   "outputs": [
    {
     "name": "stdout",
     "output_type": "stream",
     "text": [
      "hello Mr. Farley\n"
     ]
    }
   ],
   "source": [
    "if c1_name == \"Mr. Farley\":\n",
    "    print(f'hello {c1_name}')\n",
    "else:\n",
    "    print(f'hello stranger')"
   ]
  },
  {
   "cell_type": "code",
   "execution_count": 19,
   "metadata": {},
   "outputs": [
    {
     "name": "stdout",
     "output_type": "stream",
     "text": [
      "30 is younger than 65\n"
     ]
    }
   ],
   "source": [
    "if c2_age > c1_age:\n",
    "    print(f'{c2_age}older than{c1_age}')\n",
    "elif c2_age < c1_age:\n",
    "    print(f'{c2_age} is younger than {c1_age}')\n",
    "else:\n",
    "    print('theyre the same age')"
   ]
  },
  {
   "cell_type": "code",
   "execution_count": 20,
   "metadata": {},
   "outputs": [
    {
     "name": "stdout",
     "output_type": "stream",
     "text": [
      "g\n"
     ]
    }
   ],
   "source": [
    "if c1_prof == \"Web Developer\" and c2_prof == \"Accountant\":\n",
    "    print('g')\n",
    "else:\n",
    "    print('nah')"
   ]
  },
  {
   "cell_type": "code",
   "execution_count": 21,
   "metadata": {},
   "outputs": [],
   "source": [
    "welcome_name = \"Welcome to the sandwich shop, what do I call you?\""
   ]
  },
  {
   "cell_type": "code",
   "execution_count": 22,
   "metadata": {},
   "outputs": [
    {
     "name": "stdout",
     "output_type": "stream",
     "text": [
      "Hello, Welcome to the sandwich shop, what do I call you?\n"
     ]
    }
   ],
   "source": [
    "print(f'Hello, {welcome_name}')"
   ]
  },
  {
   "cell_type": "markdown",
   "metadata": {},
   "source": [
    "### Input : Just use a = input()"
   ]
  },
  {
   "cell_type": "code",
   "execution_count": 25,
   "metadata": {},
   "outputs": [
    {
     "name": "stdin",
     "output_type": "stream",
     "text": [
      "Are you here for a sandwich? (Y/N) Y\n"
     ]
    }
   ],
   "source": [
    "question_sandwich = input(\"Are you here for a sandwich? (Y/N)\")"
   ]
  },
  {
   "cell_type": "code",
   "execution_count": 26,
   "metadata": {},
   "outputs": [
    {
     "name": "stdout",
     "output_type": "stream",
     "text": [
      "please wait 10 min for your What kind of sandwich would you like?\n"
     ]
    }
   ],
   "source": [
    "if question_sandwich == \"Y\":\n",
    "    food_prompt = \"What kind of sandwich would you like?\"\n",
    "    print(f'please wait 10 min for your {food_prompt}')\n",
    "elif question_sandwich == \"N\":\n",
    "    print('If you dont want a sandwich what are you here for')\n",
    "else:\n",
    "    print('niether y or n')"
   ]
  },
  {
   "cell_type": "markdown",
   "metadata": {},
   "source": [
    "Dict"
   ]
  },
  {
   "cell_type": "code",
   "execution_count": 27,
   "metadata": {},
   "outputs": [],
   "source": [
    "san_francisco = {\n",
    "    \"west_coast\": True,\n",
    "    \"has_multiple_bridges\": True,\n",
    "    \"known_for_pizza\": False,\n",
    "    \"coastal\": True,\n",
    "    \"snows\": False,\n",
    "    \"very_hot\": False,\n",
    "    \"mayor\": \"London Breed\",\n",
    "    \"state\": \"California\",\n",
    "    \"country\": \"USA\",\n",
    "    \"best_food\": \"burritos\",\n",
    "    \"sports_teams\": [\"Giants\", \"Warriors\", \"Forty-Niners\"],\n",
    "    \"tallest_building\": \"SalesForce Building\",\n",
    "    \"population\": 884363,\n",
    "    \"city_size\": \"large\",\n",
    "    \"median_house_price\": 1610000,\n",
    "    \"famous_residents\": [\"Maya Angelou\", \"Robert Frost\", \"Carlos Santana\"],\n",
    "    \"homeless_pop\": 1150,\n",
    "    \"political_leaning\": \"Democrat\",\n",
    "    \"notable_attractions\": [\"Alcatraz\", \"Golden Gate Bridge\", \"Fisherman's Wharf\"],\n",
    "    \"natural_disasters\": [\"Earthquakes\"],\n",
    "}\n"
   ]
  },
  {
   "cell_type": "code",
   "execution_count": 28,
   "metadata": {},
   "outputs": [
    {
     "data": {
      "text/plain": [
       "{'west_coast': True, 'natural_disasters': ['Earthquakes']}"
      ]
     },
     "execution_count": 28,
     "metadata": {},
     "output_type": "execute_result"
    }
   ],
   "source": [
    "dan_fran={}\n",
    "dan_fran[\"west_coast\"] = True\n",
    "dan_fran[\"natural_disasters\"] = [\"Earthquakes\"]\n",
    "dan_fran"
   ]
  },
  {
   "cell_type": "markdown",
   "metadata": {},
   "source": [
    "Function"
   ]
  },
  {
   "cell_type": "code",
   "execution_count": 29,
   "metadata": {},
   "outputs": [],
   "source": [
    "def warble(a):\n",
    "    x = (f'{a} arglebargle')\n",
    "    return x"
   ]
  },
  {
   "cell_type": "code",
   "execution_count": 30,
   "metadata": {},
   "outputs": [
    {
     "name": "stdout",
     "output_type": "stream",
     "text": [
      "hello arglebargle\n"
     ]
    }
   ],
   "source": [
    "print(warble('hello'))"
   ]
  },
  {
   "cell_type": "code",
   "execution_count": 31,
   "metadata": {},
   "outputs": [],
   "source": [
    "def wibble(a):\n",
    "    print (a)\n",
    "    x = (f'wibbly {a}')\n",
    "    return x"
   ]
  },
  {
   "cell_type": "code",
   "execution_count": 32,
   "metadata": {},
   "outputs": [
    {
     "name": "stdout",
     "output_type": "stream",
     "text": [
      "bibbly\n",
      "wibbly bibbly\n"
     ]
    }
   ],
   "source": [
    "print(wibble('bibbly'))"
   ]
  },
  {
   "cell_type": "code",
   "execution_count": 33,
   "metadata": {},
   "outputs": [],
   "source": [
    "def print_sum(a,b):\n",
    "     print(a+b)"
   ]
  },
  {
   "cell_type": "code",
   "execution_count": 34,
   "metadata": {},
   "outputs": [],
   "source": [
    "def return_sum(a,b):\n",
    "     return a +b"
   ]
  },
  {
   "cell_type": "code",
   "execution_count": 35,
   "metadata": {},
   "outputs": [],
   "source": [
    "def triple_sum(a,b,c):\n",
    "     return a +b + c"
   ]
  },
  {
   "cell_type": "code",
   "execution_count": 36,
   "metadata": {},
   "outputs": [],
   "source": [
    "def dance_party(a):\n",
    "    print(\"dance!\")\n",
    "    x = wibble(a)\n",
    "    y = warble(a)\n",
    "    return x,y"
   ]
  },
  {
   "cell_type": "code",
   "execution_count": 37,
   "metadata": {},
   "outputs": [
    {
     "name": "stdout",
     "output_type": "stream",
     "text": [
      "dance!\n",
      "Jon\n",
      "('wibbly Jon', 'Jon arglebargle')\n"
     ]
    }
   ],
   "source": [
    "print(dance_party(\"Jon\"))"
   ]
  },
  {
   "cell_type": "markdown",
   "metadata": {},
   "source": [
    "#### loops"
   ]
  },
  {
   "cell_type": "markdown",
   "metadata": {},
   "source": [
    "https://sydney.bootcampcontent.com/university-of-sydney/USYD-VIRT-FIN-PT-12-2022-U-LOLC/-/tree/main/03-Python-Pandas/1/Activities/10-loops-01"
   ]
  },
  {
   "cell_type": "code",
   "execution_count": 38,
   "metadata": {},
   "outputs": [],
   "source": [
    "our_list =[]"
   ]
  },
  {
   "cell_type": "code",
   "execution_count": 39,
   "metadata": {},
   "outputs": [],
   "source": [
    "our_list.append('1')"
   ]
  },
  {
   "cell_type": "code",
   "execution_count": 40,
   "metadata": {},
   "outputs": [
    {
     "data": {
      "text/plain": [
       "['1']"
      ]
     },
     "execution_count": 40,
     "metadata": {},
     "output_type": "execute_result"
    }
   ],
   "source": [
    "our_list"
   ]
  },
  {
   "cell_type": "code",
   "execution_count": 41,
   "metadata": {},
   "outputs": [],
   "source": [
    "our_list.append('hello')\n",
    "our_list.append('False')\n",
    "our_list.append(84)\n",
    "our_list.append('world')"
   ]
  },
  {
   "cell_type": "code",
   "execution_count": 42,
   "metadata": {},
   "outputs": [],
   "source": [
    "our_list[0] = 1"
   ]
  },
  {
   "cell_type": "code",
   "execution_count": 43,
   "metadata": {},
   "outputs": [
    {
     "name": "stdout",
     "output_type": "stream",
     "text": [
      "[1, 'hello', 'False', 84, 'world']\n"
     ]
    }
   ],
   "source": [
    "print(our_list)"
   ]
  },
  {
   "cell_type": "code",
   "execution_count": 44,
   "metadata": {},
   "outputs": [
    {
     "name": "stdout",
     "output_type": "stream",
     "text": [
      "[1, 2, 3, 4, 5, 6, 7, 8, 9, 10]\n"
     ]
    }
   ],
   "source": [
    "one_to_ten = range(1,11)\n",
    "print(list(one_to_ten))"
   ]
  },
  {
   "cell_type": "code",
   "execution_count": 45,
   "metadata": {},
   "outputs": [
    {
     "data": {
      "text/plain": [
       "8"
      ]
     },
     "execution_count": 45,
     "metadata": {},
     "output_type": "execute_result"
    }
   ],
   "source": [
    "one_to_ten[7]"
   ]
  },
  {
   "cell_type": "code",
   "execution_count": 46,
   "metadata": {},
   "outputs": [],
   "source": [
    "num_list = [2, 65, 3, 7, 39, 22, 11, 94, 299, 9, 20, 21, 51, 37]"
   ]
  },
  {
   "cell_type": "code",
   "execution_count": 47,
   "metadata": {},
   "outputs": [],
   "source": [
    "greater_than_50 = []\n",
    "\n",
    "for i in num_list:\n",
    "    if i>50:\n",
    "        greater_than_50.append(i)"
   ]
  },
  {
   "cell_type": "code",
   "execution_count": 48,
   "metadata": {},
   "outputs": [
    {
     "data": {
      "text/plain": [
       "[65, 94, 299, 51]"
      ]
     },
     "execution_count": 48,
     "metadata": {},
     "output_type": "execute_result"
    }
   ],
   "source": [
    "greater_than_50"
   ]
  },
  {
   "cell_type": "code",
   "execution_count": 49,
   "metadata": {},
   "outputs": [
    {
     "name": "stdout",
     "output_type": "stream",
     "text": [
      "6\n"
     ]
    }
   ],
   "source": [
    "for i in num_list:\n",
    "    if i == 11:\n",
    "        print(num_list.index(11))"
   ]
  },
  {
   "cell_type": "markdown",
   "metadata": {},
   "source": [
    "Summing through iterating"
   ]
  },
  {
   "cell_type": "code",
   "execution_count": 61,
   "metadata": {},
   "outputs": [],
   "source": [
    "total = 0"
   ]
  },
  {
   "cell_type": "code",
   "execution_count": 62,
   "metadata": {},
   "outputs": [
    {
     "name": "stdout",
     "output_type": "stream",
     "text": [
      "680\n"
     ]
    }
   ],
   "source": [
    "for i in num_list:\n",
    "    total += i\n",
    "print(total)"
   ]
  },
  {
   "cell_type": "code",
   "execution_count": null,
   "metadata": {},
   "outputs": [],
   "source": [
    "print if number > 50"
   ]
  },
  {
   "cell_type": "code",
   "execution_count": 64,
   "metadata": {},
   "outputs": [
    {
     "name": "stdout",
     "output_type": "stream",
     "text": [
      "509\n"
     ]
    }
   ],
   "source": [
    "total2 = 0 \n",
    "for i in num_list:\n",
    "    if i> 50:\n",
    "        total2 += i\n",
    "print(total2)"
   ]
  },
  {
   "cell_type": "markdown",
   "metadata": {},
   "source": [
    "Even numbers only sum:"
   ]
  },
  {
   "cell_type": "code",
   "execution_count": 69,
   "metadata": {},
   "outputs": [
    {
     "name": "stdout",
     "output_type": "stream",
     "text": [
      "542\n"
     ]
    }
   ],
   "source": [
    "total3 = 0 \n",
    "for i in num_list:\n",
    "    if  i % 2:\n",
    "        total3 += i\n",
    "print(total3)"
   ]
  },
  {
   "cell_type": "code",
   "execution_count": 75,
   "metadata": {},
   "outputs": [],
   "source": [
    "fruits = [\n",
    "  \"Apple\", \"Orange\", \"Banana\", \"Pomelo\", \"Apple\", \"Kiwi\", \"Peach\", \"Banana\", \"Grape\", \"Tomato\",\n",
    "  \"Kiwi\", \"Apple\", \"Watermelon\", \"Lemon\", \"Pomelo\", \"Apple\", \"Banana\", \"Peach\", \"Apricot\", \"Grape\"]\n"
   ]
  },
  {
   "cell_type": "markdown",
   "metadata": {},
   "source": [
    "Counting \"apple's\" occurances:"
   ]
  },
  {
   "cell_type": "code",
   "execution_count": 132,
   "metadata": {},
   "outputs": [
    {
     "name": "stdout",
     "output_type": "stream",
     "text": [
      "4\n"
     ]
    }
   ],
   "source": [
    "count = 0\n",
    "for i in fruits:\n",
    "    if i == 'Apple':\n",
    "        count += 1\n",
    "        \n",
    "print(count)"
   ]
  },
  {
   "cell_type": "code",
   "execution_count": 133,
   "metadata": {},
   "outputs": [
    {
     "name": "stdout",
     "output_type": "stream",
     "text": [
      "4\n"
     ]
    }
   ],
   "source": [
    "count1 = 0\n",
    "for i in fruits:\n",
    "    if i[0] == 'P':\n",
    "        count1 += 1\n",
    "\n",
    "print(count1)"
   ]
  },
  {
   "cell_type": "code",
   "execution_count": 88,
   "metadata": {},
   "outputs": [],
   "source": [
    "unique_fruits =[]"
   ]
  },
  {
   "cell_type": "markdown",
   "metadata": {},
   "source": [
    "### Appending to a new list without any duplicates"
   ]
  },
  {
   "cell_type": "code",
   "execution_count": 134,
   "metadata": {},
   "outputs": [],
   "source": [
    "for i in fruits:\n",
    "    if i not in unique_fruits: #If it currently isnt in there , itll still it in there\n",
    "        unique_fruits.append(i)"
   ]
  },
  {
   "cell_type": "code",
   "execution_count": 135,
   "metadata": {},
   "outputs": [
    {
     "data": {
      "text/plain": [
       "['Apple',\n",
       " 'Orange',\n",
       " 'Banana',\n",
       " 'Pomelo',\n",
       " 'Kiwi',\n",
       " 'Peach',\n",
       " 'Grape',\n",
       " 'Tomato',\n",
       " 'Watermelon',\n",
       " 'Lemon',\n",
       " 'Apricot']"
      ]
     },
     "execution_count": 135,
     "metadata": {},
     "output_type": "execute_result"
    }
   ],
   "source": [
    "unique_fruits"
   ]
  },
  {
   "cell_type": "code",
   "execution_count": 136,
   "metadata": {},
   "outputs": [],
   "source": [
    "two_dim_list = [\n",
    "  [54, 6, 7, 46, 78],\n",
    "  [43, 9, 6, 65, 65],\n",
    "  [32, 1, 44, 1, 23],\n",
    "  [55, 12, 2, 34, 2],\n",
    "  [2, 12, 44, 2, 12]]\n"
   ]
  },
  {
   "cell_type": "markdown",
   "metadata": {},
   "source": [
    "#### Iterating through List of Lists, we must add a second \"for x in y\" /// ODD NUMBER PRINTING"
   ]
  },
  {
   "cell_type": "code",
   "execution_count": 137,
   "metadata": {},
   "outputs": [
    {
     "name": "stdout",
     "output_type": "stream",
     "text": [
      "7\n",
      "43\n",
      "9\n",
      "65\n",
      "65\n",
      "1\n",
      "1\n",
      "23\n",
      "55\n"
     ]
    }
   ],
   "source": [
    "for i in two_dim_list:\n",
    "    for a in i: # The second \"for\" statement\n",
    "        if a % 2 != 0 :\n",
    "            print(a)"
   ]
  },
  {
   "cell_type": "code",
   "execution_count": 140,
   "metadata": {},
   "outputs": [
    {
     "name": "stdout",
     "output_type": "stream",
     "text": [
      "468\n"
     ]
    }
   ],
   "source": [
    "total4 = 0\n",
    "for i in two_dim_list:\n",
    "    for a in i: # The second \"for\" statement\n",
    "        if a % 3:\n",
    "            total4 += a\n",
    "print(total4)"
   ]
  },
  {
   "cell_type": "markdown",
   "metadata": {},
   "source": [
    "Calculator Challenge:"
   ]
  },
  {
   "cell_type": "code",
   "execution_count": 141,
   "metadata": {},
   "outputs": [],
   "source": [
    "def calculate(a,b):\n",
    "    \n",
    "    result = 0\n",
    "    choice = input(\"What do you want to do: Add, Subtract, Multiply or Divide?\")\n",
    "    if choice == 'Add':\n",
    "        result = a+b\n",
    "    elif choice == 'Subtract':\n",
    "        result = a-b \n",
    "    elif choice == 'Multiply':\n",
    "        result = a*b\n",
    "    elif choice == 'Divide':\n",
    "        result = a/b\n",
    "\n",
    "    return result"
   ]
  },
  {
   "cell_type": "code",
   "execution_count": 142,
   "metadata": {},
   "outputs": [
    {
     "name": "stdin",
     "output_type": "stream",
     "text": [
      "What do you want to do: Add, Subtract, Multiply or Divide? Multiply\n"
     ]
    },
    {
     "name": "stdout",
     "output_type": "stream",
     "text": [
      "30\n"
     ]
    }
   ],
   "source": [
    "print(calculate(5,6))"
   ]
  },
  {
   "cell_type": "code",
   "execution_count": 143,
   "metadata": {},
   "outputs": [],
   "source": [
    "import random"
   ]
  },
  {
   "cell_type": "code",
   "execution_count": 144,
   "metadata": {},
   "outputs": [],
   "source": [
    "def number_guess(x):\n",
    "    if x == 42:\n",
    "        print('true')\n",
    "    else:\n",
    "        print('false')"
   ]
  },
  {
   "cell_type": "code",
   "execution_count": 145,
   "metadata": {},
   "outputs": [
    {
     "name": "stdout",
     "output_type": "stream",
     "text": [
      "true\n",
      "None\n"
     ]
    }
   ],
   "source": [
    "print(number_guess(42))"
   ]
  },
  {
   "cell_type": "code",
   "execution_count": 154,
   "metadata": {},
   "outputs": [],
   "source": [
    "def smallest_no(y):\n",
    "    mini = []\n",
    "    for i in y:\n",
    "        if i == min(y):\n",
    "            mini.append(i)\n",
    "    \n",
    "        return mini"
   ]
  },
  {
   "cell_type": "code",
   "execution_count": 155,
   "metadata": {},
   "outputs": [],
   "source": [
    "list1 = [1,2,3,4,6,78,9]"
   ]
  },
  {
   "cell_type": "code",
   "execution_count": 156,
   "metadata": {},
   "outputs": [
    {
     "name": "stdout",
     "output_type": "stream",
     "text": [
      "[1]\n"
     ]
    }
   ],
   "source": [
    "print(smallest_no(list1))"
   ]
  },
  {
   "cell_type": "code",
   "execution_count": 171,
   "metadata": {},
   "outputs": [],
   "source": [
    "gang = ['cal','adsdsads','a','asdasdasd']"
   ]
  },
  {
   "cell_type": "code",
   "execution_count": 172,
   "metadata": {},
   "outputs": [],
   "source": [
    "def short_string(y):\n",
    "    ok = []\n",
    "    for i in y:\n",
    "        if i == min(i):\n",
    "            ok.append(i)\n",
    "            \n",
    "        return ok"
   ]
  },
  {
   "cell_type": "code",
   "execution_count": 173,
   "metadata": {},
   "outputs": [
    {
     "name": "stdout",
     "output_type": "stream",
     "text": [
      "[]\n"
     ]
    }
   ],
   "source": [
    "print(short_string(gang))"
   ]
  },
  {
   "cell_type": "code",
   "execution_count": 162,
   "metadata": {},
   "outputs": [],
   "source": [
    "def three(high,low,x):\n",
    "    set = []\n",
    "    for i in x:\n",
    "        if i > low and i < high:\n",
    "            set.append(i)\n",
    "    \n",
    "    return set"
   ]
  },
  {
   "cell_type": "code",
   "execution_count": 165,
   "metadata": {},
   "outputs": [],
   "source": [
    "h = 90\n",
    "l = 30\n",
    "x1 = [25, 28, 31, 39, 49, 70, 90, 98,99]"
   ]
  },
  {
   "cell_type": "code",
   "execution_count": 166,
   "metadata": {},
   "outputs": [
    {
     "data": {
      "text/plain": [
       "[31, 39, 49, 70]"
      ]
     },
     "execution_count": 166,
     "metadata": {},
     "output_type": "execute_result"
    }
   ],
   "source": [
    "three(h,l,x1)"
   ]
  },
  {
   "cell_type": "markdown",
   "metadata": {},
   "source": [
    "<br>"
   ]
  },
  {
   "cell_type": "markdown",
   "metadata": {},
   "source": [
    "# Pandas"
   ]
  },
  {
   "cell_type": "code",
   "execution_count": 193,
   "metadata": {},
   "outputs": [],
   "source": [
    "from pathlib import Path"
   ]
  },
  {
   "cell_type": "code",
   "execution_count": 194,
   "metadata": {},
   "outputs": [],
   "source": [
    "csvpath = Path(\"sales.csv\")"
   ]
  },
  {
   "cell_type": "code",
   "execution_count": 195,
   "metadata": {},
   "outputs": [
    {
     "data": {
      "text/html": [
       "<div>\n",
       "<style scoped>\n",
       "    .dataframe tbody tr th:only-of-type {\n",
       "        vertical-align: middle;\n",
       "    }\n",
       "\n",
       "    .dataframe tbody tr th {\n",
       "        vertical-align: top;\n",
       "    }\n",
       "\n",
       "    .dataframe thead th {\n",
       "        text-align: right;\n",
       "    }\n",
       "</style>\n",
       "<table border=\"1\" class=\"dataframe\">\n",
       "  <thead>\n",
       "    <tr style=\"text-align: right;\">\n",
       "      <th></th>\n",
       "      <th>Name</th>\n",
       "      <th>Count</th>\n",
       "      <th>Revenue</th>\n",
       "    </tr>\n",
       "  </thead>\n",
       "  <tbody>\n",
       "    <tr>\n",
       "      <th>0</th>\n",
       "      <td>Andrew</td>\n",
       "      <td>9</td>\n",
       "      <td>58</td>\n",
       "    </tr>\n",
       "    <tr>\n",
       "      <th>1</th>\n",
       "      <td>Phil</td>\n",
       "      <td>8</td>\n",
       "      <td>377</td>\n",
       "    </tr>\n",
       "    <tr>\n",
       "      <th>2</th>\n",
       "      <td>Madison</td>\n",
       "      <td>5</td>\n",
       "      <td>302</td>\n",
       "    </tr>\n",
       "    <tr>\n",
       "      <th>3</th>\n",
       "      <td>Sally</td>\n",
       "      <td>1</td>\n",
       "      <td>75</td>\n",
       "    </tr>\n",
       "    <tr>\n",
       "      <th>4</th>\n",
       "      <td>Tyler</td>\n",
       "      <td>1</td>\n",
       "      <td>334</td>\n",
       "    </tr>\n",
       "  </tbody>\n",
       "</table>\n",
       "</div>"
      ],
      "text/plain": [
       "      Name  Count  Revenue\n",
       "0   Andrew      9       58\n",
       "1     Phil      8      377\n",
       "2  Madison      5      302\n",
       "3    Sally      1       75\n",
       "4    Tyler      1      334"
      ]
     },
     "execution_count": 195,
     "metadata": {},
     "output_type": "execute_result"
    }
   ],
   "source": [
    "sales_df = pd.read_csv(csvpath)\n",
    "sales_df.head(5)"
   ]
  },
  {
   "cell_type": "markdown",
   "metadata": {},
   "source": [
    "#### If there is no header, Pandas will use the first row as a header"
   ]
  },
  {
   "cell_type": "code",
   "execution_count": 196,
   "metadata": {},
   "outputs": [
    {
     "data": {
      "text/html": [
       "<div>\n",
       "<style scoped>\n",
       "    .dataframe tbody tr th:only-of-type {\n",
       "        vertical-align: middle;\n",
       "    }\n",
       "\n",
       "    .dataframe tbody tr th {\n",
       "        vertical-align: top;\n",
       "    }\n",
       "\n",
       "    .dataframe thead th {\n",
       "        text-align: right;\n",
       "    }\n",
       "</style>\n",
       "<table border=\"1\" class=\"dataframe\">\n",
       "  <thead>\n",
       "    <tr style=\"text-align: right;\">\n",
       "      <th></th>\n",
       "      <th>0</th>\n",
       "      <th>1</th>\n",
       "      <th>2</th>\n",
       "    </tr>\n",
       "  </thead>\n",
       "  <tbody>\n",
       "    <tr>\n",
       "      <th>0</th>\n",
       "      <td>Name</td>\n",
       "      <td>Count</td>\n",
       "      <td>Revenue</td>\n",
       "    </tr>\n",
       "    <tr>\n",
       "      <th>1</th>\n",
       "      <td>Andrew</td>\n",
       "      <td>9</td>\n",
       "      <td>58</td>\n",
       "    </tr>\n",
       "    <tr>\n",
       "      <th>2</th>\n",
       "      <td>Phil</td>\n",
       "      <td>8</td>\n",
       "      <td>377</td>\n",
       "    </tr>\n",
       "    <tr>\n",
       "      <th>3</th>\n",
       "      <td>Madison</td>\n",
       "      <td>5</td>\n",
       "      <td>302</td>\n",
       "    </tr>\n",
       "    <tr>\n",
       "      <th>4</th>\n",
       "      <td>Sally</td>\n",
       "      <td>1</td>\n",
       "      <td>75</td>\n",
       "    </tr>\n",
       "  </tbody>\n",
       "</table>\n",
       "</div>"
      ],
      "text/plain": [
       "         0      1        2\n",
       "0     Name  Count  Revenue\n",
       "1   Andrew      9       58\n",
       "2     Phil      8      377\n",
       "3  Madison      5      302\n",
       "4    Sally      1       75"
      ]
     },
     "execution_count": 196,
     "metadata": {},
     "output_type": "execute_result"
    }
   ],
   "source": [
    "#Reading the file without a header and set header=none\n",
    "sales_df2 = pd.read_csv(csvpath, header = None)\n",
    "# WIll just give you 1,2,3,4,5 as the header names\n",
    "sales_df2.head(5)"
   ]
  },
  {
   "cell_type": "markdown",
   "metadata": {},
   "source": [
    "Renaming Columns"
   ]
  },
  {
   "cell_type": "code",
   "execution_count": 197,
   "metadata": {},
   "outputs": [
    {
     "data": {
      "text/html": [
       "<div>\n",
       "<style scoped>\n",
       "    .dataframe tbody tr th:only-of-type {\n",
       "        vertical-align: middle;\n",
       "    }\n",
       "\n",
       "    .dataframe tbody tr th {\n",
       "        vertical-align: top;\n",
       "    }\n",
       "\n",
       "    .dataframe thead th {\n",
       "        text-align: right;\n",
       "    }\n",
       "</style>\n",
       "<table border=\"1\" class=\"dataframe\">\n",
       "  <thead>\n",
       "    <tr style=\"text-align: right;\">\n",
       "      <th></th>\n",
       "      <th>name</th>\n",
       "      <th>number</th>\n",
       "      <th>revenue</th>\n",
       "    </tr>\n",
       "  </thead>\n",
       "  <tbody>\n",
       "    <tr>\n",
       "      <th>0</th>\n",
       "      <td>Name</td>\n",
       "      <td>Count</td>\n",
       "      <td>Revenue</td>\n",
       "    </tr>\n",
       "    <tr>\n",
       "      <th>1</th>\n",
       "      <td>Andrew</td>\n",
       "      <td>9</td>\n",
       "      <td>58</td>\n",
       "    </tr>\n",
       "    <tr>\n",
       "      <th>2</th>\n",
       "      <td>Phil</td>\n",
       "      <td>8</td>\n",
       "      <td>377</td>\n",
       "    </tr>\n",
       "  </tbody>\n",
       "</table>\n",
       "</div>"
      ],
      "text/plain": [
       "     name number  revenue\n",
       "0    Name  Count  Revenue\n",
       "1  Andrew      9       58\n",
       "2    Phil      8      377"
      ]
     },
     "execution_count": 197,
     "metadata": {},
     "output_type": "execute_result"
    }
   ],
   "source": [
    "columns = ['name', 'number', 'revenue']\n",
    "sales_df2.columns = columns\n",
    "sales_df2.head(3)"
   ]
  },
  {
   "cell_type": "markdown",
   "metadata": {},
   "source": [
    "Summary Stats"
   ]
  },
  {
   "cell_type": "code",
   "execution_count": 200,
   "metadata": {},
   "outputs": [
    {
     "data": {
      "text/plain": [
       "count     29.000000\n",
       "mean     243.206897\n",
       "std       99.613675\n",
       "min       58.000000\n",
       "25%      191.000000\n",
       "50%      249.000000\n",
       "75%      321.000000\n",
       "max      399.000000\n",
       "Name: Revenue, dtype: float64"
      ]
     },
     "execution_count": 200,
     "metadata": {},
     "output_type": "execute_result"
    }
   ],
   "source": [
    "sales_df.describe()\n",
    "sales_df['Revenue'].describe()"
   ]
  },
  {
   "cell_type": "markdown",
   "metadata": {},
   "source": [
    "### FIRST TASK PANDAS"
   ]
  },
  {
   "cell_type": "code",
   "execution_count": 207,
   "metadata": {},
   "outputs": [
    {
     "data": {
      "text/html": [
       "<div>\n",
       "<style scoped>\n",
       "    .dataframe tbody tr th:only-of-type {\n",
       "        vertical-align: middle;\n",
       "    }\n",
       "\n",
       "    .dataframe tbody tr th {\n",
       "        vertical-align: top;\n",
       "    }\n",
       "\n",
       "    .dataframe thead th {\n",
       "        text-align: right;\n",
       "    }\n",
       "</style>\n",
       "<table border=\"1\" class=\"dataframe\">\n",
       "  <thead>\n",
       "    <tr style=\"text-align: right;\">\n",
       "      <th></th>\n",
       "      <th>0</th>\n",
       "      <th>1</th>\n",
       "      <th>2</th>\n",
       "      <th>3</th>\n",
       "      <th>4</th>\n",
       "      <th>5</th>\n",
       "    </tr>\n",
       "  </thead>\n",
       "  <tbody>\n",
       "    <tr>\n",
       "      <th>0</th>\n",
       "      <td>4/29/09</td>\n",
       "      <td>3.51</td>\n",
       "      <td>11537950</td>\n",
       "      <td>3.40</td>\n",
       "      <td>3.56</td>\n",
       "      <td>3.38</td>\n",
       "    </tr>\n",
       "    <tr>\n",
       "      <th>1</th>\n",
       "      <td>4/30/09</td>\n",
       "      <td>3.61</td>\n",
       "      <td>18193730</td>\n",
       "      <td>3.55</td>\n",
       "      <td>3.73</td>\n",
       "      <td>3.53</td>\n",
       "    </tr>\n",
       "    <tr>\n",
       "      <th>2</th>\n",
       "      <td>5/1/09</td>\n",
       "      <td>3.82</td>\n",
       "      <td>16233940</td>\n",
       "      <td>3.55</td>\n",
       "      <td>3.90</td>\n",
       "      <td>3.55</td>\n",
       "    </tr>\n",
       "    <tr>\n",
       "      <th>3</th>\n",
       "      <td>5/4/09</td>\n",
       "      <td>4.26</td>\n",
       "      <td>21236940</td>\n",
       "      <td>3.90</td>\n",
       "      <td>4.30</td>\n",
       "      <td>3.83</td>\n",
       "    </tr>\n",
       "    <tr>\n",
       "      <th>4</th>\n",
       "      <td>5/5/09</td>\n",
       "      <td>4.32</td>\n",
       "      <td>16369170</td>\n",
       "      <td>4.36</td>\n",
       "      <td>4.39</td>\n",
       "      <td>4.11</td>\n",
       "    </tr>\n",
       "    <tr>\n",
       "      <th>...</th>\n",
       "      <td>...</td>\n",
       "      <td>...</td>\n",
       "      <td>...</td>\n",
       "      <td>...</td>\n",
       "      <td>...</td>\n",
       "      <td>...</td>\n",
       "    </tr>\n",
       "    <tr>\n",
       "      <th>2512</th>\n",
       "      <td>4/23/19</td>\n",
       "      <td>27.97</td>\n",
       "      <td>41583740</td>\n",
       "      <td>28.18</td>\n",
       "      <td>28.49</td>\n",
       "      <td>27.79</td>\n",
       "    </tr>\n",
       "    <tr>\n",
       "      <th>2513</th>\n",
       "      <td>4/24/19</td>\n",
       "      <td>28.46</td>\n",
       "      <td>51487330</td>\n",
       "      <td>28.10</td>\n",
       "      <td>28.85</td>\n",
       "      <td>27.93</td>\n",
       "    </tr>\n",
       "    <tr>\n",
       "      <th>2514</th>\n",
       "      <td>4/25/19</td>\n",
       "      <td>27.66</td>\n",
       "      <td>56709000</td>\n",
       "      <td>28.67</td>\n",
       "      <td>28.86</td>\n",
       "      <td>27.36</td>\n",
       "    </tr>\n",
       "    <tr>\n",
       "      <th>2515</th>\n",
       "      <td>4/26/19</td>\n",
       "      <td>27.88</td>\n",
       "      <td>48736860</td>\n",
       "      <td>27.66</td>\n",
       "      <td>27.90</td>\n",
       "      <td>27.05</td>\n",
       "    </tr>\n",
       "    <tr>\n",
       "      <th>2516</th>\n",
       "      <td>4/29/19</td>\n",
       "      <td>27.69</td>\n",
       "      <td>44265600</td>\n",
       "      <td>27.90</td>\n",
       "      <td>28.14</td>\n",
       "      <td>27.50</td>\n",
       "    </tr>\n",
       "  </tbody>\n",
       "</table>\n",
       "<p>2517 rows × 6 columns</p>\n",
       "</div>"
      ],
      "text/plain": [
       "            0      1         2      3      4      5\n",
       "0     4/29/09   3.51  11537950   3.40   3.56   3.38\n",
       "1     4/30/09   3.61  18193730   3.55   3.73   3.53\n",
       "2      5/1/09   3.82  16233940   3.55   3.90   3.55\n",
       "3      5/4/09   4.26  21236940   3.90   4.30   3.83\n",
       "4      5/5/09   4.32  16369170   4.36   4.39   4.11\n",
       "...       ...    ...       ...    ...    ...    ...\n",
       "2512  4/23/19  27.97  41583740  28.18  28.49  27.79\n",
       "2513  4/24/19  28.46  51487330  28.10  28.85  27.93\n",
       "2514  4/25/19  27.66  56709000  28.67  28.86  27.36\n",
       "2515  4/26/19  27.88  48736860  27.66  27.90  27.05\n",
       "2516  4/29/19  27.69  44265600  27.90  28.14  27.50\n",
       "\n",
       "[2517 rows x 6 columns]"
      ]
     },
     "execution_count": 207,
     "metadata": {},
     "output_type": "execute_result"
    }
   ],
   "source": [
    "amd = pd.read_csv('amd_stock_data.csv', header = None )\n",
    "amd"
   ]
  },
  {
   "cell_type": "code",
   "execution_count": 208,
   "metadata": {},
   "outputs": [
    {
     "data": {
      "text/html": [
       "<div>\n",
       "<style scoped>\n",
       "    .dataframe tbody tr th:only-of-type {\n",
       "        vertical-align: middle;\n",
       "    }\n",
       "\n",
       "    .dataframe tbody tr th {\n",
       "        vertical-align: top;\n",
       "    }\n",
       "\n",
       "    .dataframe thead th {\n",
       "        text-align: right;\n",
       "    }\n",
       "</style>\n",
       "<table border=\"1\" class=\"dataframe\">\n",
       "  <thead>\n",
       "    <tr style=\"text-align: right;\">\n",
       "      <th></th>\n",
       "      <th>Date</th>\n",
       "      <th>Close</th>\n",
       "      <th>Volume</th>\n",
       "      <th>Open</th>\n",
       "      <th>High</th>\n",
       "      <th>Low</th>\n",
       "    </tr>\n",
       "  </thead>\n",
       "  <tbody>\n",
       "    <tr>\n",
       "      <th>0</th>\n",
       "      <td>4/29/09</td>\n",
       "      <td>3.51</td>\n",
       "      <td>11537950</td>\n",
       "      <td>3.40</td>\n",
       "      <td>3.56</td>\n",
       "      <td>3.38</td>\n",
       "    </tr>\n",
       "    <tr>\n",
       "      <th>1</th>\n",
       "      <td>4/30/09</td>\n",
       "      <td>3.61</td>\n",
       "      <td>18193730</td>\n",
       "      <td>3.55</td>\n",
       "      <td>3.73</td>\n",
       "      <td>3.53</td>\n",
       "    </tr>\n",
       "    <tr>\n",
       "      <th>2</th>\n",
       "      <td>5/1/09</td>\n",
       "      <td>3.82</td>\n",
       "      <td>16233940</td>\n",
       "      <td>3.55</td>\n",
       "      <td>3.90</td>\n",
       "      <td>3.55</td>\n",
       "    </tr>\n",
       "    <tr>\n",
       "      <th>3</th>\n",
       "      <td>5/4/09</td>\n",
       "      <td>4.26</td>\n",
       "      <td>21236940</td>\n",
       "      <td>3.90</td>\n",
       "      <td>4.30</td>\n",
       "      <td>3.83</td>\n",
       "    </tr>\n",
       "    <tr>\n",
       "      <th>4</th>\n",
       "      <td>5/5/09</td>\n",
       "      <td>4.32</td>\n",
       "      <td>16369170</td>\n",
       "      <td>4.36</td>\n",
       "      <td>4.39</td>\n",
       "      <td>4.11</td>\n",
       "    </tr>\n",
       "  </tbody>\n",
       "</table>\n",
       "</div>"
      ],
      "text/plain": [
       "      Date  Close    Volume  Open  High   Low\n",
       "0  4/29/09   3.51  11537950  3.40  3.56  3.38\n",
       "1  4/30/09   3.61  18193730  3.55  3.73  3.53\n",
       "2   5/1/09   3.82  16233940  3.55  3.90  3.55\n",
       "3   5/4/09   4.26  21236940  3.90  4.30  3.83\n",
       "4   5/5/09   4.32  16369170  4.36  4.39  4.11"
      ]
     },
     "execution_count": 208,
     "metadata": {},
     "output_type": "execute_result"
    }
   ],
   "source": [
    "columns2 = [\"Date\",\"Close\", \"Volume\", \"Open\", \"High\", \"Low\"]\n",
    "amd.columns = columns2\n",
    "amd.head(5)"
   ]
  },
  {
   "cell_type": "code",
   "execution_count": 209,
   "metadata": {},
   "outputs": [],
   "source": [
    "amd2 = amd.copy()"
   ]
  },
  {
   "cell_type": "code",
   "execution_count": 211,
   "metadata": {},
   "outputs": [
    {
     "data": {
      "text/html": [
       "<div>\n",
       "<style scoped>\n",
       "    .dataframe tbody tr th:only-of-type {\n",
       "        vertical-align: middle;\n",
       "    }\n",
       "\n",
       "    .dataframe tbody tr th {\n",
       "        vertical-align: top;\n",
       "    }\n",
       "\n",
       "    .dataframe thead th {\n",
       "        text-align: right;\n",
       "    }\n",
       "</style>\n",
       "<table border=\"1\" class=\"dataframe\">\n",
       "  <thead>\n",
       "    <tr style=\"text-align: right;\">\n",
       "      <th></th>\n",
       "      <th>Chicken</th>\n",
       "      <th>Close</th>\n",
       "      <th>Peng</th>\n",
       "      <th>Open</th>\n",
       "      <th>High</th>\n",
       "      <th>Low</th>\n",
       "    </tr>\n",
       "  </thead>\n",
       "  <tbody>\n",
       "    <tr>\n",
       "      <th>0</th>\n",
       "      <td>4/29/09</td>\n",
       "      <td>3.51</td>\n",
       "      <td>11537950</td>\n",
       "      <td>3.40</td>\n",
       "      <td>3.56</td>\n",
       "      <td>3.38</td>\n",
       "    </tr>\n",
       "    <tr>\n",
       "      <th>1</th>\n",
       "      <td>4/30/09</td>\n",
       "      <td>3.61</td>\n",
       "      <td>18193730</td>\n",
       "      <td>3.55</td>\n",
       "      <td>3.73</td>\n",
       "      <td>3.53</td>\n",
       "    </tr>\n",
       "    <tr>\n",
       "      <th>2</th>\n",
       "      <td>5/1/09</td>\n",
       "      <td>3.82</td>\n",
       "      <td>16233940</td>\n",
       "      <td>3.55</td>\n",
       "      <td>3.90</td>\n",
       "      <td>3.55</td>\n",
       "    </tr>\n",
       "    <tr>\n",
       "      <th>3</th>\n",
       "      <td>5/4/09</td>\n",
       "      <td>4.26</td>\n",
       "      <td>21236940</td>\n",
       "      <td>3.90</td>\n",
       "      <td>4.30</td>\n",
       "      <td>3.83</td>\n",
       "    </tr>\n",
       "    <tr>\n",
       "      <th>4</th>\n",
       "      <td>5/5/09</td>\n",
       "      <td>4.32</td>\n",
       "      <td>16369170</td>\n",
       "      <td>4.36</td>\n",
       "      <td>4.39</td>\n",
       "      <td>4.11</td>\n",
       "    </tr>\n",
       "    <tr>\n",
       "      <th>...</th>\n",
       "      <td>...</td>\n",
       "      <td>...</td>\n",
       "      <td>...</td>\n",
       "      <td>...</td>\n",
       "      <td>...</td>\n",
       "      <td>...</td>\n",
       "    </tr>\n",
       "    <tr>\n",
       "      <th>2512</th>\n",
       "      <td>4/23/19</td>\n",
       "      <td>27.97</td>\n",
       "      <td>41583740</td>\n",
       "      <td>28.18</td>\n",
       "      <td>28.49</td>\n",
       "      <td>27.79</td>\n",
       "    </tr>\n",
       "    <tr>\n",
       "      <th>2513</th>\n",
       "      <td>4/24/19</td>\n",
       "      <td>28.46</td>\n",
       "      <td>51487330</td>\n",
       "      <td>28.10</td>\n",
       "      <td>28.85</td>\n",
       "      <td>27.93</td>\n",
       "    </tr>\n",
       "    <tr>\n",
       "      <th>2514</th>\n",
       "      <td>4/25/19</td>\n",
       "      <td>27.66</td>\n",
       "      <td>56709000</td>\n",
       "      <td>28.67</td>\n",
       "      <td>28.86</td>\n",
       "      <td>27.36</td>\n",
       "    </tr>\n",
       "    <tr>\n",
       "      <th>2515</th>\n",
       "      <td>4/26/19</td>\n",
       "      <td>27.88</td>\n",
       "      <td>48736860</td>\n",
       "      <td>27.66</td>\n",
       "      <td>27.90</td>\n",
       "      <td>27.05</td>\n",
       "    </tr>\n",
       "    <tr>\n",
       "      <th>2516</th>\n",
       "      <td>4/29/19</td>\n",
       "      <td>27.69</td>\n",
       "      <td>44265600</td>\n",
       "      <td>27.90</td>\n",
       "      <td>28.14</td>\n",
       "      <td>27.50</td>\n",
       "    </tr>\n",
       "  </tbody>\n",
       "</table>\n",
       "<p>2517 rows × 6 columns</p>\n",
       "</div>"
      ],
      "text/plain": [
       "      Chicken  Close      Peng   Open   High    Low\n",
       "0     4/29/09   3.51  11537950   3.40   3.56   3.38\n",
       "1     4/30/09   3.61  18193730   3.55   3.73   3.53\n",
       "2      5/1/09   3.82  16233940   3.55   3.90   3.55\n",
       "3      5/4/09   4.26  21236940   3.90   4.30   3.83\n",
       "4      5/5/09   4.32  16369170   4.36   4.39   4.11\n",
       "...       ...    ...       ...    ...    ...    ...\n",
       "2512  4/23/19  27.97  41583740  28.18  28.49  27.79\n",
       "2513  4/24/19  28.46  51487330  28.10  28.85  27.93\n",
       "2514  4/25/19  27.66  56709000  28.67  28.86  27.36\n",
       "2515  4/26/19  27.88  48736860  27.66  27.90  27.05\n",
       "2516  4/29/19  27.69  44265600  27.90  28.14  27.50\n",
       "\n",
       "[2517 rows x 6 columns]"
      ]
     },
     "execution_count": 211,
     "metadata": {},
     "output_type": "execute_result"
    }
   ],
   "source": [
    "amd2 = amd2.rename(columns={'Date':'Chicken','Volume':'Peng'})\n",
    "amd2"
   ]
  },
  {
   "cell_type": "markdown",
   "metadata": {},
   "source": [
    "### Re-ordering Columns"
   ]
  },
  {
   "cell_type": "code",
   "execution_count": 212,
   "metadata": {},
   "outputs": [
    {
     "data": {
      "text/html": [
       "<div>\n",
       "<style scoped>\n",
       "    .dataframe tbody tr th:only-of-type {\n",
       "        vertical-align: middle;\n",
       "    }\n",
       "\n",
       "    .dataframe tbody tr th {\n",
       "        vertical-align: top;\n",
       "    }\n",
       "\n",
       "    .dataframe thead th {\n",
       "        text-align: right;\n",
       "    }\n",
       "</style>\n",
       "<table border=\"1\" class=\"dataframe\">\n",
       "  <thead>\n",
       "    <tr style=\"text-align: right;\">\n",
       "      <th></th>\n",
       "      <th>Open</th>\n",
       "      <th>Peng</th>\n",
       "      <th>Low</th>\n",
       "      <th>High</th>\n",
       "      <th>Chicken</th>\n",
       "      <th>Close</th>\n",
       "    </tr>\n",
       "  </thead>\n",
       "  <tbody>\n",
       "    <tr>\n",
       "      <th>0</th>\n",
       "      <td>3.40</td>\n",
       "      <td>11537950</td>\n",
       "      <td>3.38</td>\n",
       "      <td>3.56</td>\n",
       "      <td>4/29/09</td>\n",
       "      <td>3.51</td>\n",
       "    </tr>\n",
       "    <tr>\n",
       "      <th>1</th>\n",
       "      <td>3.55</td>\n",
       "      <td>18193730</td>\n",
       "      <td>3.53</td>\n",
       "      <td>3.73</td>\n",
       "      <td>4/30/09</td>\n",
       "      <td>3.61</td>\n",
       "    </tr>\n",
       "    <tr>\n",
       "      <th>2</th>\n",
       "      <td>3.55</td>\n",
       "      <td>16233940</td>\n",
       "      <td>3.55</td>\n",
       "      <td>3.90</td>\n",
       "      <td>5/1/09</td>\n",
       "      <td>3.82</td>\n",
       "    </tr>\n",
       "    <tr>\n",
       "      <th>3</th>\n",
       "      <td>3.90</td>\n",
       "      <td>21236940</td>\n",
       "      <td>3.83</td>\n",
       "      <td>4.30</td>\n",
       "      <td>5/4/09</td>\n",
       "      <td>4.26</td>\n",
       "    </tr>\n",
       "    <tr>\n",
       "      <th>4</th>\n",
       "      <td>4.36</td>\n",
       "      <td>16369170</td>\n",
       "      <td>4.11</td>\n",
       "      <td>4.39</td>\n",
       "      <td>5/5/09</td>\n",
       "      <td>4.32</td>\n",
       "    </tr>\n",
       "    <tr>\n",
       "      <th>...</th>\n",
       "      <td>...</td>\n",
       "      <td>...</td>\n",
       "      <td>...</td>\n",
       "      <td>...</td>\n",
       "      <td>...</td>\n",
       "      <td>...</td>\n",
       "    </tr>\n",
       "    <tr>\n",
       "      <th>2512</th>\n",
       "      <td>28.18</td>\n",
       "      <td>41583740</td>\n",
       "      <td>27.79</td>\n",
       "      <td>28.49</td>\n",
       "      <td>4/23/19</td>\n",
       "      <td>27.97</td>\n",
       "    </tr>\n",
       "    <tr>\n",
       "      <th>2513</th>\n",
       "      <td>28.10</td>\n",
       "      <td>51487330</td>\n",
       "      <td>27.93</td>\n",
       "      <td>28.85</td>\n",
       "      <td>4/24/19</td>\n",
       "      <td>28.46</td>\n",
       "    </tr>\n",
       "    <tr>\n",
       "      <th>2514</th>\n",
       "      <td>28.67</td>\n",
       "      <td>56709000</td>\n",
       "      <td>27.36</td>\n",
       "      <td>28.86</td>\n",
       "      <td>4/25/19</td>\n",
       "      <td>27.66</td>\n",
       "    </tr>\n",
       "    <tr>\n",
       "      <th>2515</th>\n",
       "      <td>27.66</td>\n",
       "      <td>48736860</td>\n",
       "      <td>27.05</td>\n",
       "      <td>27.90</td>\n",
       "      <td>4/26/19</td>\n",
       "      <td>27.88</td>\n",
       "    </tr>\n",
       "    <tr>\n",
       "      <th>2516</th>\n",
       "      <td>27.90</td>\n",
       "      <td>44265600</td>\n",
       "      <td>27.50</td>\n",
       "      <td>28.14</td>\n",
       "      <td>4/29/19</td>\n",
       "      <td>27.69</td>\n",
       "    </tr>\n",
       "  </tbody>\n",
       "</table>\n",
       "<p>2517 rows × 6 columns</p>\n",
       "</div>"
      ],
      "text/plain": [
       "       Open      Peng    Low   High  Chicken  Close\n",
       "0      3.40  11537950   3.38   3.56  4/29/09   3.51\n",
       "1      3.55  18193730   3.53   3.73  4/30/09   3.61\n",
       "2      3.55  16233940   3.55   3.90   5/1/09   3.82\n",
       "3      3.90  21236940   3.83   4.30   5/4/09   4.26\n",
       "4      4.36  16369170   4.11   4.39   5/5/09   4.32\n",
       "...     ...       ...    ...    ...      ...    ...\n",
       "2512  28.18  41583740  27.79  28.49  4/23/19  27.97\n",
       "2513  28.10  51487330  27.93  28.85  4/24/19  28.46\n",
       "2514  28.67  56709000  27.36  28.86  4/25/19  27.66\n",
       "2515  27.66  48736860  27.05  27.90  4/26/19  27.88\n",
       "2516  27.90  44265600  27.50  28.14  4/29/19  27.69\n",
       "\n",
       "[2517 rows x 6 columns]"
      ]
     },
     "execution_count": 212,
     "metadata": {},
     "output_type": "execute_result"
    }
   ],
   "source": [
    "amd2 = amd2[['Open', 'Peng','Low','High','Chicken','Close']]\n",
    "amd2"
   ]
  },
  {
   "cell_type": "markdown",
   "metadata": {},
   "source": [
    "### Create new column"
   ]
  },
  {
   "cell_type": "code",
   "execution_count": 217,
   "metadata": {},
   "outputs": [
    {
     "name": "stderr",
     "output_type": "stream",
     "text": [
      "<ipython-input-217-352a7ebd0528>:1: SettingWithCopyWarning: \n",
      "A value is trying to be set on a copy of a slice from a DataFrame.\n",
      "Try using .loc[row_indexer,col_indexer] = value instead\n",
      "\n",
      "See the caveats in the documentation: https://pandas.pydata.org/pandas-docs/stable/user_guide/indexing.html#returning-a-view-versus-a-copy\n",
      "  amd2['calc'] = amd2['High'] / 1000\n"
     ]
    },
    {
     "data": {
      "text/html": [
       "<div>\n",
       "<style scoped>\n",
       "    .dataframe tbody tr th:only-of-type {\n",
       "        vertical-align: middle;\n",
       "    }\n",
       "\n",
       "    .dataframe tbody tr th {\n",
       "        vertical-align: top;\n",
       "    }\n",
       "\n",
       "    .dataframe thead th {\n",
       "        text-align: right;\n",
       "    }\n",
       "</style>\n",
       "<table border=\"1\" class=\"dataframe\">\n",
       "  <thead>\n",
       "    <tr style=\"text-align: right;\">\n",
       "      <th></th>\n",
       "      <th>Open</th>\n",
       "      <th>Peng</th>\n",
       "      <th>Low</th>\n",
       "      <th>High</th>\n",
       "      <th>Chicken</th>\n",
       "      <th>Close</th>\n",
       "      <th>calc</th>\n",
       "    </tr>\n",
       "  </thead>\n",
       "  <tbody>\n",
       "    <tr>\n",
       "      <th>0</th>\n",
       "      <td>3.40</td>\n",
       "      <td>11537950</td>\n",
       "      <td>3.38</td>\n",
       "      <td>3.56</td>\n",
       "      <td>4/29/09</td>\n",
       "      <td>3.51</td>\n",
       "      <td>0.00356</td>\n",
       "    </tr>\n",
       "    <tr>\n",
       "      <th>1</th>\n",
       "      <td>3.55</td>\n",
       "      <td>18193730</td>\n",
       "      <td>3.53</td>\n",
       "      <td>3.73</td>\n",
       "      <td>4/30/09</td>\n",
       "      <td>3.61</td>\n",
       "      <td>0.00373</td>\n",
       "    </tr>\n",
       "    <tr>\n",
       "      <th>2</th>\n",
       "      <td>3.55</td>\n",
       "      <td>16233940</td>\n",
       "      <td>3.55</td>\n",
       "      <td>3.90</td>\n",
       "      <td>5/1/09</td>\n",
       "      <td>3.82</td>\n",
       "      <td>0.00390</td>\n",
       "    </tr>\n",
       "    <tr>\n",
       "      <th>3</th>\n",
       "      <td>3.90</td>\n",
       "      <td>21236940</td>\n",
       "      <td>3.83</td>\n",
       "      <td>4.30</td>\n",
       "      <td>5/4/09</td>\n",
       "      <td>4.26</td>\n",
       "      <td>0.00430</td>\n",
       "    </tr>\n",
       "    <tr>\n",
       "      <th>4</th>\n",
       "      <td>4.36</td>\n",
       "      <td>16369170</td>\n",
       "      <td>4.11</td>\n",
       "      <td>4.39</td>\n",
       "      <td>5/5/09</td>\n",
       "      <td>4.32</td>\n",
       "      <td>0.00439</td>\n",
       "    </tr>\n",
       "    <tr>\n",
       "      <th>...</th>\n",
       "      <td>...</td>\n",
       "      <td>...</td>\n",
       "      <td>...</td>\n",
       "      <td>...</td>\n",
       "      <td>...</td>\n",
       "      <td>...</td>\n",
       "      <td>...</td>\n",
       "    </tr>\n",
       "    <tr>\n",
       "      <th>2512</th>\n",
       "      <td>28.18</td>\n",
       "      <td>41583740</td>\n",
       "      <td>27.79</td>\n",
       "      <td>28.49</td>\n",
       "      <td>4/23/19</td>\n",
       "      <td>27.97</td>\n",
       "      <td>0.02849</td>\n",
       "    </tr>\n",
       "    <tr>\n",
       "      <th>2513</th>\n",
       "      <td>28.10</td>\n",
       "      <td>51487330</td>\n",
       "      <td>27.93</td>\n",
       "      <td>28.85</td>\n",
       "      <td>4/24/19</td>\n",
       "      <td>28.46</td>\n",
       "      <td>0.02885</td>\n",
       "    </tr>\n",
       "    <tr>\n",
       "      <th>2514</th>\n",
       "      <td>28.67</td>\n",
       "      <td>56709000</td>\n",
       "      <td>27.36</td>\n",
       "      <td>28.86</td>\n",
       "      <td>4/25/19</td>\n",
       "      <td>27.66</td>\n",
       "      <td>0.02886</td>\n",
       "    </tr>\n",
       "    <tr>\n",
       "      <th>2515</th>\n",
       "      <td>27.66</td>\n",
       "      <td>48736860</td>\n",
       "      <td>27.05</td>\n",
       "      <td>27.90</td>\n",
       "      <td>4/26/19</td>\n",
       "      <td>27.88</td>\n",
       "      <td>0.02790</td>\n",
       "    </tr>\n",
       "    <tr>\n",
       "      <th>2516</th>\n",
       "      <td>27.90</td>\n",
       "      <td>44265600</td>\n",
       "      <td>27.50</td>\n",
       "      <td>28.14</td>\n",
       "      <td>4/29/19</td>\n",
       "      <td>27.69</td>\n",
       "      <td>0.02814</td>\n",
       "    </tr>\n",
       "  </tbody>\n",
       "</table>\n",
       "<p>2517 rows × 7 columns</p>\n",
       "</div>"
      ],
      "text/plain": [
       "       Open      Peng    Low   High  Chicken  Close     calc\n",
       "0      3.40  11537950   3.38   3.56  4/29/09   3.51  0.00356\n",
       "1      3.55  18193730   3.53   3.73  4/30/09   3.61  0.00373\n",
       "2      3.55  16233940   3.55   3.90   5/1/09   3.82  0.00390\n",
       "3      3.90  21236940   3.83   4.30   5/4/09   4.26  0.00430\n",
       "4      4.36  16369170   4.11   4.39   5/5/09   4.32  0.00439\n",
       "...     ...       ...    ...    ...      ...    ...      ...\n",
       "2512  28.18  41583740  27.79  28.49  4/23/19  27.97  0.02849\n",
       "2513  28.10  51487330  27.93  28.85  4/24/19  28.46  0.02885\n",
       "2514  28.67  56709000  27.36  28.86  4/25/19  27.66  0.02886\n",
       "2515  27.66  48736860  27.05  27.90  4/26/19  27.88  0.02790\n",
       "2516  27.90  44265600  27.50  28.14  4/29/19  27.69  0.02814\n",
       "\n",
       "[2517 rows x 7 columns]"
      ]
     },
     "execution_count": 217,
     "metadata": {},
     "output_type": "execute_result"
    }
   ],
   "source": [
    "amd2['calc'] = amd2['High'] / 1000\n",
    "amd2"
   ]
  },
  {
   "cell_type": "markdown",
   "metadata": {},
   "source": [
    "#### Splitting columns"
   ]
  },
  {
   "cell_type": "code",
   "execution_count": 222,
   "metadata": {},
   "outputs": [
    {
     "data": {
      "text/html": [
       "<div>\n",
       "<style scoped>\n",
       "    .dataframe tbody tr th:only-of-type {\n",
       "        vertical-align: middle;\n",
       "    }\n",
       "\n",
       "    .dataframe tbody tr th {\n",
       "        vertical-align: top;\n",
       "    }\n",
       "\n",
       "    .dataframe thead th {\n",
       "        text-align: right;\n",
       "    }\n",
       "</style>\n",
       "<table border=\"1\" class=\"dataframe\">\n",
       "  <thead>\n",
       "    <tr style=\"text-align: right;\">\n",
       "      <th></th>\n",
       "      <th>0</th>\n",
       "    </tr>\n",
       "  </thead>\n",
       "  <tbody>\n",
       "    <tr>\n",
       "      <th>0</th>\n",
       "      <td>4/29/09</td>\n",
       "    </tr>\n",
       "    <tr>\n",
       "      <th>1</th>\n",
       "      <td>4/30/09</td>\n",
       "    </tr>\n",
       "    <tr>\n",
       "      <th>2</th>\n",
       "      <td>5/1/09</td>\n",
       "    </tr>\n",
       "    <tr>\n",
       "      <th>3</th>\n",
       "      <td>5/4/09</td>\n",
       "    </tr>\n",
       "    <tr>\n",
       "      <th>4</th>\n",
       "      <td>5/5/09</td>\n",
       "    </tr>\n",
       "  </tbody>\n",
       "</table>\n",
       "</div>"
      ],
      "text/plain": [
       "         0\n",
       "0  4/29/09\n",
       "1  4/30/09\n",
       "2   5/1/09\n",
       "3   5/4/09\n",
       "4   5/5/09"
      ]
     },
     "execution_count": 222,
     "metadata": {},
     "output_type": "execute_result"
    }
   ],
   "source": [
    "names = amd2['Chicken'].str.split(\" \", expand=True) #converst to a string and splits the two items by whatever put in the (\" \")\n",
    "names.head(5)\n",
    "#doesnt work here bc theres not 2 things"
   ]
  },
  {
   "cell_type": "markdown",
   "metadata": {},
   "source": [
    "Dropping"
   ]
  },
  {
   "cell_type": "code",
   "execution_count": 223,
   "metadata": {},
   "outputs": [
    {
     "data": {
      "text/html": [
       "<div>\n",
       "<style scoped>\n",
       "    .dataframe tbody tr th:only-of-type {\n",
       "        vertical-align: middle;\n",
       "    }\n",
       "\n",
       "    .dataframe tbody tr th {\n",
       "        vertical-align: top;\n",
       "    }\n",
       "\n",
       "    .dataframe thead th {\n",
       "        text-align: right;\n",
       "    }\n",
       "</style>\n",
       "<table border=\"1\" class=\"dataframe\">\n",
       "  <thead>\n",
       "    <tr style=\"text-align: right;\">\n",
       "      <th></th>\n",
       "      <th>Open</th>\n",
       "      <th>Peng</th>\n",
       "      <th>Low</th>\n",
       "      <th>High</th>\n",
       "      <th>Close</th>\n",
       "      <th>calc</th>\n",
       "    </tr>\n",
       "  </thead>\n",
       "  <tbody>\n",
       "    <tr>\n",
       "      <th>0</th>\n",
       "      <td>3.40</td>\n",
       "      <td>11537950</td>\n",
       "      <td>3.38</td>\n",
       "      <td>3.56</td>\n",
       "      <td>3.51</td>\n",
       "      <td>0.00356</td>\n",
       "    </tr>\n",
       "    <tr>\n",
       "      <th>1</th>\n",
       "      <td>3.55</td>\n",
       "      <td>18193730</td>\n",
       "      <td>3.53</td>\n",
       "      <td>3.73</td>\n",
       "      <td>3.61</td>\n",
       "      <td>0.00373</td>\n",
       "    </tr>\n",
       "    <tr>\n",
       "      <th>2</th>\n",
       "      <td>3.55</td>\n",
       "      <td>16233940</td>\n",
       "      <td>3.55</td>\n",
       "      <td>3.90</td>\n",
       "      <td>3.82</td>\n",
       "      <td>0.00390</td>\n",
       "    </tr>\n",
       "    <tr>\n",
       "      <th>3</th>\n",
       "      <td>3.90</td>\n",
       "      <td>21236940</td>\n",
       "      <td>3.83</td>\n",
       "      <td>4.30</td>\n",
       "      <td>4.26</td>\n",
       "      <td>0.00430</td>\n",
       "    </tr>\n",
       "    <tr>\n",
       "      <th>4</th>\n",
       "      <td>4.36</td>\n",
       "      <td>16369170</td>\n",
       "      <td>4.11</td>\n",
       "      <td>4.39</td>\n",
       "      <td>4.32</td>\n",
       "      <td>0.00439</td>\n",
       "    </tr>\n",
       "  </tbody>\n",
       "</table>\n",
       "</div>"
      ],
      "text/plain": [
       "   Open      Peng   Low  High  Close     calc\n",
       "0  3.40  11537950  3.38  3.56   3.51  0.00356\n",
       "1  3.55  18193730  3.53  3.73   3.61  0.00373\n",
       "2  3.55  16233940  3.55  3.90   3.82  0.00390\n",
       "3  3.90  21236940  3.83  4.30   4.26  0.00430\n",
       "4  4.36  16369170  4.11  4.39   4.32  0.00439"
      ]
     },
     "execution_count": 223,
     "metadata": {},
     "output_type": "execute_result"
    }
   ],
   "source": [
    "amd2 = amd2.drop(columns=['Chicken'])\n",
    "amd2.head(5)"
   ]
  },
  {
   "cell_type": "code",
   "execution_count": 231,
   "metadata": {},
   "outputs": [
    {
     "data": {
      "text/html": [
       "<div>\n",
       "<style scoped>\n",
       "    .dataframe tbody tr th:only-of-type {\n",
       "        vertical-align: middle;\n",
       "    }\n",
       "\n",
       "    .dataframe tbody tr th {\n",
       "        vertical-align: top;\n",
       "    }\n",
       "\n",
       "    .dataframe thead th {\n",
       "        text-align: right;\n",
       "    }\n",
       "</style>\n",
       "<table border=\"1\" class=\"dataframe\">\n",
       "  <thead>\n",
       "    <tr style=\"text-align: right;\">\n",
       "      <th></th>\n",
       "      <th>1</th>\n",
       "      <th>2</th>\n",
       "      <th>3</th>\n",
       "      <th>4</th>\n",
       "      <th>5</th>\n",
       "    </tr>\n",
       "    <tr>\n",
       "      <th>0</th>\n",
       "      <th></th>\n",
       "      <th></th>\n",
       "      <th></th>\n",
       "      <th></th>\n",
       "      <th></th>\n",
       "    </tr>\n",
       "  </thead>\n",
       "  <tbody>\n",
       "    <tr>\n",
       "      <th>4/29/09</th>\n",
       "      <td>3.51</td>\n",
       "      <td>11537950</td>\n",
       "      <td>3.40</td>\n",
       "      <td>3.56</td>\n",
       "      <td>3.38</td>\n",
       "    </tr>\n",
       "    <tr>\n",
       "      <th>4/30/09</th>\n",
       "      <td>3.61</td>\n",
       "      <td>18193730</td>\n",
       "      <td>3.55</td>\n",
       "      <td>3.73</td>\n",
       "      <td>3.53</td>\n",
       "    </tr>\n",
       "    <tr>\n",
       "      <th>5/1/09</th>\n",
       "      <td>3.82</td>\n",
       "      <td>16233940</td>\n",
       "      <td>3.55</td>\n",
       "      <td>3.90</td>\n",
       "      <td>3.55</td>\n",
       "    </tr>\n",
       "    <tr>\n",
       "      <th>5/4/09</th>\n",
       "      <td>4.26</td>\n",
       "      <td>21236940</td>\n",
       "      <td>3.90</td>\n",
       "      <td>4.30</td>\n",
       "      <td>3.83</td>\n",
       "    </tr>\n",
       "    <tr>\n",
       "      <th>5/5/09</th>\n",
       "      <td>4.32</td>\n",
       "      <td>16369170</td>\n",
       "      <td>4.36</td>\n",
       "      <td>4.39</td>\n",
       "      <td>4.11</td>\n",
       "    </tr>\n",
       "  </tbody>\n",
       "</table>\n",
       "</div>"
      ],
      "text/plain": [
       "            1         2     3     4     5\n",
       "0                                        \n",
       "4/29/09  3.51  11537950  3.40  3.56  3.38\n",
       "4/30/09  3.61  18193730  3.55  3.73  3.53\n",
       "5/1/09   3.82  16233940  3.55  3.90  3.55\n",
       "5/4/09   4.26  21236940  3.90  4.30  3.83\n",
       "5/5/09   4.32  16369170  4.36  4.39  4.11"
      ]
     },
     "execution_count": 231,
     "metadata": {},
     "output_type": "execute_result"
    }
   ],
   "source": [
    "df = pd.read_csv('amd_stock_data.csv', index_col = 0, header = None)\n",
    "df.head(5)"
   ]
  },
  {
   "cell_type": "markdown",
   "metadata": {},
   "source": [
    "### Data types"
   ]
  },
  {
   "cell_type": "code",
   "execution_count": 232,
   "metadata": {},
   "outputs": [
    {
     "data": {
      "text/plain": [
       "1    float64\n",
       "2      int64\n",
       "3    float64\n",
       "4    float64\n",
       "5    float64\n",
       "dtype: object"
      ]
     },
     "execution_count": 232,
     "metadata": {},
     "output_type": "execute_result"
    }
   ],
   "source": [
    "df.dtypes"
   ]
  },
  {
   "cell_type": "code",
   "execution_count": 233,
   "metadata": {},
   "outputs": [
    {
     "data": {
      "text/plain": [
       "1    2517\n",
       "2    2517\n",
       "3    2517\n",
       "4    2517\n",
       "5    2517\n",
       "dtype: int64"
      ]
     },
     "execution_count": 233,
     "metadata": {},
     "output_type": "execute_result"
    }
   ],
   "source": [
    "df.count()"
   ]
  },
  {
   "cell_type": "code",
   "execution_count": 234,
   "metadata": {},
   "outputs": [
    {
     "data": {
      "text/plain": [
       "11128830    1\n",
       "19191110    1\n",
       "17900880    1\n",
       "46130900    1\n",
       "21165390    1\n",
       "           ..\n",
       "16468240    1\n",
       "12367660    1\n",
       "28302000    1\n",
       "14690990    1\n",
       "27504640    1\n",
       "Name: 2, Length: 2517, dtype: int64"
      ]
     },
     "execution_count": 234,
     "metadata": {},
     "output_type": "execute_result"
    }
   ],
   "source": [
    "df[2].value_counts() # think about if it was people's names, it counts the number of times john bogught something"
   ]
  },
  {
   "cell_type": "code",
   "execution_count": 240,
   "metadata": {},
   "outputs": [
    {
     "data": {
      "text/html": [
       "<div>\n",
       "<style scoped>\n",
       "    .dataframe tbody tr th:only-of-type {\n",
       "        vertical-align: middle;\n",
       "    }\n",
       "\n",
       "    .dataframe tbody tr th {\n",
       "        vertical-align: top;\n",
       "    }\n",
       "\n",
       "    .dataframe thead th {\n",
       "        text-align: right;\n",
       "    }\n",
       "</style>\n",
       "<table border=\"1\" class=\"dataframe\">\n",
       "  <thead>\n",
       "    <tr style=\"text-align: right;\">\n",
       "      <th></th>\n",
       "      <th>1</th>\n",
       "      <th>2</th>\n",
       "      <th>3</th>\n",
       "      <th>4</th>\n",
       "      <th>5</th>\n",
       "    </tr>\n",
       "    <tr>\n",
       "      <th>0</th>\n",
       "      <th></th>\n",
       "      <th></th>\n",
       "      <th></th>\n",
       "      <th></th>\n",
       "      <th></th>\n",
       "    </tr>\n",
       "  </thead>\n",
       "  <tbody>\n",
       "    <tr>\n",
       "      <th>4/29/09</th>\n",
       "      <td>False</td>\n",
       "      <td>False</td>\n",
       "      <td>False</td>\n",
       "      <td>False</td>\n",
       "      <td>False</td>\n",
       "    </tr>\n",
       "    <tr>\n",
       "      <th>4/30/09</th>\n",
       "      <td>False</td>\n",
       "      <td>False</td>\n",
       "      <td>False</td>\n",
       "      <td>False</td>\n",
       "      <td>False</td>\n",
       "    </tr>\n",
       "    <tr>\n",
       "      <th>5/1/09</th>\n",
       "      <td>False</td>\n",
       "      <td>False</td>\n",
       "      <td>False</td>\n",
       "      <td>False</td>\n",
       "      <td>False</td>\n",
       "    </tr>\n",
       "    <tr>\n",
       "      <th>5/4/09</th>\n",
       "      <td>False</td>\n",
       "      <td>False</td>\n",
       "      <td>False</td>\n",
       "      <td>False</td>\n",
       "      <td>False</td>\n",
       "    </tr>\n",
       "    <tr>\n",
       "      <th>5/5/09</th>\n",
       "      <td>False</td>\n",
       "      <td>False</td>\n",
       "      <td>False</td>\n",
       "      <td>False</td>\n",
       "      <td>False</td>\n",
       "    </tr>\n",
       "  </tbody>\n",
       "</table>\n",
       "</div>"
      ],
      "text/plain": [
       "             1      2      3      4      5\n",
       "0                                         \n",
       "4/29/09  False  False  False  False  False\n",
       "4/30/09  False  False  False  False  False\n",
       "5/1/09   False  False  False  False  False\n",
       "5/4/09   False  False  False  False  False\n",
       "5/5/09   False  False  False  False  False"
      ]
     },
     "execution_count": 240,
     "metadata": {},
     "output_type": "execute_result"
    }
   ],
   "source": [
    "df.isnull().head(5)"
   ]
  },
  {
   "cell_type": "code",
   "execution_count": 241,
   "metadata": {},
   "outputs": [
    {
     "data": {
      "text/plain": [
       "1    0.0\n",
       "2    0.0\n",
       "3    0.0\n",
       "4    0.0\n",
       "5    0.0\n",
       "dtype: float64"
      ]
     },
     "execution_count": 241,
     "metadata": {},
     "output_type": "execute_result"
    }
   ],
   "source": [
    "df.isnull().mean()*100"
   ]
  },
  {
   "cell_type": "code",
   "execution_count": 243,
   "metadata": {},
   "outputs": [
    {
     "data": {
      "text/plain": [
       "1    0\n",
       "2    0\n",
       "3    0\n",
       "4    0\n",
       "5    0\n",
       "dtype: int64"
      ]
     },
     "execution_count": 243,
     "metadata": {},
     "output_type": "execute_result"
    }
   ],
   "source": [
    "df.isnull().sum()"
   ]
  },
  {
   "cell_type": "markdown",
   "metadata": {},
   "source": [
    "<br>"
   ]
  },
  {
   "cell_type": "markdown",
   "metadata": {},
   "source": [
    "#### Filling NA values"
   ]
  },
  {
   "cell_type": "markdown",
   "metadata": {},
   "source": [
    "##### df['x'] = df['x'].fillna('Unknown') <br>"
   ]
  },
  {
   "cell_type": "markdown",
   "metadata": {},
   "source": [
    "#### Dropping"
   ]
  },
  {
   "cell_type": "markdown",
   "metadata": {},
   "source": [
    "##### df = df.dropna() <br>"
   ]
  },
  {
   "cell_type": "markdown",
   "metadata": {},
   "source": [
    "#### Checking if ROW is duplicated (exact same)"
   ]
  },
  {
   "cell_type": "markdown",
   "metadata": {},
   "source": [
    "df.duplicated\n",
    "\n",
    "<br>\n",
    "\n",
    "df.drop_duplicates()"
   ]
  },
  {
   "cell_type": "markdown",
   "metadata": {},
   "source": [
    "<br>"
   ]
  },
  {
   "cell_type": "markdown",
   "metadata": {},
   "source": [
    "#### Replacing a currency symbol, or whatever may be infront of particular numbers"
   ]
  },
  {
   "cell_type": "markdown",
   "metadata": {},
   "source": [
    "df['x'] = df['x'].str.replace(\"$\",\"\")"
   ]
  },
  {
   "cell_type": "markdown",
   "metadata": {},
   "source": [
    "<br>"
   ]
  },
  {
   "cell_type": "markdown",
   "metadata": {},
   "source": [
    "#### Converting to a particular type.... E.g. Object to a float"
   ]
  },
  {
   "cell_type": "markdown",
   "metadata": {},
   "source": [
    "df['x'] = df['x'].astype(\"float\")"
   ]
  },
  {
   "cell_type": "markdown",
   "metadata": {},
   "source": [
    "<br>"
   ]
  },
  {
   "cell_type": "markdown",
   "metadata": {},
   "source": [
    "### TASK 2"
   ]
  },
  {
   "cell_type": "code",
   "execution_count": 247,
   "metadata": {},
   "outputs": [
    {
     "data": {
      "text/html": [
       "<div>\n",
       "<style scoped>\n",
       "    .dataframe tbody tr th:only-of-type {\n",
       "        vertical-align: middle;\n",
       "    }\n",
       "\n",
       "    .dataframe tbody tr th {\n",
       "        vertical-align: top;\n",
       "    }\n",
       "\n",
       "    .dataframe thead th {\n",
       "        text-align: right;\n",
       "    }\n",
       "</style>\n",
       "<table border=\"1\" class=\"dataframe\">\n",
       "  <thead>\n",
       "    <tr style=\"text-align: right;\">\n",
       "      <th></th>\n",
       "      <th>symbol</th>\n",
       "      <th>name</th>\n",
       "      <th>sector</th>\n",
       "      <th>price</th>\n",
       "      <th>price_per_earnings</th>\n",
       "      <th>dividend_yield</th>\n",
       "      <th>earnings_per_share</th>\n",
       "      <th>52_week_low</th>\n",
       "      <th>52_week_high</th>\n",
       "      <th>market_cap</th>\n",
       "      <th>ebitda</th>\n",
       "      <th>price_per_sales</th>\n",
       "      <th>price_per_book</th>\n",
       "      <th>sec_filings</th>\n",
       "    </tr>\n",
       "  </thead>\n",
       "  <tbody>\n",
       "    <tr>\n",
       "      <th>0</th>\n",
       "      <td>MMM</td>\n",
       "      <td>3M Company</td>\n",
       "      <td>Industrials</td>\n",
       "      <td>$222.89</td>\n",
       "      <td>24.31</td>\n",
       "      <td>2.332862</td>\n",
       "      <td>$7.92</td>\n",
       "      <td>259.770</td>\n",
       "      <td>175.49</td>\n",
       "      <td>1.387211e+11</td>\n",
       "      <td>9.048000e+09</td>\n",
       "      <td>4.390271</td>\n",
       "      <td>11.34</td>\n",
       "      <td>http://www.sec.gov/cgi-bin/browse-edgar?action...</td>\n",
       "    </tr>\n",
       "    <tr>\n",
       "      <th>1</th>\n",
       "      <td>AOS</td>\n",
       "      <td>A.O. Smith Corp</td>\n",
       "      <td>Industrials</td>\n",
       "      <td>NaN</td>\n",
       "      <td>NaN</td>\n",
       "      <td>NaN</td>\n",
       "      <td>NaN</td>\n",
       "      <td>NaN</td>\n",
       "      <td>NaN</td>\n",
       "      <td>NaN</td>\n",
       "      <td>NaN</td>\n",
       "      <td>NaN</td>\n",
       "      <td>NaN</td>\n",
       "      <td>NaN</td>\n",
       "    </tr>\n",
       "    <tr>\n",
       "      <th>2</th>\n",
       "      <td>ABT</td>\n",
       "      <td>Abbott Laboratories</td>\n",
       "      <td>Health Care</td>\n",
       "      <td>56.27</td>\n",
       "      <td>22.51</td>\n",
       "      <td>1.908982</td>\n",
       "      <td>0.26</td>\n",
       "      <td>64.600</td>\n",
       "      <td>42.28</td>\n",
       "      <td>1.021210e+11</td>\n",
       "      <td>5.744000e+09</td>\n",
       "      <td>3.740480</td>\n",
       "      <td>3.19</td>\n",
       "      <td>http://www.sec.gov/cgi-bin/browse-edgar?action...</td>\n",
       "    </tr>\n",
       "    <tr>\n",
       "      <th>3</th>\n",
       "      <td>ABBV</td>\n",
       "      <td>AbbVie Inc.</td>\n",
       "      <td>Health Care</td>\n",
       "      <td>108.48</td>\n",
       "      <td>19.41</td>\n",
       "      <td>2.499560</td>\n",
       "      <td>3.29</td>\n",
       "      <td>125.860</td>\n",
       "      <td>60.05</td>\n",
       "      <td>1.813863e+11</td>\n",
       "      <td>1.031000e+10</td>\n",
       "      <td>6.291571</td>\n",
       "      <td>26.14</td>\n",
       "      <td>http://www.sec.gov/cgi-bin/browse-edgar?action...</td>\n",
       "    </tr>\n",
       "    <tr>\n",
       "      <th>4</th>\n",
       "      <td>ATVI</td>\n",
       "      <td>Activision Blizzard</td>\n",
       "      <td>Information Technology</td>\n",
       "      <td>65.83</td>\n",
       "      <td>NaN</td>\n",
       "      <td>0.431903</td>\n",
       "      <td>1.28</td>\n",
       "      <td>74.945</td>\n",
       "      <td>38.93</td>\n",
       "      <td>5.251867e+10</td>\n",
       "      <td>2.704000e+09</td>\n",
       "      <td>10.595120</td>\n",
       "      <td>5.16</td>\n",
       "      <td>http://www.sec.gov/cgi-bin/browse-edgar?action...</td>\n",
       "    </tr>\n",
       "  </tbody>\n",
       "</table>\n",
       "</div>"
      ],
      "text/plain": [
       "  symbol                 name                  sector    price  \\\n",
       "0    MMM           3M Company             Industrials  $222.89   \n",
       "1    AOS      A.O. Smith Corp             Industrials      NaN   \n",
       "2    ABT  Abbott Laboratories             Health Care    56.27   \n",
       "3   ABBV          AbbVie Inc.             Health Care   108.48   \n",
       "4   ATVI  Activision Blizzard  Information Technology    65.83   \n",
       "\n",
       "   price_per_earnings  dividend_yield earnings_per_share  52_week_low  \\\n",
       "0               24.31        2.332862              $7.92      259.770   \n",
       "1                 NaN             NaN                NaN          NaN   \n",
       "2               22.51        1.908982               0.26       64.600   \n",
       "3               19.41        2.499560               3.29      125.860   \n",
       "4                 NaN        0.431903               1.28       74.945   \n",
       "\n",
       "   52_week_high    market_cap        ebitda  price_per_sales  price_per_book  \\\n",
       "0        175.49  1.387211e+11  9.048000e+09         4.390271           11.34   \n",
       "1           NaN           NaN           NaN              NaN             NaN   \n",
       "2         42.28  1.021210e+11  5.744000e+09         3.740480            3.19   \n",
       "3         60.05  1.813863e+11  1.031000e+10         6.291571           26.14   \n",
       "4         38.93  5.251867e+10  2.704000e+09        10.595120            5.16   \n",
       "\n",
       "                                         sec_filings  \n",
       "0  http://www.sec.gov/cgi-bin/browse-edgar?action...  \n",
       "1                                                NaN  \n",
       "2  http://www.sec.gov/cgi-bin/browse-edgar?action...  \n",
       "3  http://www.sec.gov/cgi-bin/browse-edgar?action...  \n",
       "4  http://www.sec.gov/cgi-bin/browse-edgar?action...  "
      ]
     },
     "execution_count": 247,
     "metadata": {},
     "output_type": "execute_result"
    }
   ],
   "source": [
    "stock = pd.read_csv(\"stock_data.csv\")\n",
    "stock.head(5)"
   ]
  },
  {
   "cell_type": "code",
   "execution_count": 248,
   "metadata": {},
   "outputs": [
    {
     "data": {
      "text/plain": [
       "(504, 14)"
      ]
     },
     "execution_count": 248,
     "metadata": {},
     "output_type": "execute_result"
    }
   ],
   "source": [
    "stock.shape"
   ]
  },
  {
   "cell_type": "code",
   "execution_count": 250,
   "metadata": {},
   "outputs": [
    {
     "data": {
      "text/plain": [
       "symbol                0.000000\n",
       "name                  0.396825\n",
       "sector                0.595238\n",
       "price                 0.793651\n",
       "price_per_earnings    1.388889\n",
       "dividend_yield        0.992063\n",
       "earnings_per_share    1.190476\n",
       "52_week_low           0.793651\n",
       "52_week_high          0.793651\n",
       "market_cap            0.793651\n",
       "ebitda                2.380952\n",
       "price_per_sales       0.793651\n",
       "price_per_book        2.380952\n",
       "sec_filings           0.793651\n",
       "dtype: float64"
      ]
     },
     "execution_count": 250,
     "metadata": {},
     "output_type": "execute_result"
    }
   ],
   "source": [
    "stock.isnull().mean()*100 #Percentage of each column having a null value"
   ]
  },
  {
   "cell_type": "code",
   "execution_count": 251,
   "metadata": {},
   "outputs": [
    {
     "data": {
      "text/html": [
       "<div>\n",
       "<style scoped>\n",
       "    .dataframe tbody tr th:only-of-type {\n",
       "        vertical-align: middle;\n",
       "    }\n",
       "\n",
       "    .dataframe tbody tr th {\n",
       "        vertical-align: top;\n",
       "    }\n",
       "\n",
       "    .dataframe thead th {\n",
       "        text-align: right;\n",
       "    }\n",
       "</style>\n",
       "<table border=\"1\" class=\"dataframe\">\n",
       "  <thead>\n",
       "    <tr style=\"text-align: right;\">\n",
       "      <th></th>\n",
       "      <th>symbol</th>\n",
       "      <th>name</th>\n",
       "      <th>sector</th>\n",
       "      <th>price</th>\n",
       "      <th>price_per_earnings</th>\n",
       "      <th>dividend_yield</th>\n",
       "      <th>earnings_per_share</th>\n",
       "      <th>52_week_low</th>\n",
       "      <th>52_week_high</th>\n",
       "      <th>market_cap</th>\n",
       "      <th>ebitda</th>\n",
       "      <th>price_per_sales</th>\n",
       "      <th>price_per_book</th>\n",
       "      <th>sec_filings</th>\n",
       "    </tr>\n",
       "  </thead>\n",
       "  <tbody>\n",
       "    <tr>\n",
       "      <th>0</th>\n",
       "      <td>MMM</td>\n",
       "      <td>3M Company</td>\n",
       "      <td>Industrials</td>\n",
       "      <td>$222.89</td>\n",
       "      <td>24.31</td>\n",
       "      <td>2.332862</td>\n",
       "      <td>$7.92</td>\n",
       "      <td>259.77</td>\n",
       "      <td>175.490</td>\n",
       "      <td>1.387211e+11</td>\n",
       "      <td>9.048000e+09</td>\n",
       "      <td>4.390271</td>\n",
       "      <td>11.34</td>\n",
       "      <td>http://www.sec.gov/cgi-bin/browse-edgar?action...</td>\n",
       "    </tr>\n",
       "    <tr>\n",
       "      <th>2</th>\n",
       "      <td>ABT</td>\n",
       "      <td>Abbott Laboratories</td>\n",
       "      <td>Health Care</td>\n",
       "      <td>56.27</td>\n",
       "      <td>22.51</td>\n",
       "      <td>1.908982</td>\n",
       "      <td>0.26</td>\n",
       "      <td>64.60</td>\n",
       "      <td>42.280</td>\n",
       "      <td>1.021210e+11</td>\n",
       "      <td>5.744000e+09</td>\n",
       "      <td>3.740480</td>\n",
       "      <td>3.19</td>\n",
       "      <td>http://www.sec.gov/cgi-bin/browse-edgar?action...</td>\n",
       "    </tr>\n",
       "    <tr>\n",
       "      <th>3</th>\n",
       "      <td>ABBV</td>\n",
       "      <td>AbbVie Inc.</td>\n",
       "      <td>Health Care</td>\n",
       "      <td>108.48</td>\n",
       "      <td>19.41</td>\n",
       "      <td>2.499560</td>\n",
       "      <td>3.29</td>\n",
       "      <td>125.86</td>\n",
       "      <td>60.050</td>\n",
       "      <td>1.813863e+11</td>\n",
       "      <td>1.031000e+10</td>\n",
       "      <td>6.291571</td>\n",
       "      <td>26.14</td>\n",
       "      <td>http://www.sec.gov/cgi-bin/browse-edgar?action...</td>\n",
       "    </tr>\n",
       "    <tr>\n",
       "      <th>5</th>\n",
       "      <td>AYI</td>\n",
       "      <td>Acuity Brands Inc</td>\n",
       "      <td>Industrials</td>\n",
       "      <td>108.48</td>\n",
       "      <td>18.22</td>\n",
       "      <td>0.351185</td>\n",
       "      <td>7.43</td>\n",
       "      <td>225.36</td>\n",
       "      <td>142.000</td>\n",
       "      <td>6.242378e+09</td>\n",
       "      <td>5.878000e+08</td>\n",
       "      <td>1.795347</td>\n",
       "      <td>3.55</td>\n",
       "      <td>http://www.sec.gov/cgi-bin/browse-edgar?action...</td>\n",
       "    </tr>\n",
       "    <tr>\n",
       "      <th>6</th>\n",
       "      <td>ADBE</td>\n",
       "      <td>Adobe Systems Inc</td>\n",
       "      <td>Information Technology</td>\n",
       "      <td>185.16</td>\n",
       "      <td>52.31</td>\n",
       "      <td>0.000000</td>\n",
       "      <td>3.39</td>\n",
       "      <td>204.45</td>\n",
       "      <td>114.451</td>\n",
       "      <td>9.455021e+10</td>\n",
       "      <td>2.538040e+09</td>\n",
       "      <td>13.092818</td>\n",
       "      <td>11.06</td>\n",
       "      <td>http://www.sec.gov/cgi-bin/browse-edgar?action...</td>\n",
       "    </tr>\n",
       "  </tbody>\n",
       "</table>\n",
       "</div>"
      ],
      "text/plain": [
       "  symbol                 name                  sector    price  \\\n",
       "0    MMM           3M Company             Industrials  $222.89   \n",
       "2    ABT  Abbott Laboratories             Health Care    56.27   \n",
       "3   ABBV          AbbVie Inc.             Health Care   108.48   \n",
       "5    AYI    Acuity Brands Inc             Industrials   108.48   \n",
       "6   ADBE    Adobe Systems Inc  Information Technology   185.16   \n",
       "\n",
       "   price_per_earnings  dividend_yield earnings_per_share  52_week_low  \\\n",
       "0               24.31        2.332862              $7.92       259.77   \n",
       "2               22.51        1.908982               0.26        64.60   \n",
       "3               19.41        2.499560               3.29       125.86   \n",
       "5               18.22        0.351185               7.43       225.36   \n",
       "6               52.31        0.000000               3.39       204.45   \n",
       "\n",
       "   52_week_high    market_cap        ebitda  price_per_sales  price_per_book  \\\n",
       "0       175.490  1.387211e+11  9.048000e+09         4.390271           11.34   \n",
       "2        42.280  1.021210e+11  5.744000e+09         3.740480            3.19   \n",
       "3        60.050  1.813863e+11  1.031000e+10         6.291571           26.14   \n",
       "5       142.000  6.242378e+09  5.878000e+08         1.795347            3.55   \n",
       "6       114.451  9.455021e+10  2.538040e+09        13.092818           11.06   \n",
       "\n",
       "                                         sec_filings  \n",
       "0  http://www.sec.gov/cgi-bin/browse-edgar?action...  \n",
       "2  http://www.sec.gov/cgi-bin/browse-edgar?action...  \n",
       "3  http://www.sec.gov/cgi-bin/browse-edgar?action...  \n",
       "5  http://www.sec.gov/cgi-bin/browse-edgar?action...  \n",
       "6  http://www.sec.gov/cgi-bin/browse-edgar?action...  "
      ]
     },
     "execution_count": 251,
     "metadata": {},
     "output_type": "execute_result"
    }
   ],
   "source": [
    "stock = stock.dropna()\n",
    "stock.head(5)"
   ]
  },
  {
   "cell_type": "code",
   "execution_count": 252,
   "metadata": {},
   "outputs": [
    {
     "data": {
      "text/plain": [
       "symbol                0.0\n",
       "name                  0.0\n",
       "sector                0.0\n",
       "price                 0.0\n",
       "price_per_earnings    0.0\n",
       "dividend_yield        0.0\n",
       "earnings_per_share    0.0\n",
       "52_week_low           0.0\n",
       "52_week_high          0.0\n",
       "market_cap            0.0\n",
       "ebitda                0.0\n",
       "price_per_sales       0.0\n",
       "price_per_book        0.0\n",
       "sec_filings           0.0\n",
       "dtype: float64"
      ]
     },
     "execution_count": 252,
     "metadata": {},
     "output_type": "execute_result"
    }
   ],
   "source": [
    "stock.isnull().mean()*100"
   ]
  },
  {
   "cell_type": "code",
   "execution_count": 253,
   "metadata": {},
   "outputs": [
    {
     "data": {
      "text/plain": [
       "0      9.048000e+09\n",
       "2      5.744000e+09\n",
       "3      1.031000e+10\n",
       "5      5.878000e+08\n",
       "6      2.538040e+09\n",
       "           ...     \n",
       "499    7.220000e+08\n",
       "500    2.289000e+09\n",
       "501    2.007400e+09\n",
       "502    0.000000e+00\n",
       "503    1.734000e+09\n",
       "Name: ebitda, Length: 478, dtype: float64"
      ]
     },
     "execution_count": 253,
     "metadata": {},
     "output_type": "execute_result"
    }
   ],
   "source": [
    "stock['ebitda'] = stock['ebitda'].fillna('0')\n",
    "stock['ebitda']"
   ]
  },
  {
   "cell_type": "code",
   "execution_count": 254,
   "metadata": {},
   "outputs": [
    {
     "data": {
      "text/html": [
       "<div>\n",
       "<style scoped>\n",
       "    .dataframe tbody tr th:only-of-type {\n",
       "        vertical-align: middle;\n",
       "    }\n",
       "\n",
       "    .dataframe tbody tr th {\n",
       "        vertical-align: top;\n",
       "    }\n",
       "\n",
       "    .dataframe thead th {\n",
       "        text-align: right;\n",
       "    }\n",
       "</style>\n",
       "<table border=\"1\" class=\"dataframe\">\n",
       "  <thead>\n",
       "    <tr style=\"text-align: right;\">\n",
       "      <th></th>\n",
       "      <th>symbol</th>\n",
       "      <th>name</th>\n",
       "      <th>sector</th>\n",
       "      <th>price</th>\n",
       "      <th>price_per_earnings</th>\n",
       "      <th>dividend_yield</th>\n",
       "      <th>earnings_per_share</th>\n",
       "      <th>52_week_low</th>\n",
       "      <th>52_week_high</th>\n",
       "      <th>market_cap</th>\n",
       "      <th>ebitda</th>\n",
       "      <th>price_per_sales</th>\n",
       "      <th>price_per_book</th>\n",
       "      <th>sec_filings</th>\n",
       "    </tr>\n",
       "  </thead>\n",
       "  <tbody>\n",
       "    <tr>\n",
       "      <th>0</th>\n",
       "      <td>MMM</td>\n",
       "      <td>3M Company</td>\n",
       "      <td>Industrials</td>\n",
       "      <td>$222.89</td>\n",
       "      <td>24.31</td>\n",
       "      <td>2.332862</td>\n",
       "      <td>$7.92</td>\n",
       "      <td>259.77</td>\n",
       "      <td>175.490</td>\n",
       "      <td>1.387211e+11</td>\n",
       "      <td>9.048000e+09</td>\n",
       "      <td>4.390271</td>\n",
       "      <td>11.34</td>\n",
       "      <td>http://www.sec.gov/cgi-bin/browse-edgar?action...</td>\n",
       "    </tr>\n",
       "    <tr>\n",
       "      <th>2</th>\n",
       "      <td>ABT</td>\n",
       "      <td>Abbott Laboratories</td>\n",
       "      <td>Health Care</td>\n",
       "      <td>56.27</td>\n",
       "      <td>22.51</td>\n",
       "      <td>1.908982</td>\n",
       "      <td>0.26</td>\n",
       "      <td>64.60</td>\n",
       "      <td>42.280</td>\n",
       "      <td>1.021210e+11</td>\n",
       "      <td>5.744000e+09</td>\n",
       "      <td>3.740480</td>\n",
       "      <td>3.19</td>\n",
       "      <td>http://www.sec.gov/cgi-bin/browse-edgar?action...</td>\n",
       "    </tr>\n",
       "    <tr>\n",
       "      <th>3</th>\n",
       "      <td>ABBV</td>\n",
       "      <td>AbbVie Inc.</td>\n",
       "      <td>Health Care</td>\n",
       "      <td>108.48</td>\n",
       "      <td>19.41</td>\n",
       "      <td>2.499560</td>\n",
       "      <td>3.29</td>\n",
       "      <td>125.86</td>\n",
       "      <td>60.050</td>\n",
       "      <td>1.813863e+11</td>\n",
       "      <td>1.031000e+10</td>\n",
       "      <td>6.291571</td>\n",
       "      <td>26.14</td>\n",
       "      <td>http://www.sec.gov/cgi-bin/browse-edgar?action...</td>\n",
       "    </tr>\n",
       "    <tr>\n",
       "      <th>5</th>\n",
       "      <td>AYI</td>\n",
       "      <td>Acuity Brands Inc</td>\n",
       "      <td>Industrials</td>\n",
       "      <td>108.48</td>\n",
       "      <td>18.22</td>\n",
       "      <td>0.351185</td>\n",
       "      <td>7.43</td>\n",
       "      <td>225.36</td>\n",
       "      <td>142.000</td>\n",
       "      <td>6.242378e+09</td>\n",
       "      <td>5.878000e+08</td>\n",
       "      <td>1.795347</td>\n",
       "      <td>3.55</td>\n",
       "      <td>http://www.sec.gov/cgi-bin/browse-edgar?action...</td>\n",
       "    </tr>\n",
       "    <tr>\n",
       "      <th>6</th>\n",
       "      <td>ADBE</td>\n",
       "      <td>Adobe Systems Inc</td>\n",
       "      <td>Information Technology</td>\n",
       "      <td>185.16</td>\n",
       "      <td>52.31</td>\n",
       "      <td>0.000000</td>\n",
       "      <td>3.39</td>\n",
       "      <td>204.45</td>\n",
       "      <td>114.451</td>\n",
       "      <td>9.455021e+10</td>\n",
       "      <td>2.538040e+09</td>\n",
       "      <td>13.092818</td>\n",
       "      <td>11.06</td>\n",
       "      <td>http://www.sec.gov/cgi-bin/browse-edgar?action...</td>\n",
       "    </tr>\n",
       "  </tbody>\n",
       "</table>\n",
       "</div>"
      ],
      "text/plain": [
       "  symbol                 name                  sector    price  \\\n",
       "0    MMM           3M Company             Industrials  $222.89   \n",
       "2    ABT  Abbott Laboratories             Health Care    56.27   \n",
       "3   ABBV          AbbVie Inc.             Health Care   108.48   \n",
       "5    AYI    Acuity Brands Inc             Industrials   108.48   \n",
       "6   ADBE    Adobe Systems Inc  Information Technology   185.16   \n",
       "\n",
       "   price_per_earnings  dividend_yield earnings_per_share  52_week_low  \\\n",
       "0               24.31        2.332862              $7.92       259.77   \n",
       "2               22.51        1.908982               0.26        64.60   \n",
       "3               19.41        2.499560               3.29       125.86   \n",
       "5               18.22        0.351185               7.43       225.36   \n",
       "6               52.31        0.000000               3.39       204.45   \n",
       "\n",
       "   52_week_high    market_cap        ebitda  price_per_sales  price_per_book  \\\n",
       "0       175.490  1.387211e+11  9.048000e+09         4.390271           11.34   \n",
       "2        42.280  1.021210e+11  5.744000e+09         3.740480            3.19   \n",
       "3        60.050  1.813863e+11  1.031000e+10         6.291571           26.14   \n",
       "5       142.000  6.242378e+09  5.878000e+08         1.795347            3.55   \n",
       "6       114.451  9.455021e+10  2.538040e+09        13.092818           11.06   \n",
       "\n",
       "                                         sec_filings  \n",
       "0  http://www.sec.gov/cgi-bin/browse-edgar?action...  \n",
       "2  http://www.sec.gov/cgi-bin/browse-edgar?action...  \n",
       "3  http://www.sec.gov/cgi-bin/browse-edgar?action...  \n",
       "5  http://www.sec.gov/cgi-bin/browse-edgar?action...  \n",
       "6  http://www.sec.gov/cgi-bin/browse-edgar?action...  "
      ]
     },
     "execution_count": 254,
     "metadata": {},
     "output_type": "execute_result"
    }
   ],
   "source": [
    "stock = stock.drop_duplicates()\n",
    "stock.head(5)"
   ]
  },
  {
   "cell_type": "code",
   "execution_count": 255,
   "metadata": {},
   "outputs": [
    {
     "data": {
      "text/plain": [
       "(478, 14)"
      ]
     },
     "execution_count": 255,
     "metadata": {},
     "output_type": "execute_result"
    }
   ],
   "source": [
    "stock.shape"
   ]
  },
  {
   "cell_type": "markdown",
   "metadata": {},
   "source": [
    "Challenges"
   ]
  },
  {
   "cell_type": "code",
   "execution_count": 256,
   "metadata": {},
   "outputs": [
    {
     "data": {
      "text/plain": [
       "0      222.89\n",
       "2       56.27\n",
       "3      108.48\n",
       "5      108.48\n",
       "6      185.16\n",
       "        ...  \n",
       "499     70.24\n",
       "500      76.3\n",
       "501    115.53\n",
       "502     50.71\n",
       "503     71.51\n",
       "Name: price, Length: 478, dtype: object"
      ]
     },
     "execution_count": 256,
     "metadata": {},
     "output_type": "execute_result"
    }
   ],
   "source": [
    "stock['price']=stock['price'].str.replace(\"$\",\"\")\n",
    "stock['price']"
   ]
  },
  {
   "cell_type": "code",
   "execution_count": 259,
   "metadata": {},
   "outputs": [],
   "source": [
    "stock['price']=stock['price'].astype('float')"
   ]
  },
  {
   "cell_type": "code",
   "execution_count": 260,
   "metadata": {},
   "outputs": [
    {
     "data": {
      "text/plain": [
       "symbol                 object\n",
       "name                   object\n",
       "sector                 object\n",
       "price                 float64\n",
       "price_per_earnings    float64\n",
       "dividend_yield        float64\n",
       "earnings_per_share     object\n",
       "52_week_low           float64\n",
       "52_week_high          float64\n",
       "market_cap            float64\n",
       "ebitda                float64\n",
       "price_per_sales       float64\n",
       "price_per_book        float64\n",
       "sec_filings            object\n",
       "dtype: object"
      ]
     },
     "execution_count": 260,
     "metadata": {},
     "output_type": "execute_result"
    }
   ],
   "source": [
    "stock.dtypes"
   ]
  },
  {
   "cell_type": "code",
   "execution_count": 262,
   "metadata": {},
   "outputs": [
    {
     "data": {
      "text/plain": [
       "symbol                478\n",
       "name                  478\n",
       "sector                478\n",
       "price                 478\n",
       "price_per_earnings    478\n",
       "dividend_yield        478\n",
       "earnings_per_share    478\n",
       "52_week_low           478\n",
       "52_week_high          478\n",
       "market_cap            478\n",
       "ebitda                478\n",
       "price_per_sales       478\n",
       "price_per_book        478\n",
       "sec_filings           478\n",
       "dtype: int64"
      ]
     },
     "execution_count": 262,
     "metadata": {},
     "output_type": "execute_result"
    }
   ],
   "source": [
    "stock.count()"
   ]
  },
  {
   "cell_type": "markdown",
   "metadata": {},
   "source": [
    "<br><br>"
   ]
  },
  {
   "cell_type": "markdown",
   "metadata": {},
   "source": [
    "# Indexing"
   ]
  },
  {
   "cell_type": "code",
   "execution_count": 267,
   "metadata": {},
   "outputs": [
    {
     "data": {
      "text/plain": [
       "symbol                                                              MMM\n",
       "name                                                         3M Company\n",
       "sector                                                      Industrials\n",
       "price                                                            222.89\n",
       "price_per_earnings                                                24.31\n",
       "dividend_yield                                                  2.33286\n",
       "earnings_per_share                                                $7.92\n",
       "52_week_low                                                      259.77\n",
       "52_week_high                                                     175.49\n",
       "market_cap                                                  1.38721e+11\n",
       "ebitda                                                        9.048e+09\n",
       "price_per_sales                                                 4.39027\n",
       "price_per_book                                                    11.34\n",
       "sec_filings           http://www.sec.gov/cgi-bin/browse-edgar?action...\n",
       "Name: 0, dtype: object"
      ]
     },
     "execution_count": 267,
     "metadata": {},
     "output_type": "execute_result"
    }
   ],
   "source": [
    "stock.iloc[0] # First Row"
   ]
  },
  {
   "cell_type": "code",
   "execution_count": 274,
   "metadata": {},
   "outputs": [
    {
     "data": {
      "text/html": [
       "<div>\n",
       "<style scoped>\n",
       "    .dataframe tbody tr th:only-of-type {\n",
       "        vertical-align: middle;\n",
       "    }\n",
       "\n",
       "    .dataframe tbody tr th {\n",
       "        vertical-align: top;\n",
       "    }\n",
       "\n",
       "    .dataframe thead th {\n",
       "        text-align: right;\n",
       "    }\n",
       "</style>\n",
       "<table border=\"1\" class=\"dataframe\">\n",
       "  <thead>\n",
       "    <tr style=\"text-align: right;\">\n",
       "      <th></th>\n",
       "      <th>symbol</th>\n",
       "      <th>name</th>\n",
       "      <th>sector</th>\n",
       "      <th>price</th>\n",
       "      <th>price_per_earnings</th>\n",
       "      <th>dividend_yield</th>\n",
       "      <th>earnings_per_share</th>\n",
       "      <th>52_week_low</th>\n",
       "      <th>52_week_high</th>\n",
       "      <th>market_cap</th>\n",
       "      <th>ebitda</th>\n",
       "      <th>price_per_sales</th>\n",
       "      <th>price_per_book</th>\n",
       "      <th>sec_filings</th>\n",
       "    </tr>\n",
       "  </thead>\n",
       "  <tbody>\n",
       "    <tr>\n",
       "      <th>0</th>\n",
       "      <td>MMM</td>\n",
       "      <td>3M Company</td>\n",
       "      <td>Industrials</td>\n",
       "      <td>222.89</td>\n",
       "      <td>24.31</td>\n",
       "      <td>2.332862</td>\n",
       "      <td>$7.92</td>\n",
       "      <td>259.77</td>\n",
       "      <td>175.49</td>\n",
       "      <td>1.387211e+11</td>\n",
       "      <td>9.048000e+09</td>\n",
       "      <td>4.390271</td>\n",
       "      <td>11.34</td>\n",
       "      <td>http://www.sec.gov/cgi-bin/browse-edgar?action...</td>\n",
       "    </tr>\n",
       "    <tr>\n",
       "      <th>2</th>\n",
       "      <td>ABT</td>\n",
       "      <td>Abbott Laboratories</td>\n",
       "      <td>Health Care</td>\n",
       "      <td>56.27</td>\n",
       "      <td>22.51</td>\n",
       "      <td>1.908982</td>\n",
       "      <td>0.26</td>\n",
       "      <td>64.60</td>\n",
       "      <td>42.28</td>\n",
       "      <td>1.021210e+11</td>\n",
       "      <td>5.744000e+09</td>\n",
       "      <td>3.740480</td>\n",
       "      <td>3.19</td>\n",
       "      <td>http://www.sec.gov/cgi-bin/browse-edgar?action...</td>\n",
       "    </tr>\n",
       "    <tr>\n",
       "      <th>3</th>\n",
       "      <td>ABBV</td>\n",
       "      <td>AbbVie Inc.</td>\n",
       "      <td>Health Care</td>\n",
       "      <td>108.48</td>\n",
       "      <td>19.41</td>\n",
       "      <td>2.499560</td>\n",
       "      <td>3.29</td>\n",
       "      <td>125.86</td>\n",
       "      <td>60.05</td>\n",
       "      <td>1.813863e+11</td>\n",
       "      <td>1.031000e+10</td>\n",
       "      <td>6.291571</td>\n",
       "      <td>26.14</td>\n",
       "      <td>http://www.sec.gov/cgi-bin/browse-edgar?action...</td>\n",
       "    </tr>\n",
       "  </tbody>\n",
       "</table>\n",
       "</div>"
      ],
      "text/plain": [
       "  symbol                 name       sector   price  price_per_earnings  \\\n",
       "0    MMM           3M Company  Industrials  222.89               24.31   \n",
       "2    ABT  Abbott Laboratories  Health Care   56.27               22.51   \n",
       "3   ABBV          AbbVie Inc.  Health Care  108.48               19.41   \n",
       "\n",
       "   dividend_yield earnings_per_share  52_week_low  52_week_high    market_cap  \\\n",
       "0        2.332862              $7.92       259.77        175.49  1.387211e+11   \n",
       "2        1.908982               0.26        64.60         42.28  1.021210e+11   \n",
       "3        2.499560               3.29       125.86         60.05  1.813863e+11   \n",
       "\n",
       "         ebitda  price_per_sales  price_per_book  \\\n",
       "0  9.048000e+09         4.390271           11.34   \n",
       "2  5.744000e+09         3.740480            3.19   \n",
       "3  1.031000e+10         6.291571           26.14   \n",
       "\n",
       "                                         sec_filings  \n",
       "0  http://www.sec.gov/cgi-bin/browse-edgar?action...  \n",
       "2  http://www.sec.gov/cgi-bin/browse-edgar?action...  \n",
       "3  http://www.sec.gov/cgi-bin/browse-edgar?action...  "
      ]
     },
     "execution_count": 274,
     "metadata": {},
     "output_type": "execute_result"
    }
   ],
   "source": [
    "stock.iloc[:3]"
   ]
  },
  {
   "cell_type": "code",
   "execution_count": 273,
   "metadata": {},
   "outputs": [
    {
     "data": {
      "text/plain": [
       "symbol                                                              ZTS\n",
       "name                                                             Zoetis\n",
       "sector                                                      Health Care\n",
       "price                                                             71.51\n",
       "price_per_earnings                                                 32.8\n",
       "dividend_yield                                                 0.682372\n",
       "earnings_per_share                                                 1.65\n",
       "52_week_low                                                       80.13\n",
       "52_week_high                                                         52\n",
       "market_cap                                                  3.59911e+10\n",
       "ebitda                                                        1.734e+09\n",
       "price_per_sales                                                  9.2809\n",
       "price_per_book                                                    18.09\n",
       "sec_filings           http://www.sec.gov/cgi-bin/browse-edgar?action...\n",
       "Name: 503, dtype: object"
      ]
     },
     "execution_count": 273,
     "metadata": {},
     "output_type": "execute_result"
    }
   ],
   "source": [
    "# last column\n",
    "stock.iloc[-1]"
   ]
  },
  {
   "cell_type": "code",
   "execution_count": 275,
   "metadata": {},
   "outputs": [
    {
     "data": {
      "text/html": [
       "<div>\n",
       "<style scoped>\n",
       "    .dataframe tbody tr th:only-of-type {\n",
       "        vertical-align: middle;\n",
       "    }\n",
       "\n",
       "    .dataframe tbody tr th {\n",
       "        vertical-align: top;\n",
       "    }\n",
       "\n",
       "    .dataframe thead th {\n",
       "        text-align: right;\n",
       "    }\n",
       "</style>\n",
       "<table border=\"1\" class=\"dataframe\">\n",
       "  <thead>\n",
       "    <tr style=\"text-align: right;\">\n",
       "      <th></th>\n",
       "      <th>symbol</th>\n",
       "      <th>name</th>\n",
       "      <th>sector</th>\n",
       "    </tr>\n",
       "  </thead>\n",
       "  <tbody>\n",
       "    <tr>\n",
       "      <th>0</th>\n",
       "      <td>MMM</td>\n",
       "      <td>3M Company</td>\n",
       "      <td>Industrials</td>\n",
       "    </tr>\n",
       "    <tr>\n",
       "      <th>2</th>\n",
       "      <td>ABT</td>\n",
       "      <td>Abbott Laboratories</td>\n",
       "      <td>Health Care</td>\n",
       "    </tr>\n",
       "  </tbody>\n",
       "</table>\n",
       "</div>"
      ],
      "text/plain": [
       "  symbol                 name       sector\n",
       "0    MMM           3M Company  Industrials\n",
       "2    ABT  Abbott Laboratories  Health Care"
      ]
     },
     "execution_count": 275,
     "metadata": {},
     "output_type": "execute_result"
    }
   ],
   "source": [
    "stock.iloc[:2,:3] # ONLY FIRST 2 ROWS and FIRST 3 COLUMNS"
   ]
  },
  {
   "cell_type": "code",
   "execution_count": 277,
   "metadata": {},
   "outputs": [
    {
     "data": {
      "text/html": [
       "<div>\n",
       "<style scoped>\n",
       "    .dataframe tbody tr th:only-of-type {\n",
       "        vertical-align: middle;\n",
       "    }\n",
       "\n",
       "    .dataframe tbody tr th {\n",
       "        vertical-align: top;\n",
       "    }\n",
       "\n",
       "    .dataframe thead th {\n",
       "        text-align: right;\n",
       "    }\n",
       "</style>\n",
       "<table border=\"1\" class=\"dataframe\">\n",
       "  <thead>\n",
       "    <tr style=\"text-align: right;\">\n",
       "      <th></th>\n",
       "      <th>symbol</th>\n",
       "      <th>price</th>\n",
       "      <th>dividend_yield</th>\n",
       "    </tr>\n",
       "  </thead>\n",
       "  <tbody>\n",
       "    <tr>\n",
       "      <th>0</th>\n",
       "      <td>MMM</td>\n",
       "      <td>222.89</td>\n",
       "      <td>2.332862</td>\n",
       "    </tr>\n",
       "    <tr>\n",
       "      <th>6</th>\n",
       "      <td>ADBE</td>\n",
       "      <td>185.16</td>\n",
       "      <td>0.000000</td>\n",
       "    </tr>\n",
       "    <tr>\n",
       "      <th>10</th>\n",
       "      <td>AET</td>\n",
       "      <td>178.00</td>\n",
       "      <td>1.101989</td>\n",
       "    </tr>\n",
       "    <tr>\n",
       "      <th>28</th>\n",
       "      <td>MO</td>\n",
       "      <td>64.05</td>\n",
       "      <td>3.952688</td>\n",
       "    </tr>\n",
       "  </tbody>\n",
       "</table>\n",
       "</div>"
      ],
      "text/plain": [
       "   symbol   price  dividend_yield\n",
       "0     MMM  222.89        2.332862\n",
       "6    ADBE  185.16        0.000000\n",
       "10    AET  178.00        1.101989\n",
       "28     MO   64.05        3.952688"
      ]
     },
     "execution_count": 277,
     "metadata": {},
     "output_type": "execute_result"
    }
   ],
   "source": [
    "stock.iloc[[0,4,6,21],[0,3,5]] # First part selects which rows and second part selects which columns"
   ]
  },
  {
   "cell_type": "markdown",
   "metadata": {},
   "source": [
    "#### Changing only  particular column within a row by selecting the position"
   ]
  },
  {
   "cell_type": "code",
   "execution_count": 278,
   "metadata": {},
   "outputs": [
    {
     "data": {
      "text/plain": [
       "symbol                                                              MMM\n",
       "name                                                         3M Company\n",
       "sector                                                      Industrials\n",
       "price                                                               321\n",
       "price_per_earnings                                                24.31\n",
       "dividend_yield                                                  2.33286\n",
       "earnings_per_share                                                $7.92\n",
       "52_week_low                                                      259.77\n",
       "52_week_high                                                     175.49\n",
       "market_cap                                                  1.38721e+11\n",
       "ebitda                                                        9.048e+09\n",
       "price_per_sales                                                 4.39027\n",
       "price_per_book                                                    11.34\n",
       "sec_filings           http://www.sec.gov/cgi-bin/browse-edgar?action...\n",
       "Name: 0, dtype: object"
      ]
     },
     "execution_count": 278,
     "metadata": {},
     "output_type": "execute_result"
    }
   ],
   "source": [
    "stock.iloc[0, stock.columns.get_loc('price')] = 321\n",
    "stock.iloc[0]"
   ]
  },
  {
   "cell_type": "markdown",
   "metadata": {},
   "source": [
    "<br>"
   ]
  },
  {
   "cell_type": "code",
   "execution_count": 280,
   "metadata": {},
   "outputs": [
    {
     "data": {
      "text/html": [
       "<div>\n",
       "<style scoped>\n",
       "    .dataframe tbody tr th:only-of-type {\n",
       "        vertical-align: middle;\n",
       "    }\n",
       "\n",
       "    .dataframe tbody tr th {\n",
       "        vertical-align: top;\n",
       "    }\n",
       "\n",
       "    .dataframe thead th {\n",
       "        text-align: right;\n",
       "    }\n",
       "</style>\n",
       "<table border=\"1\" class=\"dataframe\">\n",
       "  <thead>\n",
       "    <tr style=\"text-align: right;\">\n",
       "      <th></th>\n",
       "      <th>symbol</th>\n",
       "      <th>name</th>\n",
       "      <th>sector</th>\n",
       "      <th>price</th>\n",
       "      <th>price_per_earnings</th>\n",
       "      <th>dividend_yield</th>\n",
       "      <th>earnings_per_share</th>\n",
       "      <th>52_week_low</th>\n",
       "      <th>52_week_high</th>\n",
       "      <th>market_cap</th>\n",
       "      <th>ebitda</th>\n",
       "      <th>price_per_sales</th>\n",
       "      <th>price_per_book</th>\n",
       "      <th>sec_filings</th>\n",
       "    </tr>\n",
       "    <tr>\n",
       "      <th>price</th>\n",
       "      <th></th>\n",
       "      <th></th>\n",
       "      <th></th>\n",
       "      <th></th>\n",
       "      <th></th>\n",
       "      <th></th>\n",
       "      <th></th>\n",
       "      <th></th>\n",
       "      <th></th>\n",
       "      <th></th>\n",
       "      <th></th>\n",
       "      <th></th>\n",
       "      <th></th>\n",
       "      <th></th>\n",
       "    </tr>\n",
       "  </thead>\n",
       "  <tbody>\n",
       "    <tr>\n",
       "      <th>321.00</th>\n",
       "      <td>MMM</td>\n",
       "      <td>3M Company</td>\n",
       "      <td>Industrials</td>\n",
       "      <td>321.00</td>\n",
       "      <td>24.31</td>\n",
       "      <td>2.332862</td>\n",
       "      <td>$7.92</td>\n",
       "      <td>259.77</td>\n",
       "      <td>175.49</td>\n",
       "      <td>1.387211e+11</td>\n",
       "      <td>9.048000e+09</td>\n",
       "      <td>4.390271</td>\n",
       "      <td>11.34</td>\n",
       "      <td>http://www.sec.gov/cgi-bin/browse-edgar?action...</td>\n",
       "    </tr>\n",
       "    <tr>\n",
       "      <th>56.27</th>\n",
       "      <td>ABT</td>\n",
       "      <td>Abbott Laboratories</td>\n",
       "      <td>Health Care</td>\n",
       "      <td>56.27</td>\n",
       "      <td>22.51</td>\n",
       "      <td>1.908982</td>\n",
       "      <td>0.26</td>\n",
       "      <td>64.60</td>\n",
       "      <td>42.28</td>\n",
       "      <td>1.021210e+11</td>\n",
       "      <td>5.744000e+09</td>\n",
       "      <td>3.740480</td>\n",
       "      <td>3.19</td>\n",
       "      <td>http://www.sec.gov/cgi-bin/browse-edgar?action...</td>\n",
       "    </tr>\n",
       "  </tbody>\n",
       "</table>\n",
       "</div>"
      ],
      "text/plain": [
       "       symbol                 name       sector   price  price_per_earnings  \\\n",
       "price                                                                         \n",
       "321.00    MMM           3M Company  Industrials  321.00               24.31   \n",
       "56.27     ABT  Abbott Laboratories  Health Care   56.27               22.51   \n",
       "\n",
       "        dividend_yield earnings_per_share  52_week_low  52_week_high  \\\n",
       "price                                                                  \n",
       "321.00        2.332862              $7.92       259.77        175.49   \n",
       "56.27         1.908982               0.26        64.60         42.28   \n",
       "\n",
       "          market_cap        ebitda  price_per_sales  price_per_book  \\\n",
       "price                                                                 \n",
       "321.00  1.387211e+11  9.048000e+09         4.390271           11.34   \n",
       "56.27   1.021210e+11  5.744000e+09         3.740480            3.19   \n",
       "\n",
       "                                              sec_filings  \n",
       "price                                                      \n",
       "321.00  http://www.sec.gov/cgi-bin/browse-edgar?action...  \n",
       "56.27   http://www.sec.gov/cgi-bin/browse-edgar?action...  "
      ]
     },
     "execution_count": 280,
     "metadata": {},
     "output_type": "execute_result"
    }
   ],
   "source": [
    "stock = stock.set_index(stock['price'])\n",
    "stock.head(2)"
   ]
  },
  {
   "cell_type": "markdown",
   "metadata": {},
   "source": [
    "<br>"
   ]
  },
  {
   "cell_type": "markdown",
   "metadata": {},
   "source": [
    "### Sorts by the price (e.g. lowest to highest price)"
   ]
  },
  {
   "cell_type": "code",
   "execution_count": 281,
   "metadata": {},
   "outputs": [
    {
     "data": {
      "text/html": [
       "<div>\n",
       "<style scoped>\n",
       "    .dataframe tbody tr th:only-of-type {\n",
       "        vertical-align: middle;\n",
       "    }\n",
       "\n",
       "    .dataframe tbody tr th {\n",
       "        vertical-align: top;\n",
       "    }\n",
       "\n",
       "    .dataframe thead th {\n",
       "        text-align: right;\n",
       "    }\n",
       "</style>\n",
       "<table border=\"1\" class=\"dataframe\">\n",
       "  <thead>\n",
       "    <tr style=\"text-align: right;\">\n",
       "      <th></th>\n",
       "      <th>symbol</th>\n",
       "      <th>name</th>\n",
       "      <th>sector</th>\n",
       "      <th>price</th>\n",
       "      <th>price_per_earnings</th>\n",
       "      <th>dividend_yield</th>\n",
       "      <th>earnings_per_share</th>\n",
       "      <th>52_week_low</th>\n",
       "      <th>52_week_high</th>\n",
       "      <th>market_cap</th>\n",
       "      <th>ebitda</th>\n",
       "      <th>price_per_sales</th>\n",
       "      <th>price_per_book</th>\n",
       "      <th>sec_filings</th>\n",
       "    </tr>\n",
       "    <tr>\n",
       "      <th>price</th>\n",
       "      <th></th>\n",
       "      <th></th>\n",
       "      <th></th>\n",
       "      <th></th>\n",
       "      <th></th>\n",
       "      <th></th>\n",
       "      <th></th>\n",
       "      <th></th>\n",
       "      <th></th>\n",
       "      <th></th>\n",
       "      <th></th>\n",
       "      <th></th>\n",
       "      <th></th>\n",
       "      <th></th>\n",
       "    </tr>\n",
       "  </thead>\n",
       "  <tbody>\n",
       "    <tr>\n",
       "      <th>2.82</th>\n",
       "      <td>CHK</td>\n",
       "      <td>Chesapeake Energy</td>\n",
       "      <td>Energy</td>\n",
       "      <td>2.82</td>\n",
       "      <td>4.70</td>\n",
       "      <td>0.000000</td>\n",
       "      <td>-6.44</td>\n",
       "      <td>6.590</td>\n",
       "      <td>2.80</td>\n",
       "      <td>2.626102e+09</td>\n",
       "      <td>1.470000e+09</td>\n",
       "      <td>0.407652</td>\n",
       "      <td>1.84</td>\n",
       "      <td>http://www.sec.gov/cgi-bin/browse-edgar?action...</td>\n",
       "    </tr>\n",
       "    <tr>\n",
       "      <th>10.43</th>\n",
       "      <td>F</td>\n",
       "      <td>Ford Motor</td>\n",
       "      <td>Consumer Discretionary</td>\n",
       "      <td>10.43</td>\n",
       "      <td>5.89</td>\n",
       "      <td>6.784387</td>\n",
       "      <td>1.9</td>\n",
       "      <td>13.480</td>\n",
       "      <td>10.19</td>\n",
       "      <td>4.241433e+10</td>\n",
       "      <td>9.281000e+09</td>\n",
       "      <td>0.270541</td>\n",
       "      <td>1.26</td>\n",
       "      <td>http://www.sec.gov/cgi-bin/browse-edgar?action...</td>\n",
       "    </tr>\n",
       "    <tr>\n",
       "      <th>11.95</th>\n",
       "      <td>UA</td>\n",
       "      <td>Under Armour Class C</td>\n",
       "      <td>Consumer Discretionary</td>\n",
       "      <td>11.95</td>\n",
       "      <td>29.15</td>\n",
       "      <td>0.000000</td>\n",
       "      <td>0.45</td>\n",
       "      <td>21.805</td>\n",
       "      <td>10.36</td>\n",
       "      <td>5.366629e+09</td>\n",
       "      <td>3.992770e+08</td>\n",
       "      <td>1.473879</td>\n",
       "      <td>2.50</td>\n",
       "      <td>http://www.sec.gov/cgi-bin/browse-edgar?action...</td>\n",
       "    </tr>\n",
       "    <tr>\n",
       "      <th>12.82</th>\n",
       "      <td>RRC</td>\n",
       "      <td>Range Resources Corp.</td>\n",
       "      <td>Energy</td>\n",
       "      <td>12.82</td>\n",
       "      <td>35.61</td>\n",
       "      <td>0.609756</td>\n",
       "      <td>-2.79</td>\n",
       "      <td>34.090</td>\n",
       "      <td>12.70</td>\n",
       "      <td>3.255588e+09</td>\n",
       "      <td>8.200950e+08</td>\n",
       "      <td>1.962434</td>\n",
       "      <td>0.59</td>\n",
       "      <td>http://www.sec.gov/cgi-bin/browse-edgar?action...</td>\n",
       "    </tr>\n",
       "    <tr>\n",
       "      <th>13.14</th>\n",
       "      <td>UAA</td>\n",
       "      <td>Under Armour Class A</td>\n",
       "      <td>Consumer Discretionary</td>\n",
       "      <td>13.14</td>\n",
       "      <td>32.05</td>\n",
       "      <td>0.000000</td>\n",
       "      <td>0.45</td>\n",
       "      <td>23.460</td>\n",
       "      <td>11.40</td>\n",
       "      <td>5.856914e+09</td>\n",
       "      <td>3.992770e+08</td>\n",
       "      <td>1.602308</td>\n",
       "      <td>2.72</td>\n",
       "      <td>http://www.sec.gov/cgi-bin/browse-edgar?action...</td>\n",
       "    </tr>\n",
       "  </tbody>\n",
       "</table>\n",
       "</div>"
      ],
      "text/plain": [
       "      symbol                   name                  sector  price  \\\n",
       "price                                                                \n",
       "2.82     CHK      Chesapeake Energy                  Energy   2.82   \n",
       "10.43      F             Ford Motor  Consumer Discretionary  10.43   \n",
       "11.95     UA   Under Armour Class C  Consumer Discretionary  11.95   \n",
       "12.82    RRC  Range Resources Corp.                  Energy  12.82   \n",
       "13.14    UAA   Under Armour Class A  Consumer Discretionary  13.14   \n",
       "\n",
       "       price_per_earnings  dividend_yield earnings_per_share  52_week_low  \\\n",
       "price                                                                       \n",
       "2.82                 4.70        0.000000              -6.44        6.590   \n",
       "10.43                5.89        6.784387                1.9       13.480   \n",
       "11.95               29.15        0.000000               0.45       21.805   \n",
       "12.82               35.61        0.609756              -2.79       34.090   \n",
       "13.14               32.05        0.000000               0.45       23.460   \n",
       "\n",
       "       52_week_high    market_cap        ebitda  price_per_sales  \\\n",
       "price                                                              \n",
       "2.82           2.80  2.626102e+09  1.470000e+09         0.407652   \n",
       "10.43         10.19  4.241433e+10  9.281000e+09         0.270541   \n",
       "11.95         10.36  5.366629e+09  3.992770e+08         1.473879   \n",
       "12.82         12.70  3.255588e+09  8.200950e+08         1.962434   \n",
       "13.14         11.40  5.856914e+09  3.992770e+08         1.602308   \n",
       "\n",
       "       price_per_book                                        sec_filings  \n",
       "price                                                                     \n",
       "2.82             1.84  http://www.sec.gov/cgi-bin/browse-edgar?action...  \n",
       "10.43            1.26  http://www.sec.gov/cgi-bin/browse-edgar?action...  \n",
       "11.95            2.50  http://www.sec.gov/cgi-bin/browse-edgar?action...  \n",
       "12.82            0.59  http://www.sec.gov/cgi-bin/browse-edgar?action...  \n",
       "13.14            2.72  http://www.sec.gov/cgi-bin/browse-edgar?action...  "
      ]
     },
     "execution_count": 281,
     "metadata": {},
     "output_type": "execute_result"
    }
   ],
   "source": [
    "stock = stock.sort_index()\n",
    "stock.head()"
   ]
  },
  {
   "cell_type": "code",
   "execution_count": 284,
   "metadata": {},
   "outputs": [
    {
     "data": {
      "text/plain": [
       "symbol                                                              UAA\n",
       "name                                               Under Armour Class A\n",
       "sector                                           Consumer Discretionary\n",
       "price                                                             13.14\n",
       "price_per_earnings                                                32.05\n",
       "dividend_yield                                                        0\n",
       "earnings_per_share                                                 0.45\n",
       "52_week_low                                                       23.46\n",
       "52_week_high                                                       11.4\n",
       "market_cap                                                  5.85691e+09\n",
       "ebitda                                                      3.99277e+08\n",
       "price_per_sales                                                 1.60231\n",
       "price_per_book                                                     2.72\n",
       "sec_filings           http://www.sec.gov/cgi-bin/browse-edgar?action...\n",
       "Name: 13.14, dtype: object"
      ]
     },
     "execution_count": 284,
     "metadata": {},
     "output_type": "execute_result"
    }
   ],
   "source": [
    "stock.loc[13.14] #IF THIS WAS A STRING YOU USE ['STEVE']"
   ]
  },
  {
   "cell_type": "code",
   "execution_count": 285,
   "metadata": {},
   "outputs": [
    {
     "data": {
      "text/html": [
       "<div>\n",
       "<style scoped>\n",
       "    .dataframe tbody tr th:only-of-type {\n",
       "        vertical-align: middle;\n",
       "    }\n",
       "\n",
       "    .dataframe tbody tr th {\n",
       "        vertical-align: top;\n",
       "    }\n",
       "\n",
       "    .dataframe thead th {\n",
       "        text-align: right;\n",
       "    }\n",
       "</style>\n",
       "<table border=\"1\" class=\"dataframe\">\n",
       "  <thead>\n",
       "    <tr style=\"text-align: right;\">\n",
       "      <th></th>\n",
       "      <th>symbol</th>\n",
       "      <th>name</th>\n",
       "      <th>sector</th>\n",
       "      <th>price</th>\n",
       "      <th>price_per_earnings</th>\n",
       "      <th>dividend_yield</th>\n",
       "      <th>earnings_per_share</th>\n",
       "      <th>52_week_low</th>\n",
       "      <th>52_week_high</th>\n",
       "      <th>market_cap</th>\n",
       "      <th>ebitda</th>\n",
       "      <th>price_per_sales</th>\n",
       "      <th>price_per_book</th>\n",
       "      <th>sec_filings</th>\n",
       "    </tr>\n",
       "    <tr>\n",
       "      <th>price</th>\n",
       "      <th></th>\n",
       "      <th></th>\n",
       "      <th></th>\n",
       "      <th></th>\n",
       "      <th></th>\n",
       "      <th></th>\n",
       "      <th></th>\n",
       "      <th></th>\n",
       "      <th></th>\n",
       "      <th></th>\n",
       "      <th></th>\n",
       "      <th></th>\n",
       "      <th></th>\n",
       "      <th></th>\n",
       "    </tr>\n",
       "  </thead>\n",
       "  <tbody>\n",
       "    <tr>\n",
       "      <th>11.95</th>\n",
       "      <td>UA</td>\n",
       "      <td>Under Armour Class C</td>\n",
       "      <td>Consumer Discretionary</td>\n",
       "      <td>11.95</td>\n",
       "      <td>29.15</td>\n",
       "      <td>0.000000</td>\n",
       "      <td>0.45</td>\n",
       "      <td>21.805</td>\n",
       "      <td>10.36</td>\n",
       "      <td>5.366629e+09</td>\n",
       "      <td>399277000.0</td>\n",
       "      <td>1.473879</td>\n",
       "      <td>2.50</td>\n",
       "      <td>http://www.sec.gov/cgi-bin/browse-edgar?action...</td>\n",
       "    </tr>\n",
       "    <tr>\n",
       "      <th>12.82</th>\n",
       "      <td>RRC</td>\n",
       "      <td>Range Resources Corp.</td>\n",
       "      <td>Energy</td>\n",
       "      <td>12.82</td>\n",
       "      <td>35.61</td>\n",
       "      <td>0.609756</td>\n",
       "      <td>-2.79</td>\n",
       "      <td>34.090</td>\n",
       "      <td>12.70</td>\n",
       "      <td>3.255588e+09</td>\n",
       "      <td>820095000.0</td>\n",
       "      <td>1.962434</td>\n",
       "      <td>0.59</td>\n",
       "      <td>http://www.sec.gov/cgi-bin/browse-edgar?action...</td>\n",
       "    </tr>\n",
       "    <tr>\n",
       "      <th>13.14</th>\n",
       "      <td>UAA</td>\n",
       "      <td>Under Armour Class A</td>\n",
       "      <td>Consumer Discretionary</td>\n",
       "      <td>13.14</td>\n",
       "      <td>32.05</td>\n",
       "      <td>0.000000</td>\n",
       "      <td>0.45</td>\n",
       "      <td>23.460</td>\n",
       "      <td>11.40</td>\n",
       "      <td>5.856914e+09</td>\n",
       "      <td>399277000.0</td>\n",
       "      <td>1.602308</td>\n",
       "      <td>2.72</td>\n",
       "      <td>http://www.sec.gov/cgi-bin/browse-edgar?action...</td>\n",
       "    </tr>\n",
       "  </tbody>\n",
       "</table>\n",
       "</div>"
      ],
      "text/plain": [
       "      symbol                   name                  sector  price  \\\n",
       "price                                                                \n",
       "11.95     UA   Under Armour Class C  Consumer Discretionary  11.95   \n",
       "12.82    RRC  Range Resources Corp.                  Energy  12.82   \n",
       "13.14    UAA   Under Armour Class A  Consumer Discretionary  13.14   \n",
       "\n",
       "       price_per_earnings  dividend_yield earnings_per_share  52_week_low  \\\n",
       "price                                                                       \n",
       "11.95               29.15        0.000000               0.45       21.805   \n",
       "12.82               35.61        0.609756              -2.79       34.090   \n",
       "13.14               32.05        0.000000               0.45       23.460   \n",
       "\n",
       "       52_week_high    market_cap       ebitda  price_per_sales  \\\n",
       "price                                                             \n",
       "11.95         10.36  5.366629e+09  399277000.0         1.473879   \n",
       "12.82         12.70  3.255588e+09  820095000.0         1.962434   \n",
       "13.14         11.40  5.856914e+09  399277000.0         1.602308   \n",
       "\n",
       "       price_per_book                                        sec_filings  \n",
       "price                                                                     \n",
       "11.95            2.50  http://www.sec.gov/cgi-bin/browse-edgar?action...  \n",
       "12.82            0.59  http://www.sec.gov/cgi-bin/browse-edgar?action...  \n",
       "13.14            2.72  http://www.sec.gov/cgi-bin/browse-edgar?action...  "
      ]
     },
     "execution_count": 285,
     "metadata": {},
     "output_type": "execute_result"
    }
   ],
   "source": [
    "stock.loc[11.95:13.14] #EVERYTHING IN BETWEEN IF IT WAS NAMES IT WOULD TAKE names with \"A\" to \"T\" for example..."
   ]
  },
  {
   "cell_type": "markdown",
   "metadata": {},
   "source": [
    "<br>"
   ]
  },
  {
   "cell_type": "markdown",
   "metadata": {},
   "source": [
    "<br>"
   ]
  },
  {
   "cell_type": "markdown",
   "metadata": {},
   "source": [
    "#### TO ONLY SEE ONE THING ... EG ONLY ENERGY SECTOR .......... can use 'and' to add 2 conditions"
   ]
  },
  {
   "cell_type": "code",
   "execution_count": 286,
   "metadata": {},
   "outputs": [
    {
     "data": {
      "text/html": [
       "<div>\n",
       "<style scoped>\n",
       "    .dataframe tbody tr th:only-of-type {\n",
       "        vertical-align: middle;\n",
       "    }\n",
       "\n",
       "    .dataframe tbody tr th {\n",
       "        vertical-align: top;\n",
       "    }\n",
       "\n",
       "    .dataframe thead th {\n",
       "        text-align: right;\n",
       "    }\n",
       "</style>\n",
       "<table border=\"1\" class=\"dataframe\">\n",
       "  <thead>\n",
       "    <tr style=\"text-align: right;\">\n",
       "      <th></th>\n",
       "      <th>symbol</th>\n",
       "      <th>name</th>\n",
       "      <th>sector</th>\n",
       "      <th>price</th>\n",
       "      <th>price_per_earnings</th>\n",
       "      <th>dividend_yield</th>\n",
       "      <th>earnings_per_share</th>\n",
       "      <th>52_week_low</th>\n",
       "      <th>52_week_high</th>\n",
       "      <th>market_cap</th>\n",
       "      <th>ebitda</th>\n",
       "      <th>price_per_sales</th>\n",
       "      <th>price_per_book</th>\n",
       "      <th>sec_filings</th>\n",
       "    </tr>\n",
       "    <tr>\n",
       "      <th>price</th>\n",
       "      <th></th>\n",
       "      <th></th>\n",
       "      <th></th>\n",
       "      <th></th>\n",
       "      <th></th>\n",
       "      <th></th>\n",
       "      <th></th>\n",
       "      <th></th>\n",
       "      <th></th>\n",
       "      <th></th>\n",
       "      <th></th>\n",
       "      <th></th>\n",
       "      <th></th>\n",
       "      <th></th>\n",
       "    </tr>\n",
       "  </thead>\n",
       "  <tbody>\n",
       "    <tr>\n",
       "      <th>2.82</th>\n",
       "      <td>CHK</td>\n",
       "      <td>Chesapeake Energy</td>\n",
       "      <td>Energy</td>\n",
       "      <td>2.82</td>\n",
       "      <td>4.70</td>\n",
       "      <td>0.000000</td>\n",
       "      <td>-6.44</td>\n",
       "      <td>6.59</td>\n",
       "      <td>2.800</td>\n",
       "      <td>2.626102e+09</td>\n",
       "      <td>1.470000e+09</td>\n",
       "      <td>0.407652</td>\n",
       "      <td>1.84</td>\n",
       "      <td>http://www.sec.gov/cgi-bin/browse-edgar?action...</td>\n",
       "    </tr>\n",
       "    <tr>\n",
       "      <th>12.82</th>\n",
       "      <td>RRC</td>\n",
       "      <td>Range Resources Corp.</td>\n",
       "      <td>Energy</td>\n",
       "      <td>12.82</td>\n",
       "      <td>35.61</td>\n",
       "      <td>0.609756</td>\n",
       "      <td>-2.79</td>\n",
       "      <td>34.09</td>\n",
       "      <td>12.700</td>\n",
       "      <td>3.255588e+09</td>\n",
       "      <td>8.200950e+08</td>\n",
       "      <td>1.962434</td>\n",
       "      <td>0.59</td>\n",
       "      <td>http://www.sec.gov/cgi-bin/browse-edgar?action...</td>\n",
       "    </tr>\n",
       "    <tr>\n",
       "      <th>16.80</th>\n",
       "      <td>KMI</td>\n",
       "      <td>Kinder Morgan</td>\n",
       "      <td>Energy</td>\n",
       "      <td>16.80</td>\n",
       "      <td>25.07</td>\n",
       "      <td>2.891845</td>\n",
       "      <td>0.01</td>\n",
       "      <td>22.75</td>\n",
       "      <td>16.560</td>\n",
       "      <td>3.861271e+10</td>\n",
       "      <td>5.981000e+09</td>\n",
       "      <td>2.823936</td>\n",
       "      <td>1.07</td>\n",
       "      <td>http://www.sec.gov/cgi-bin/browse-edgar?action...</td>\n",
       "    </tr>\n",
       "    <tr>\n",
       "      <th>23.01</th>\n",
       "      <td>COG</td>\n",
       "      <td>Cabot Oil &amp; Gas</td>\n",
       "      <td>Energy</td>\n",
       "      <td>23.01</td>\n",
       "      <td>60.55</td>\n",
       "      <td>1.026958</td>\n",
       "      <td>-0.92</td>\n",
       "      <td>29.57</td>\n",
       "      <td>21.400</td>\n",
       "      <td>1.080882e+10</td>\n",
       "      <td>4.049510e+08</td>\n",
       "      <td>8.636729</td>\n",
       "      <td>4.21</td>\n",
       "      <td>http://www.sec.gov/cgi-bin/browse-edgar?action...</td>\n",
       "    </tr>\n",
       "    <tr>\n",
       "      <th>25.43</th>\n",
       "      <td>NBL</td>\n",
       "      <td>Noble Energy Inc</td>\n",
       "      <td>Energy</td>\n",
       "      <td>25.43</td>\n",
       "      <td>105.96</td>\n",
       "      <td>1.477105</td>\n",
       "      <td>-2.32</td>\n",
       "      <td>39.60</td>\n",
       "      <td>22.985</td>\n",
       "      <td>1.317733e+10</td>\n",
       "      <td>-5.180000e+08</td>\n",
       "      <td>4.697645</td>\n",
       "      <td>1.44</td>\n",
       "      <td>http://www.sec.gov/cgi-bin/browse-edgar?action...</td>\n",
       "    </tr>\n",
       "  </tbody>\n",
       "</table>\n",
       "</div>"
      ],
      "text/plain": [
       "      symbol                   name  sector  price  price_per_earnings  \\\n",
       "price                                                                    \n",
       "2.82     CHK      Chesapeake Energy  Energy   2.82                4.70   \n",
       "12.82    RRC  Range Resources Corp.  Energy  12.82               35.61   \n",
       "16.80    KMI          Kinder Morgan  Energy  16.80               25.07   \n",
       "23.01    COG        Cabot Oil & Gas  Energy  23.01               60.55   \n",
       "25.43    NBL       Noble Energy Inc  Energy  25.43              105.96   \n",
       "\n",
       "       dividend_yield earnings_per_share  52_week_low  52_week_high  \\\n",
       "price                                                                 \n",
       "2.82         0.000000              -6.44         6.59         2.800   \n",
       "12.82        0.609756              -2.79        34.09        12.700   \n",
       "16.80        2.891845               0.01        22.75        16.560   \n",
       "23.01        1.026958              -0.92        29.57        21.400   \n",
       "25.43        1.477105              -2.32        39.60        22.985   \n",
       "\n",
       "         market_cap        ebitda  price_per_sales  price_per_book  \\\n",
       "price                                                                \n",
       "2.82   2.626102e+09  1.470000e+09         0.407652            1.84   \n",
       "12.82  3.255588e+09  8.200950e+08         1.962434            0.59   \n",
       "16.80  3.861271e+10  5.981000e+09         2.823936            1.07   \n",
       "23.01  1.080882e+10  4.049510e+08         8.636729            4.21   \n",
       "25.43  1.317733e+10 -5.180000e+08         4.697645            1.44   \n",
       "\n",
       "                                             sec_filings  \n",
       "price                                                     \n",
       "2.82   http://www.sec.gov/cgi-bin/browse-edgar?action...  \n",
       "12.82  http://www.sec.gov/cgi-bin/browse-edgar?action...  \n",
       "16.80  http://www.sec.gov/cgi-bin/browse-edgar?action...  \n",
       "23.01  http://www.sec.gov/cgi-bin/browse-edgar?action...  \n",
       "25.43  http://www.sec.gov/cgi-bin/browse-edgar?action...  "
      ]
     },
     "execution_count": 286,
     "metadata": {},
     "output_type": "execute_result"
    }
   ],
   "source": [
    "stock.loc[stock['sector']==\"Energy\"].head(5)"
   ]
  },
  {
   "cell_type": "markdown",
   "metadata": {},
   "source": [
    "#### Modify "
   ]
  },
  {
   "cell_type": "code",
   "execution_count": 287,
   "metadata": {},
   "outputs": [
    {
     "data": {
      "text/plain": [
       "symbol                                                              KMI\n",
       "name                                                      Kinder Morgan\n",
       "sector                                                           Energy\n",
       "price                                                              16.8\n",
       "price_per_earnings                                                25.07\n",
       "dividend_yield                                                  2.89184\n",
       "earnings_per_share                                                 0.01\n",
       "52_week_low                                                       22.75\n",
       "52_week_high                                                      16.56\n",
       "market_cap                                                  3.86127e+10\n",
       "ebitda                                                        5.981e+09\n",
       "price_per_sales                                                 2.82394\n",
       "price_per_book                                                     1.07\n",
       "sec_filings           http://www.sec.gov/cgi-bin/browse-edgar?action...\n",
       "Name: 16.8, dtype: object"
      ]
     },
     "execution_count": 287,
     "metadata": {},
     "output_type": "execute_result"
    }
   ],
   "source": [
    "stock.loc[16.80]"
   ]
  },
  {
   "cell_type": "markdown",
   "metadata": {},
   "source": [
    "<br>"
   ]
  },
  {
   "cell_type": "markdown",
   "metadata": {},
   "source": [
    "Changing the price to earnings value by entering first the \"ROW\" we want, and then the column in the second part of the comma space"
   ]
  },
  {
   "cell_type": "code",
   "execution_count": 288,
   "metadata": {},
   "outputs": [
    {
     "data": {
      "text/plain": [
       "symbol                                                              KMI\n",
       "name                                                      Kinder Morgan\n",
       "sector                                                           Energy\n",
       "price                                                              16.8\n",
       "price_per_earnings                                                 9999\n",
       "dividend_yield                                                  2.89184\n",
       "earnings_per_share                                                 0.01\n",
       "52_week_low                                                       22.75\n",
       "52_week_high                                                      16.56\n",
       "market_cap                                                  3.86127e+10\n",
       "ebitda                                                        5.981e+09\n",
       "price_per_sales                                                 2.82394\n",
       "price_per_book                                                     1.07\n",
       "sec_filings           http://www.sec.gov/cgi-bin/browse-edgar?action...\n",
       "Name: 16.8, dtype: object"
      ]
     },
     "execution_count": 288,
     "metadata": {},
     "output_type": "execute_result"
    }
   ],
   "source": [
    "stock.loc[16.80, \"price_per_earnings\"] = 9999\n",
    "stock.loc[16.80]"
   ]
  },
  {
   "cell_type": "markdown",
   "metadata": {},
   "source": [
    "<br>"
   ]
  },
  {
   "cell_type": "markdown",
   "metadata": {},
   "source": [
    "### Task 3"
   ]
  },
  {
   "cell_type": "code",
   "execution_count": 290,
   "metadata": {},
   "outputs": [
    {
     "data": {
      "text/html": [
       "<div>\n",
       "<style scoped>\n",
       "    .dataframe tbody tr th:only-of-type {\n",
       "        vertical-align: middle;\n",
       "    }\n",
       "\n",
       "    .dataframe tbody tr th {\n",
       "        vertical-align: top;\n",
       "    }\n",
       "\n",
       "    .dataframe thead th {\n",
       "        text-align: right;\n",
       "    }\n",
       "</style>\n",
       "<table border=\"1\" class=\"dataframe\">\n",
       "  <thead>\n",
       "    <tr style=\"text-align: right;\">\n",
       "      <th></th>\n",
       "      <th>loan_amnt</th>\n",
       "      <th>funded_amnt</th>\n",
       "      <th>funded_amnt_inv</th>\n",
       "      <th>term</th>\n",
       "      <th>int_rate</th>\n",
       "      <th>installment</th>\n",
       "      <th>grade</th>\n",
       "      <th>sub_grade</th>\n",
       "      <th>emp_title</th>\n",
       "      <th>emp_length</th>\n",
       "      <th>home_ownership</th>\n",
       "      <th>annual_inc</th>\n",
       "      <th>verification_status</th>\n",
       "      <th>issue_d</th>\n",
       "      <th>loan_status</th>\n",
       "      <th>pymnt_plan</th>\n",
       "      <th>purpose</th>\n",
       "    </tr>\n",
       "  </thead>\n",
       "  <tbody>\n",
       "    <tr>\n",
       "      <th>0</th>\n",
       "      <td>10000</td>\n",
       "      <td>10000</td>\n",
       "      <td>10000.0</td>\n",
       "      <td>36 months</td>\n",
       "      <td>0.1033</td>\n",
       "      <td>324.23</td>\n",
       "      <td>B</td>\n",
       "      <td>B1</td>\n",
       "      <td>NaN</td>\n",
       "      <td>&lt; 1 year</td>\n",
       "      <td>MORTGAGE</td>\n",
       "      <td>280000.0</td>\n",
       "      <td>Not Verified</td>\n",
       "      <td>Dec-18</td>\n",
       "      <td>Current</td>\n",
       "      <td>n</td>\n",
       "      <td>debt_consolidation</td>\n",
       "    </tr>\n",
       "    <tr>\n",
       "      <th>1</th>\n",
       "      <td>4000</td>\n",
       "      <td>4000</td>\n",
       "      <td>4000.0</td>\n",
       "      <td>36 months</td>\n",
       "      <td>0.2340</td>\n",
       "      <td>155.68</td>\n",
       "      <td>E</td>\n",
       "      <td>E1</td>\n",
       "      <td>Security</td>\n",
       "      <td>3 years</td>\n",
       "      <td>RENT</td>\n",
       "      <td>90000.0</td>\n",
       "      <td>Source Verified</td>\n",
       "      <td>Dec-18</td>\n",
       "      <td>Current</td>\n",
       "      <td>n</td>\n",
       "      <td>debt_consolidation</td>\n",
       "    </tr>\n",
       "    <tr>\n",
       "      <th>2</th>\n",
       "      <td>5000</td>\n",
       "      <td>5000</td>\n",
       "      <td>5000.0</td>\n",
       "      <td>36 months</td>\n",
       "      <td>0.1797</td>\n",
       "      <td>180.69</td>\n",
       "      <td>D</td>\n",
       "      <td>D1</td>\n",
       "      <td>Administrative</td>\n",
       "      <td>6 years</td>\n",
       "      <td>MORTGAGE</td>\n",
       "      <td>59280.0</td>\n",
       "      <td>Source Verified</td>\n",
       "      <td>Dec-18</td>\n",
       "      <td>Current</td>\n",
       "      <td>n</td>\n",
       "      <td>debt_consolidation</td>\n",
       "    </tr>\n",
       "    <tr>\n",
       "      <th>3</th>\n",
       "      <td>9600</td>\n",
       "      <td>9600</td>\n",
       "      <td>9600.0</td>\n",
       "      <td>36 months</td>\n",
       "      <td>0.1298</td>\n",
       "      <td>323.37</td>\n",
       "      <td>B</td>\n",
       "      <td>B5</td>\n",
       "      <td>NaN</td>\n",
       "      <td>NaN</td>\n",
       "      <td>MORTGAGE</td>\n",
       "      <td>35704.0</td>\n",
       "      <td>Not Verified</td>\n",
       "      <td>Dec-18</td>\n",
       "      <td>Current</td>\n",
       "      <td>n</td>\n",
       "      <td>home_improvement</td>\n",
       "    </tr>\n",
       "    <tr>\n",
       "      <th>4</th>\n",
       "      <td>2500</td>\n",
       "      <td>2500</td>\n",
       "      <td>2500.0</td>\n",
       "      <td>36 months</td>\n",
       "      <td>0.1356</td>\n",
       "      <td>84.92</td>\n",
       "      <td>C</td>\n",
       "      <td>C1</td>\n",
       "      <td>Chef</td>\n",
       "      <td>10+ years</td>\n",
       "      <td>RENT</td>\n",
       "      <td>55000.0</td>\n",
       "      <td>Not Verified</td>\n",
       "      <td>Dec-18</td>\n",
       "      <td>Current</td>\n",
       "      <td>n</td>\n",
       "      <td>debt_consolidation</td>\n",
       "    </tr>\n",
       "  </tbody>\n",
       "</table>\n",
       "</div>"
      ],
      "text/plain": [
       "   loan_amnt  funded_amnt  funded_amnt_inv       term  int_rate  installment  \\\n",
       "0      10000        10000          10000.0  36 months    0.1033       324.23   \n",
       "1       4000         4000           4000.0  36 months    0.2340       155.68   \n",
       "2       5000         5000           5000.0  36 months    0.1797       180.69   \n",
       "3       9600         9600           9600.0  36 months    0.1298       323.37   \n",
       "4       2500         2500           2500.0  36 months    0.1356        84.92   \n",
       "\n",
       "  grade sub_grade       emp_title emp_length home_ownership  annual_inc  \\\n",
       "0     B        B1             NaN   < 1 year       MORTGAGE    280000.0   \n",
       "1     E        E1        Security    3 years           RENT     90000.0   \n",
       "2     D        D1  Administrative    6 years       MORTGAGE     59280.0   \n",
       "3     B        B5             NaN        NaN       MORTGAGE     35704.0   \n",
       "4     C        C1            Chef  10+ years           RENT     55000.0   \n",
       "\n",
       "  verification_status issue_d loan_status pymnt_plan             purpose  \n",
       "0        Not Verified  Dec-18     Current          n  debt_consolidation  \n",
       "1     Source Verified  Dec-18     Current          n  debt_consolidation  \n",
       "2     Source Verified  Dec-18     Current          n  debt_consolidation  \n",
       "3        Not Verified  Dec-18     Current          n    home_improvement  \n",
       "4        Not Verified  Dec-18     Current          n  debt_consolidation  "
      ]
     },
     "execution_count": 290,
     "metadata": {},
     "output_type": "execute_result"
    }
   ],
   "source": [
    "loan = pd.read_csv('loans.csv')\n",
    "loan.head(5)"
   ]
  },
  {
   "cell_type": "code",
   "execution_count": 291,
   "metadata": {},
   "outputs": [
    {
     "data": {
      "text/html": [
       "<div>\n",
       "<style scoped>\n",
       "    .dataframe tbody tr th:only-of-type {\n",
       "        vertical-align: middle;\n",
       "    }\n",
       "\n",
       "    .dataframe tbody tr th {\n",
       "        vertical-align: top;\n",
       "    }\n",
       "\n",
       "    .dataframe thead th {\n",
       "        text-align: right;\n",
       "    }\n",
       "</style>\n",
       "<table border=\"1\" class=\"dataframe\">\n",
       "  <thead>\n",
       "    <tr style=\"text-align: right;\">\n",
       "      <th></th>\n",
       "      <th>loan_amnt</th>\n",
       "      <th>funded_amnt</th>\n",
       "      <th>funded_amnt_inv</th>\n",
       "      <th>int_rate</th>\n",
       "      <th>installment</th>\n",
       "      <th>annual_inc</th>\n",
       "    </tr>\n",
       "  </thead>\n",
       "  <tbody>\n",
       "    <tr>\n",
       "      <th>count</th>\n",
       "      <td>128412.000000</td>\n",
       "      <td>128412.000000</td>\n",
       "      <td>128412.000000</td>\n",
       "      <td>128412.000000</td>\n",
       "      <td>128412.000000</td>\n",
       "      <td>1.284120e+05</td>\n",
       "    </tr>\n",
       "    <tr>\n",
       "      <th>mean</th>\n",
       "      <td>15971.321021</td>\n",
       "      <td>15971.321021</td>\n",
       "      <td>15968.498166</td>\n",
       "      <td>0.129302</td>\n",
       "      <td>463.259353</td>\n",
       "      <td>8.279733e+04</td>\n",
       "    </tr>\n",
       "    <tr>\n",
       "      <th>std</th>\n",
       "      <td>10150.384233</td>\n",
       "      <td>10150.384233</td>\n",
       "      <td>10152.168970</td>\n",
       "      <td>0.050904</td>\n",
       "      <td>285.718256</td>\n",
       "      <td>1.082985e+05</td>\n",
       "    </tr>\n",
       "    <tr>\n",
       "      <th>min</th>\n",
       "      <td>1000.000000</td>\n",
       "      <td>1000.000000</td>\n",
       "      <td>725.000000</td>\n",
       "      <td>0.060000</td>\n",
       "      <td>30.480000</td>\n",
       "      <td>0.000000e+00</td>\n",
       "    </tr>\n",
       "    <tr>\n",
       "      <th>25%</th>\n",
       "      <td>8000.000000</td>\n",
       "      <td>8000.000000</td>\n",
       "      <td>8000.000000</td>\n",
       "      <td>0.084600</td>\n",
       "      <td>253.630000</td>\n",
       "      <td>4.705800e+04</td>\n",
       "    </tr>\n",
       "    <tr>\n",
       "      <th>50%</th>\n",
       "      <td>14000.000000</td>\n",
       "      <td>14000.000000</td>\n",
       "      <td>14000.000000</td>\n",
       "      <td>0.118000</td>\n",
       "      <td>382.905000</td>\n",
       "      <td>6.800000e+04</td>\n",
       "    </tr>\n",
       "    <tr>\n",
       "      <th>75%</th>\n",
       "      <td>21600.000000</td>\n",
       "      <td>21600.000000</td>\n",
       "      <td>21600.000000</td>\n",
       "      <td>0.161400</td>\n",
       "      <td>622.680000</td>\n",
       "      <td>9.900000e+04</td>\n",
       "    </tr>\n",
       "    <tr>\n",
       "      <th>max</th>\n",
       "      <td>40000.000000</td>\n",
       "      <td>40000.000000</td>\n",
       "      <td>40000.000000</td>\n",
       "      <td>0.309900</td>\n",
       "      <td>1618.240000</td>\n",
       "      <td>9.757200e+06</td>\n",
       "    </tr>\n",
       "  </tbody>\n",
       "</table>\n",
       "</div>"
      ],
      "text/plain": [
       "           loan_amnt    funded_amnt  funded_amnt_inv       int_rate  \\\n",
       "count  128412.000000  128412.000000    128412.000000  128412.000000   \n",
       "mean    15971.321021   15971.321021     15968.498166       0.129302   \n",
       "std     10150.384233   10150.384233     10152.168970       0.050904   \n",
       "min      1000.000000    1000.000000       725.000000       0.060000   \n",
       "25%      8000.000000    8000.000000      8000.000000       0.084600   \n",
       "50%     14000.000000   14000.000000     14000.000000       0.118000   \n",
       "75%     21600.000000   21600.000000     21600.000000       0.161400   \n",
       "max     40000.000000   40000.000000     40000.000000       0.309900   \n",
       "\n",
       "         installment    annual_inc  \n",
       "count  128412.000000  1.284120e+05  \n",
       "mean      463.259353  8.279733e+04  \n",
       "std       285.718256  1.082985e+05  \n",
       "min        30.480000  0.000000e+00  \n",
       "25%       253.630000  4.705800e+04  \n",
       "50%       382.905000  6.800000e+04  \n",
       "75%       622.680000  9.900000e+04  \n",
       "max      1618.240000  9.757200e+06  "
      ]
     },
     "execution_count": 291,
     "metadata": {},
     "output_type": "execute_result"
    }
   ],
   "source": [
    "loan.describe()"
   ]
  },
  {
   "cell_type": "code",
   "execution_count": 293,
   "metadata": {},
   "outputs": [],
   "source": [
    "# filtered_df = loan.iloc[:,[positiongs......]]\n",
    "# filtered_df"
   ]
  },
  {
   "cell_type": "code",
   "execution_count": null,
   "metadata": {},
   "outputs": [],
   "source": [
    ".loc[filtered_df['term']==\"36 month\", \"term\"]"
   ]
  },
  {
   "cell_type": "markdown",
   "metadata": {},
   "source": [
    "### !!! Can look at these agian"
   ]
  },
  {
   "cell_type": "markdown",
   "metadata": {},
   "source": [
    "<br><br>"
   ]
  },
  {
   "cell_type": "code",
   "execution_count": 300,
   "metadata": {},
   "outputs": [],
   "source": [
    "ret = pd.read_csv('retty.csv')\n",
    "ret1 = ret.T\n",
    "ret1 = ret1.iloc[5:200, 2:3]"
   ]
  },
  {
   "cell_type": "code",
   "execution_count": 302,
   "metadata": {},
   "outputs": [
    {
     "data": {
      "text/html": [
       "<div>\n",
       "<style scoped>\n",
       "    .dataframe tbody tr th:only-of-type {\n",
       "        vertical-align: middle;\n",
       "    }\n",
       "\n",
       "    .dataframe tbody tr th {\n",
       "        vertical-align: top;\n",
       "    }\n",
       "\n",
       "    .dataframe thead th {\n",
       "        text-align: right;\n",
       "    }\n",
       "</style>\n",
       "<table border=\"1\" class=\"dataframe\">\n",
       "  <thead>\n",
       "    <tr style=\"text-align: right;\">\n",
       "      <th></th>\n",
       "      <th>2</th>\n",
       "    </tr>\n",
       "  </thead>\n",
       "  <tbody>\n",
       "    <tr>\n",
       "      <th>30/09/2000</th>\n",
       "      <td>8</td>\n",
       "    </tr>\n",
       "    <tr>\n",
       "      <th>31/10/2000</th>\n",
       "      <td>6.48148</td>\n",
       "    </tr>\n",
       "    <tr>\n",
       "      <th>30/11/2000</th>\n",
       "      <td>2.4735</td>\n",
       "    </tr>\n",
       "    <tr>\n",
       "      <th>31/12/2000</th>\n",
       "      <td>0</td>\n",
       "    </tr>\n",
       "    <tr>\n",
       "      <th>31/01/2001</th>\n",
       "      <td>7.58621</td>\n",
       "    </tr>\n",
       "  </tbody>\n",
       "</table>\n",
       "</div>"
      ],
      "text/plain": [
       "                  2\n",
       "30/09/2000        8\n",
       "31/10/2000  6.48148\n",
       "30/11/2000   2.4735\n",
       "31/12/2000        0\n",
       "31/01/2001  7.58621"
      ]
     },
     "execution_count": 302,
     "metadata": {},
     "output_type": "execute_result"
    }
   ],
   "source": [
    "ret1.head(5)"
   ]
  },
  {
   "cell_type": "code",
   "execution_count": 303,
   "metadata": {},
   "outputs": [
    {
     "data": {
      "text/plain": [
       "<AxesSubplot:>"
      ]
     },
     "execution_count": 303,
     "metadata": {},
     "output_type": "execute_result"
    },
    {
     "data": {
      "image/png": "[encoded data removed]",
      "text/plain": [
       "<Figure size 432x288 with 1 Axes>"
      ]
     },
     "metadata": {
      "needs_background": "light"
     },
     "output_type": "display_data"
    }
   ],
   "source": [
    "ret1.plot()"
   ]
  },
  {
   "cell_type": "markdown",
   "metadata": {},
   "source": [
    "Setting Date as Index"
   ]
  },
  {
   "cell_type": "code",
   "execution_count": 310,
   "metadata": {},
   "outputs": [],
   "source": [
    "# ret2 = ret1.set_index(pd.to_datetime(ret1['Date'], infer_datetime_format=True))\n",
    "# ret2\n",
    "\n",
    "# THEN CAN DROP THAT DATE COLUMN"
   ]
  },
  {
   "cell_type": "code",
   "execution_count": 315,
   "metadata": {},
   "outputs": [
    {
     "data": {
      "text/plain": [
       "<AxesSubplot:>"
      ]
     },
     "execution_count": 315,
     "metadata": {},
     "output_type": "execute_result"
    },
    {
     "data": {
      "image/png": "[encoded data removed]",
      "text/plain": [
       "<Figure size 1080x216 with 1 Axes>"
      ]
     },
     "metadata": {
      "needs_background": "light"
     },
     "output_type": "display_data"
    }
   ],
   "source": [
    "ret1.plot(kind=\"bar\", figsize =[15,3])"
   ]
  },
  {
   "cell_type": "markdown",
   "metadata": {},
   "source": [
    "### Task 4?"
   ]
  },
  {
   "cell_type": "code",
   "execution_count": 317,
   "metadata": {},
   "outputs": [
    {
     "data": {
      "text/html": [
       "<div>\n",
       "<style scoped>\n",
       "    .dataframe tbody tr th:only-of-type {\n",
       "        vertical-align: middle;\n",
       "    }\n",
       "\n",
       "    .dataframe tbody tr th {\n",
       "        vertical-align: top;\n",
       "    }\n",
       "\n",
       "    .dataframe thead th {\n",
       "        text-align: right;\n",
       "    }\n",
       "</style>\n",
       "<table border=\"1\" class=\"dataframe\">\n",
       "  <thead>\n",
       "    <tr style=\"text-align: right;\">\n",
       "      <th></th>\n",
       "      <th>Symbol</th>\n",
       "      <th>Name</th>\n",
       "      <th>Sector</th>\n",
       "      <th>Price</th>\n",
       "      <th>Price/Earnings</th>\n",
       "      <th>Dividend Yield</th>\n",
       "      <th>Earnings/Share</th>\n",
       "      <th>52 Week Low</th>\n",
       "      <th>52 Week High</th>\n",
       "      <th>Market Cap</th>\n",
       "      <th>EBITDA</th>\n",
       "      <th>Price/Sales</th>\n",
       "      <th>Price/Book</th>\n",
       "      <th>SEC Filings</th>\n",
       "    </tr>\n",
       "  </thead>\n",
       "  <tbody>\n",
       "    <tr>\n",
       "      <th>0</th>\n",
       "      <td>MMM</td>\n",
       "      <td>3M Company</td>\n",
       "      <td>Industrials</td>\n",
       "      <td>222.89</td>\n",
       "      <td>24.31</td>\n",
       "      <td>2.332862</td>\n",
       "      <td>7.92</td>\n",
       "      <td>259.77</td>\n",
       "      <td>175.490</td>\n",
       "      <td>138721055226</td>\n",
       "      <td>9.048000e+09</td>\n",
       "      <td>4.390271</td>\n",
       "      <td>11.34</td>\n",
       "      <td>http://www.sec.gov/cgi-bin/browse-edgar?action...</td>\n",
       "    </tr>\n",
       "    <tr>\n",
       "      <th>1</th>\n",
       "      <td>AOS</td>\n",
       "      <td>A.O. Smith Corp</td>\n",
       "      <td>Industrials</td>\n",
       "      <td>60.24</td>\n",
       "      <td>27.76</td>\n",
       "      <td>1.147959</td>\n",
       "      <td>1.70</td>\n",
       "      <td>68.39</td>\n",
       "      <td>48.925</td>\n",
       "      <td>10783419933</td>\n",
       "      <td>6.010000e+08</td>\n",
       "      <td>3.575483</td>\n",
       "      <td>6.35</td>\n",
       "      <td>http://www.sec.gov/cgi-bin/browse-edgar?action...</td>\n",
       "    </tr>\n",
       "    <tr>\n",
       "      <th>2</th>\n",
       "      <td>ABT</td>\n",
       "      <td>Abbott Laboratories</td>\n",
       "      <td>Health Care</td>\n",
       "      <td>56.27</td>\n",
       "      <td>22.51</td>\n",
       "      <td>1.908982</td>\n",
       "      <td>0.26</td>\n",
       "      <td>64.60</td>\n",
       "      <td>42.280</td>\n",
       "      <td>102121042306</td>\n",
       "      <td>5.744000e+09</td>\n",
       "      <td>3.740480</td>\n",
       "      <td>3.19</td>\n",
       "      <td>http://www.sec.gov/cgi-bin/browse-edgar?action...</td>\n",
       "    </tr>\n",
       "    <tr>\n",
       "      <th>3</th>\n",
       "      <td>ABBV</td>\n",
       "      <td>AbbVie Inc.</td>\n",
       "      <td>Health Care</td>\n",
       "      <td>108.48</td>\n",
       "      <td>19.41</td>\n",
       "      <td>2.499560</td>\n",
       "      <td>3.29</td>\n",
       "      <td>125.86</td>\n",
       "      <td>60.050</td>\n",
       "      <td>181386347059</td>\n",
       "      <td>1.031000e+10</td>\n",
       "      <td>6.291571</td>\n",
       "      <td>26.14</td>\n",
       "      <td>http://www.sec.gov/cgi-bin/browse-edgar?action...</td>\n",
       "    </tr>\n",
       "    <tr>\n",
       "      <th>4</th>\n",
       "      <td>ACN</td>\n",
       "      <td>Accenture plc</td>\n",
       "      <td>Information Technology</td>\n",
       "      <td>150.51</td>\n",
       "      <td>25.47</td>\n",
       "      <td>1.714470</td>\n",
       "      <td>5.44</td>\n",
       "      <td>162.60</td>\n",
       "      <td>114.820</td>\n",
       "      <td>98765855553</td>\n",
       "      <td>5.643228e+09</td>\n",
       "      <td>2.604117</td>\n",
       "      <td>10.62</td>\n",
       "      <td>http://www.sec.gov/cgi-bin/browse-edgar?action...</td>\n",
       "    </tr>\n",
       "    <tr>\n",
       "      <th>...</th>\n",
       "      <td>...</td>\n",
       "      <td>...</td>\n",
       "      <td>...</td>\n",
       "      <td>...</td>\n",
       "      <td>...</td>\n",
       "      <td>...</td>\n",
       "      <td>...</td>\n",
       "      <td>...</td>\n",
       "      <td>...</td>\n",
       "      <td>...</td>\n",
       "      <td>...</td>\n",
       "      <td>...</td>\n",
       "      <td>...</td>\n",
       "      <td>...</td>\n",
       "    </tr>\n",
       "    <tr>\n",
       "      <th>500</th>\n",
       "      <td>XYL</td>\n",
       "      <td>Xylem Inc.</td>\n",
       "      <td>Industrials</td>\n",
       "      <td>70.24</td>\n",
       "      <td>30.94</td>\n",
       "      <td>1.170079</td>\n",
       "      <td>1.83</td>\n",
       "      <td>76.81</td>\n",
       "      <td>46.860</td>\n",
       "      <td>12915021000</td>\n",
       "      <td>7.220000e+08</td>\n",
       "      <td>2.726209</td>\n",
       "      <td>5.31</td>\n",
       "      <td>http://www.sec.gov/cgi-bin/browse-edgar?action...</td>\n",
       "    </tr>\n",
       "    <tr>\n",
       "      <th>501</th>\n",
       "      <td>YUM</td>\n",
       "      <td>Yum! Brands Inc</td>\n",
       "      <td>Consumer Discretionary</td>\n",
       "      <td>76.30</td>\n",
       "      <td>27.25</td>\n",
       "      <td>1.797080</td>\n",
       "      <td>4.07</td>\n",
       "      <td>86.93</td>\n",
       "      <td>62.850</td>\n",
       "      <td>27003303098</td>\n",
       "      <td>2.289000e+09</td>\n",
       "      <td>6.313636</td>\n",
       "      <td>212.08</td>\n",
       "      <td>http://www.sec.gov/cgi-bin/browse-edgar?action...</td>\n",
       "    </tr>\n",
       "    <tr>\n",
       "      <th>502</th>\n",
       "      <td>ZBH</td>\n",
       "      <td>Zimmer Biomet Holdings</td>\n",
       "      <td>Health Care</td>\n",
       "      <td>115.53</td>\n",
       "      <td>14.32</td>\n",
       "      <td>0.794834</td>\n",
       "      <td>9.01</td>\n",
       "      <td>133.49</td>\n",
       "      <td>108.170</td>\n",
       "      <td>24454698119</td>\n",
       "      <td>2.007400e+09</td>\n",
       "      <td>3.164895</td>\n",
       "      <td>2.39</td>\n",
       "      <td>http://www.sec.gov/cgi-bin/browse-edgar?action...</td>\n",
       "    </tr>\n",
       "    <tr>\n",
       "      <th>503</th>\n",
       "      <td>ZION</td>\n",
       "      <td>Zions Bancorp</td>\n",
       "      <td>Financials</td>\n",
       "      <td>50.71</td>\n",
       "      <td>17.73</td>\n",
       "      <td>1.480933</td>\n",
       "      <td>2.60</td>\n",
       "      <td>55.61</td>\n",
       "      <td>38.430</td>\n",
       "      <td>10670678640</td>\n",
       "      <td>0.000000e+00</td>\n",
       "      <td>3.794579</td>\n",
       "      <td>1.42</td>\n",
       "      <td>http://www.sec.gov/cgi-bin/browse-edgar?action...</td>\n",
       "    </tr>\n",
       "    <tr>\n",
       "      <th>504</th>\n",
       "      <td>ZTS</td>\n",
       "      <td>Zoetis</td>\n",
       "      <td>Health Care</td>\n",
       "      <td>71.51</td>\n",
       "      <td>32.80</td>\n",
       "      <td>0.682372</td>\n",
       "      <td>1.65</td>\n",
       "      <td>80.13</td>\n",
       "      <td>52.000</td>\n",
       "      <td>35991109776</td>\n",
       "      <td>1.734000e+09</td>\n",
       "      <td>9.280896</td>\n",
       "      <td>18.09</td>\n",
       "      <td>http://www.sec.gov/cgi-bin/browse-edgar?action...</td>\n",
       "    </tr>\n",
       "  </tbody>\n",
       "</table>\n",
       "<p>505 rows × 14 columns</p>\n",
       "</div>"
      ],
      "text/plain": [
       "    Symbol                    Name                  Sector   Price  \\\n",
       "0      MMM              3M Company             Industrials  222.89   \n",
       "1      AOS         A.O. Smith Corp             Industrials   60.24   \n",
       "2      ABT     Abbott Laboratories             Health Care   56.27   \n",
       "3     ABBV             AbbVie Inc.             Health Care  108.48   \n",
       "4      ACN           Accenture plc  Information Technology  150.51   \n",
       "..     ...                     ...                     ...     ...   \n",
       "500    XYL              Xylem Inc.             Industrials   70.24   \n",
       "501    YUM         Yum! Brands Inc  Consumer Discretionary   76.30   \n",
       "502    ZBH  Zimmer Biomet Holdings             Health Care  115.53   \n",
       "503   ZION           Zions Bancorp              Financials   50.71   \n",
       "504    ZTS                  Zoetis             Health Care   71.51   \n",
       "\n",
       "     Price/Earnings  Dividend Yield  Earnings/Share  52 Week Low  \\\n",
       "0             24.31        2.332862            7.92       259.77   \n",
       "1             27.76        1.147959            1.70        68.39   \n",
       "2             22.51        1.908982            0.26        64.60   \n",
       "3             19.41        2.499560            3.29       125.86   \n",
       "4             25.47        1.714470            5.44       162.60   \n",
       "..              ...             ...             ...          ...   \n",
       "500           30.94        1.170079            1.83        76.81   \n",
       "501           27.25        1.797080            4.07        86.93   \n",
       "502           14.32        0.794834            9.01       133.49   \n",
       "503           17.73        1.480933            2.60        55.61   \n",
       "504           32.80        0.682372            1.65        80.13   \n",
       "\n",
       "     52 Week High    Market Cap        EBITDA  Price/Sales  Price/Book  \\\n",
       "0         175.490  138721055226  9.048000e+09     4.390271       11.34   \n",
       "1          48.925   10783419933  6.010000e+08     3.575483        6.35   \n",
       "2          42.280  102121042306  5.744000e+09     3.740480        3.19   \n",
       "3          60.050  181386347059  1.031000e+10     6.291571       26.14   \n",
       "4         114.820   98765855553  5.643228e+09     2.604117       10.62   \n",
       "..            ...           ...           ...          ...         ...   \n",
       "500        46.860   12915021000  7.220000e+08     2.726209        5.31   \n",
       "501        62.850   27003303098  2.289000e+09     6.313636      212.08   \n",
       "502       108.170   24454698119  2.007400e+09     3.164895        2.39   \n",
       "503        38.430   10670678640  0.000000e+00     3.794579        1.42   \n",
       "504        52.000   35991109776  1.734000e+09     9.280896       18.09   \n",
       "\n",
       "                                           SEC Filings  \n",
       "0    http://www.sec.gov/cgi-bin/browse-edgar?action...  \n",
       "1    http://www.sec.gov/cgi-bin/browse-edgar?action...  \n",
       "2    http://www.sec.gov/cgi-bin/browse-edgar?action...  \n",
       "3    http://www.sec.gov/cgi-bin/browse-edgar?action...  \n",
       "4    http://www.sec.gov/cgi-bin/browse-edgar?action...  \n",
       "..                                                 ...  \n",
       "500  http://www.sec.gov/cgi-bin/browse-edgar?action...  \n",
       "501  http://www.sec.gov/cgi-bin/browse-edgar?action...  \n",
       "502  http://www.sec.gov/cgi-bin/browse-edgar?action...  \n",
       "503  http://www.sec.gov/cgi-bin/browse-edgar?action...  \n",
       "504  http://www.sec.gov/cgi-bin/browse-edgar?action...  \n",
       "\n",
       "[505 rows x 14 columns]"
      ]
     },
     "execution_count": 317,
     "metadata": {},
     "output_type": "execute_result"
    }
   ],
   "source": [
    "price1 = pd.read_csv('sp500_companies.csv')\n",
    "price1"
   ]
  },
  {
   "cell_type": "code",
   "execution_count": 319,
   "metadata": {},
   "outputs": [],
   "source": [
    "sectors = price1['Sector'].value_counts()"
   ]
  },
  {
   "cell_type": "code",
   "execution_count": 321,
   "metadata": {},
   "outputs": [
    {
     "data": {
      "text/plain": [
       "<AxesSubplot:ylabel='Sector'>"
      ]
     },
     "execution_count": 321,
     "metadata": {},
     "output_type": "execute_result"
    },
    {
     "data": {
      "image/png": "[encoded data removed]",
      "text/plain": [
       "<Figure size 720x504 with 1 Axes>"
      ]
     },
     "metadata": {},
     "output_type": "display_data"
    }
   ],
   "source": [
    "sectors.plot(kind=\"pie\", figsize = [10,7])"
   ]
  },
  {
   "cell_type": "code",
   "execution_count": 337,
   "metadata": {},
   "outputs": [
    {
     "data": {
      "text/html": [
       "<div>\n",
       "<style scoped>\n",
       "    .dataframe tbody tr th:only-of-type {\n",
       "        vertical-align: middle;\n",
       "    }\n",
       "\n",
       "    .dataframe tbody tr th {\n",
       "        vertical-align: top;\n",
       "    }\n",
       "\n",
       "    .dataframe thead th {\n",
       "        text-align: right;\n",
       "    }\n",
       "</style>\n",
       "<table border=\"1\" class=\"dataframe\">\n",
       "  <thead>\n",
       "    <tr style=\"text-align: right;\">\n",
       "      <th></th>\n",
       "      <th>Symbol</th>\n",
       "      <th>Market Cap</th>\n",
       "    </tr>\n",
       "  </thead>\n",
       "  <tbody>\n",
       "    <tr>\n",
       "      <th>0</th>\n",
       "      <td>MMM</td>\n",
       "      <td>138721055226</td>\n",
       "    </tr>\n",
       "    <tr>\n",
       "      <th>1</th>\n",
       "      <td>AOS</td>\n",
       "      <td>10783419933</td>\n",
       "    </tr>\n",
       "    <tr>\n",
       "      <th>2</th>\n",
       "      <td>ABT</td>\n",
       "      <td>102121042306</td>\n",
       "    </tr>\n",
       "    <tr>\n",
       "      <th>3</th>\n",
       "      <td>ABBV</td>\n",
       "      <td>181386347059</td>\n",
       "    </tr>\n",
       "    <tr>\n",
       "      <th>4</th>\n",
       "      <td>ACN</td>\n",
       "      <td>98765855553</td>\n",
       "    </tr>\n",
       "    <tr>\n",
       "      <th>...</th>\n",
       "      <td>...</td>\n",
       "      <td>...</td>\n",
       "    </tr>\n",
       "    <tr>\n",
       "      <th>500</th>\n",
       "      <td>XYL</td>\n",
       "      <td>12915021000</td>\n",
       "    </tr>\n",
       "    <tr>\n",
       "      <th>501</th>\n",
       "      <td>YUM</td>\n",
       "      <td>27003303098</td>\n",
       "    </tr>\n",
       "    <tr>\n",
       "      <th>502</th>\n",
       "      <td>ZBH</td>\n",
       "      <td>24454698119</td>\n",
       "    </tr>\n",
       "    <tr>\n",
       "      <th>503</th>\n",
       "      <td>ZION</td>\n",
       "      <td>10670678640</td>\n",
       "    </tr>\n",
       "    <tr>\n",
       "      <th>504</th>\n",
       "      <td>ZTS</td>\n",
       "      <td>35991109776</td>\n",
       "    </tr>\n",
       "  </tbody>\n",
       "</table>\n",
       "<p>505 rows × 2 columns</p>\n",
       "</div>"
      ],
      "text/plain": [
       "    Symbol    Market Cap\n",
       "0      MMM  138721055226\n",
       "1      AOS   10783419933\n",
       "2      ABT  102121042306\n",
       "3     ABBV  181386347059\n",
       "4      ACN   98765855553\n",
       "..     ...           ...\n",
       "500    XYL   12915021000\n",
       "501    YUM   27003303098\n",
       "502    ZBH   24454698119\n",
       "503   ZION   10670678640\n",
       "504    ZTS   35991109776\n",
       "\n",
       "[505 rows x 2 columns]"
      ]
     },
     "execution_count": 337,
     "metadata": {},
     "output_type": "execute_result"
    }
   ],
   "source": [
    "new_df1 = price1.iloc[:,[0, 9]]\n",
    "new_df1"
   ]
  },
  {
   "cell_type": "code",
   "execution_count": 340,
   "metadata": {},
   "outputs": [
    {
     "data": {
      "text/plain": [
       "51     809508034020\n",
       "27     733823966137\n",
       "28     728535558140\n",
       "311    689978437468\n",
       "30     685873374731\n",
       "Name: Market Cap, dtype: int64"
      ]
     },
     "execution_count": 340,
     "metadata": {},
     "output_type": "execute_result"
    }
   ],
   "source": [
    "subset2 = new_df1['Market Cap'].nlargest()\n",
    "subset2"
   ]
  },
  {
   "cell_type": "code",
   "execution_count": 339,
   "metadata": {},
   "outputs": [
    {
     "data": {
      "text/plain": [
       "<AxesSubplot:title={'center':'chicken'}>"
      ]
     },
     "execution_count": 339,
     "metadata": {},
     "output_type": "execute_result"
    },
    {
     "data": {
      "image/png": "[encoded data removed]",
      "text/plain": [
       "<Figure size 432x288 with 1 Axes>"
      ]
     },
     "metadata": {
      "needs_background": "light"
     },
     "output_type": "display_data"
    }
   ],
   "source": [
    "subset2.plot(kind=\"bar\", title = \"chicken\")"
   ]
  },
  {
   "cell_type": "code",
   "execution_count": 328,
   "metadata": {},
   "outputs": [],
   "source": [
    "new_df2 = price1.loc[:,['Price', 'Earnings/Share']]"
   ]
  },
  {
   "cell_type": "code",
   "execution_count": 330,
   "metadata": {},
   "outputs": [
    {
     "data": {
      "text/html": [
       "<div>\n",
       "<style scoped>\n",
       "    .dataframe tbody tr th:only-of-type {\n",
       "        vertical-align: middle;\n",
       "    }\n",
       "\n",
       "    .dataframe tbody tr th {\n",
       "        vertical-align: top;\n",
       "    }\n",
       "\n",
       "    .dataframe thead th {\n",
       "        text-align: right;\n",
       "    }\n",
       "</style>\n",
       "<table border=\"1\" class=\"dataframe\">\n",
       "  <thead>\n",
       "    <tr style=\"text-align: right;\">\n",
       "      <th></th>\n",
       "      <th>Price</th>\n",
       "      <th>Earnings/Share</th>\n",
       "    </tr>\n",
       "  </thead>\n",
       "  <tbody>\n",
       "    <tr>\n",
       "      <th>0</th>\n",
       "      <td>222.89</td>\n",
       "      <td>7.92</td>\n",
       "    </tr>\n",
       "    <tr>\n",
       "      <th>1</th>\n",
       "      <td>60.24</td>\n",
       "      <td>1.70</td>\n",
       "    </tr>\n",
       "    <tr>\n",
       "      <th>2</th>\n",
       "      <td>56.27</td>\n",
       "      <td>0.26</td>\n",
       "    </tr>\n",
       "    <tr>\n",
       "      <th>3</th>\n",
       "      <td>108.48</td>\n",
       "      <td>3.29</td>\n",
       "    </tr>\n",
       "    <tr>\n",
       "      <th>4</th>\n",
       "      <td>150.51</td>\n",
       "      <td>5.44</td>\n",
       "    </tr>\n",
       "    <tr>\n",
       "      <th>...</th>\n",
       "      <td>...</td>\n",
       "      <td>...</td>\n",
       "    </tr>\n",
       "    <tr>\n",
       "      <th>500</th>\n",
       "      <td>70.24</td>\n",
       "      <td>1.83</td>\n",
       "    </tr>\n",
       "    <tr>\n",
       "      <th>501</th>\n",
       "      <td>76.30</td>\n",
       "      <td>4.07</td>\n",
       "    </tr>\n",
       "    <tr>\n",
       "      <th>502</th>\n",
       "      <td>115.53</td>\n",
       "      <td>9.01</td>\n",
       "    </tr>\n",
       "    <tr>\n",
       "      <th>503</th>\n",
       "      <td>50.71</td>\n",
       "      <td>2.60</td>\n",
       "    </tr>\n",
       "    <tr>\n",
       "      <th>504</th>\n",
       "      <td>71.51</td>\n",
       "      <td>1.65</td>\n",
       "    </tr>\n",
       "  </tbody>\n",
       "</table>\n",
       "<p>505 rows × 2 columns</p>\n",
       "</div>"
      ],
      "text/plain": [
       "      Price  Earnings/Share\n",
       "0    222.89            7.92\n",
       "1     60.24            1.70\n",
       "2     56.27            0.26\n",
       "3    108.48            3.29\n",
       "4    150.51            5.44\n",
       "..      ...             ...\n",
       "500   70.24            1.83\n",
       "501   76.30            4.07\n",
       "502  115.53            9.01\n",
       "503   50.71            2.60\n",
       "504   71.51            1.65\n",
       "\n",
       "[505 rows x 2 columns]"
      ]
     },
     "execution_count": 330,
     "metadata": {},
     "output_type": "execute_result"
    }
   ],
   "source": [
    "new_df2"
   ]
  },
  {
   "cell_type": "code",
   "execution_count": 333,
   "metadata": {},
   "outputs": [
    {
     "data": {
      "text/plain": [
       "<AxesSubplot:xlabel='[Earnings/Share]', ylabel='[Price]'>"
      ]
     },
     "execution_count": 333,
     "metadata": {},
     "output_type": "execute_result"
    },
    {
     "data": {
      "image/png": "[encoded data removed]",
      "text/plain": [
       "<Figure size 432x288 with 1 Axes>"
      ]
     },
     "metadata": {
      "needs_background": "light"
     },
     "output_type": "display_data"
    }
   ],
   "source": [
    "new_df2.plot(kind=\"scatter\", x=['Earnings/Share'], y=['Price'])"
   ]
  },
  {
   "cell_type": "markdown",
   "metadata": {},
   "source": [
    "<br>"
   ]
  },
  {
   "cell_type": "markdown",
   "metadata": {},
   "source": [
    "### Returns"
   ]
  },
  {
   "cell_type": "markdown",
   "metadata": {},
   "source": [
    "roi = (current price - initial investment) / initial investment"
   ]
  },
  {
   "cell_type": "markdown",
   "metadata": {},
   "source": [
    "1"
   ]
  },
  {
   "cell_type": "markdown",
   "metadata": {},
   "source": [
    "*----- Shift (1) uses the one above, because we're minusing.... ------*"
   ]
  },
  {
   "cell_type": "markdown",
   "metadata": {},
   "source": [
    "#### To get forward t+1 return, we can do ==> (x.shift(-1) - x ) / x"
   ]
  },
  {
   "cell_type": "code",
   "execution_count": 342,
   "metadata": {},
   "outputs": [],
   "source": [
    "# daily_ret = (x - x.shift(1)) / x.shift(1)\n",
    "# daily_ret.head()"
   ]
  },
  {
   "cell_type": "markdown",
   "metadata": {},
   "source": [
    "2"
   ]
  },
  {
   "cell_type": "code",
   "execution_count": 343,
   "metadata": {},
   "outputs": [],
   "source": [
    "# daily_ret1 = x.pct_change()\n",
    "# daily_ret1.head()"
   ]
  },
  {
   "cell_type": "markdown",
   "metadata": {},
   "source": [
    "Plot"
   ]
  },
  {
   "cell_type": "code",
   "execution_count": 344,
   "metadata": {},
   "outputs": [],
   "source": [
    "# daily_ret.plot(figsize=(10,5))"
   ]
  },
  {
   "cell_type": "markdown",
   "metadata": {},
   "source": [
    "<br>"
   ]
  },
  {
   "cell_type": "markdown",
   "metadata": {},
   "source": [
    "## CUMULATIVE RETURNS"
   ]
  },
  {
   "cell_type": "markdown",
   "metadata": {},
   "source": [
    "#### cum_ret = (1+daily_ret).cumprod() <br>\n",
    "####  cum_ret.head()"
   ]
  },
  {
   "cell_type": "code",
   "execution_count": null,
   "metadata": {},
   "outputs": [],
   "source": [
    "# cum_ret = (1+daily_ret).cumprod()\n",
    "# cum_ret.head()"
   ]
  }
 ],
 "metadata": {
  "kernelspec": {
   "display_name": "Python 3",
   "language": "python",
   "name": "python3"
  },
  "language_info": {
   "codemirror_mode": {
    "name": "ipython",
    "version": 3
   },
   "file_extension": ".py",
   "mimetype": "text/x-python",
   "name": "python",
   "nbconvert_exporter": "python",
   "pygments_lexer": "ipython3",
   "version": "3.8.5"
  }
 },
 "nbformat": 4,
 "nbformat_minor": 4
}
